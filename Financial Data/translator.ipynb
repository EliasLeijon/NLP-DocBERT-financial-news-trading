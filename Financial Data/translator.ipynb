{
 "cells": [
  {
   "cell_type": "code",
   "execution_count": 2,
   "metadata": {},
   "outputs": [],
   "source": [
    "import pandas as pd\n",
    "import pyarrow.parquet as pq\n",
    "import requests\n",
    "import json"
   ]
  },
  {
   "cell_type": "code",
   "execution_count": 3,
   "metadata": {},
   "outputs": [],
   "source": [
    "import os\n",
    "from google.cloud import translate_v2 as translate\n",
    "\n",
    "# Set the path to the service account key file\n",
    "os.environ['GOOGLE_APPLICATION_CREDENTIALS'] = 'tdde09-a46780da2eb6.json'\n",
    "\n",
    "# Initialize the Translate client\n",
    "translate_client = translate.Client()"
   ]
  },
  {
   "cell_type": "markdown",
   "metadata": {},
   "source": [
    "## This code block is used for creating the train data."
   ]
  },
  {
   "cell_type": "code",
   "execution_count": 4,
   "metadata": {},
   "outputs": [],
   "source": [
    "df = pd.read_parquet('train-00000-of-00001.parquet')\n",
    "\n",
    "# Select the columns with the sentences to translate and their corresponding tags\n",
    "sentences = df['text']\n",
    "tags = df['labels']\n",
    "\n",
    "# Define a function to translate each sentence\n",
    "iter = 0\n",
    "def translate_text(text):\n",
    "    try:\n",
    "        result = translate_client.translate(text, source_language='en', target_language='sv')\n",
    "        translated_text = result['translatedText']\n",
    "        return translated_text\n",
    "    except:\n",
    "        return \"Translation Error\"\n",
    "\n",
    "# Apply the translation function to the sentences\n",
    "translated_sentences = sentences.apply(translate_text)\n",
    "\n",
    "# Add the translated sentences and tags to a new dataframe\n",
    "translated_df = pd.DataFrame({\n",
    "    'sentence_column_name': translated_sentences,\n",
    "    'tag_column_name': tags\n",
    "})\n",
    "\n",
    "# Save the translated dataframe to a CSV file\n",
    "translated_df.to_csv('translated_train-00000-of-00001.csv', index=False)"
   ]
  },
  {
   "cell_type": "markdown",
   "metadata": {},
   "source": [
    "## This code block is used for creating the test data"
   ]
  },
  {
   "cell_type": "code",
   "execution_count": 5,
   "metadata": {},
   "outputs": [],
   "source": [
    "df = pd.read_parquet('test-00000-of-00001.parquet')\n",
    "\n",
    "# Select the columns with the sentences to translate and their corresponding tags\n",
    "sentences = df['text']\n",
    "tags = df['labels']\n",
    "\n",
    "# Define a function to translate each sentence\n",
    "iter = 0\n",
    "def translate_text(text):\n",
    "    try:\n",
    "        result = translate_client.translate(text, source_language='en', target_language='sv')\n",
    "        translated_text = result['translatedText']\n",
    "        return translated_text\n",
    "    except:\n",
    "        return \"Translation Error\"\n",
    "\n",
    "# Apply the translation function to the sentences\n",
    "translated_sentences = sentences.apply(translate_text)\n",
    "\n",
    "# Add the translated sentences and tags to a new dataframe\n",
    "translated_df = pd.DataFrame({\n",
    "    'sentence_column_name': translated_sentences,\n",
    "    'tag_column_name': tags\n",
    "})\n",
    "\n",
    "# Save the translated dataframe to a CSV file\n",
    "translated_df.to_csv('translated_test-00000-of-00001.csv', index=False)"
   ]
  }
 ],
 "metadata": {
  "interpreter": {
   "hash": "1869fd2f9cbf73cf0eab17e891b7942555542ecc8bf1d948dd0e5eed6ab07d4e"
  },
  "kernelspec": {
   "display_name": "Python 3.9.7 ('base')",
   "language": "python",
   "name": "python3"
  },
  "language_info": {
   "codemirror_mode": {
    "name": "ipython",
    "version": 3
   },
   "file_extension": ".py",
   "mimetype": "text/x-python",
   "name": "python",
   "nbconvert_exporter": "python",
   "pygments_lexer": "ipython3",
   "version": "3.9.7"
  },
  "orig_nbformat": 4
 },
 "nbformat": 4,
 "nbformat_minor": 2
}
