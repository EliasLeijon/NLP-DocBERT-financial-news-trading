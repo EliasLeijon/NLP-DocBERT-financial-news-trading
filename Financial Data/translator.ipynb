{
 "cells": [
  {
   "cell_type": "code",
   "execution_count": 2,
   "metadata": {},
   "outputs": [],
   "source": [
    "import pandas as pd\n",
    "import pyarrow.parquet as pq\n",
    "import requests\n",
    "import json\n",
    "\n",
    "import torch\n",
    "\n",
    "device = torch.device('cuda') if torch.cuda.is_available() else torch.device('cpu')"
   ]
  },
  {
   "cell_type": "code",
   "execution_count": 3,
   "metadata": {},
   "outputs": [],
   "source": [
    "import os\n",
    "from google.cloud import translate_v2 as translate\n",
    "\n",
    "os.environ['GOOGLE_APPLICATION_CREDENTIALS'] = 'tdde09-a46780da2eb6.json'\n",
    "\n",
    "translate_client = translate.Client()"
   ]
  },
  {
   "attachments": {},
   "cell_type": "markdown",
   "metadata": {},
   "source": [
    "## This code block is used for creating the fine tuning data."
   ]
  },
  {
   "cell_type": "code",
   "execution_count": 4,
   "metadata": {},
   "outputs": [],
   "source": [
    "df = pd.read_parquet('train-00000-of-00001.parquet')\n",
    "\n",
    "sentences = df['text']\n",
    "tags = df['labels']\n",
    "\n",
    "iter = 0\n",
    "def translate_text(text):\n",
    "    try:\n",
    "        result = translate_client.translate(text, source_language='en', target_language='sv')\n",
    "        translated_text = result['translatedText']\n",
    "        return translated_text\n",
    "    except:\n",
    "        return \"Translation Error\"\n",
    "\n",
    "translated_sentences = sentences.apply(translate_text)\n",
    "\n",
    "translated_df = pd.DataFrame({\n",
    "    'sentence_column_name': translated_sentences,\n",
    "    'tag_column_name': tags\n",
    "})\n",
    "\n",
    "translated_df.to_csv('translated_train-00000-of-00001.csv', index=False)"
   ]
  },
  {
   "cell_type": "markdown",
   "metadata": {},
   "source": [
    "## This code block is used for creating the test data"
   ]
  },
  {
   "cell_type": "code",
   "execution_count": 5,
   "metadata": {},
   "outputs": [],
   "source": [
    "df = pd.read_parquet('test-00000-of-00001.parquet')\n",
    "\n",
    "sentences = df['text']\n",
    "tags = df['labels']\n",
    "\n",
    "def translate_text(text):\n",
    "    try:\n",
    "        result = translate_client.translate(text, source_language='en', target_language='sv')\n",
    "        translated_text = result['translatedText']\n",
    "        return translated_text\n",
    "    except:\n",
    "        return \"Translation Error\"\n",
    "\n",
    "translated_sentences = sentences.apply(translate_text)\n",
    "\n",
    "translated_df = pd.DataFrame({\n",
    "    'sentence_column_name': translated_sentences,\n",
    "    'tag_column_name': tags\n",
    "})\n",
    "\n",
    "translated_df.to_csv('translated_test-00000-of-00001.csv', index=False)"
   ]
  },
  {
   "attachments": {},
   "cell_type": "markdown",
   "metadata": {},
   "source": [
    "## Importing swe-BERT for initial training"
   ]
  },
  {
   "cell_type": "code",
   "execution_count": null,
   "metadata": {},
   "outputs": [],
   "source": [
    "# collab command to install transformers\n",
    "!pip install transformers\n",
    "!pip install tqdm"
   ]
  },
  {
   "cell_type": "code",
   "execution_count": null,
   "metadata": {},
   "outputs": [],
   "source": [
    "from torch.utils.data import Dataset\n",
    "\n",
    "class SNLIDataset(Dataset):\n",
    "\n",
    "    def __init__(self, filename, max_size=None):\n",
    "        super().__init__()\n",
    "        self.xs = []\n",
    "        self.ys = []\n",
    "        with open(filename, encoding='utf-8') as source:\n",
    "            for i, line in enumerate(source):\n",
    "                if max_size and i >= max_size:\n",
    "                    break\n",
    "                sentence, sentiment_value = line.rstrip().split('\\t') # Delimeter to be chosen\n",
    "                self.xs.append(sentence)\n",
    "                self.ys.append(['negative', 'neutral', 'positive'].index(sentiment_value))\n",
    "\n",
    "    def __getitem__(self, idx):\n",
    "        return self.xs[idx], self.ys[idx]\n",
    "\n",
    "    def __len__(self):\n",
    "        return len(self.xs)"
   ]
  },
  {
   "cell_type": "code",
   "execution_count": null,
   "metadata": {},
   "outputs": [],
   "source": [
    "train_dataset = SNLIDataset('translated_train-00000-of-00001.csv', max_size=40000)\n",
    "test_dataset = SNLIDataset('translated_test-00000-of-00001.csv')\n",
    "data = train_dataset[120:130]"
   ]
  },
  {
   "cell_type": "code",
   "execution_count": null,
   "metadata": {},
   "outputs": [],
   "source": [
    "from transformers import BertTokenizer, BertForSequenceClassification\n",
    "\n",
    "tokenizer = BertTokenizer.from_pretrained('bert-base-swedish-cased', do_lower_case=True)"
   ]
  },
  {
   "attachments": {},
   "cell_type": "markdown",
   "metadata": {},
   "source": [
    "### Collate function\n",
    "\n",
    "To be adjusted: is to be done with state-of-the-art document classification for BERT, doc-BERT"
   ]
  },
  {
   "cell_type": "code",
   "execution_count": null,
   "metadata": {},
   "outputs": [],
   "source": [
    "def our_collate_fn(data):\n",
    "    x = [a[0] for a in data]\n",
    "    y = [a[1] for a in data]\n",
    "    tokenized = tokenizer(text=x, padding='longest', return_tensors='pt')\n",
    "\n",
    "    # done with the help of \n",
    "    # https://towardsdatascience.com/masked-language-modelling-with-bert-7d49793e5d2c\n",
    "    # mask with prob 15%\n",
    "\n",
    "    rand = torch.rand(tokenized['input_ids'].shape)\n",
    "    # where the random array is less than 0.15, we set true\n",
    "\n",
    "    mask_arr = (rand < 0.15) * (tokenized['input_ids'] != 101) * (tokenized['input_ids'] != 102)\n",
    "\n",
    "    # create selection from mask_arr\n",
    "    selection = torch.flatten((mask_arr[0]).nonzero()).tolist()\n",
    "\n",
    "    # apply selection index to inputs.input_ids, adding MASK tokens\n",
    "    tokenized['input_ids'][0, selection] = 103 # here masking should not only mask to [MASK]=103 but instead do\n",
    "\n",
    "    # 80%: [MASK], 10% [\"random\"], 10% [\"unchanged\"]\n",
    "    # https://arxiv.org/pdf/1810.04805.pdf courtesy of this article on doc-BERT\n",
    "\n",
    "\n",
    "    return tokenized['input_ids'].to(device), torch.as_tensor(y).to(device), tokenized['attention_mask'].to(device)"
   ]
  },
  {
   "attachments": {},
   "cell_type": "markdown",
   "metadata": {},
   "source": [
    "### Fine tuning training"
   ]
  },
  {
   "cell_type": "code",
   "execution_count": null,
   "metadata": {},
   "outputs": [],
   "source": [
    "from torch.utils.data import DataLoader\n",
    "from tqdm import tqdm\n",
    "\n",
    "tokenized_train_data = DataLoader(train_dataset, batch_size=32, shuffle=True, collate_fn=our_collate_fn)\n",
    "tokenized_valid_data = DataLoader(test_dataset, batch_size=32, shuffle=True, collate_fn=our_collate_fn)\n",
    "# print(tokenized_train_data)\n",
    "# for batch in tokenized_train_data:\n",
    "#     for sent_pair in batch[0]:\n",
    "#       print(sent_pair)\n",
    "#     print(batch)\n",
    "#     break\n",
    "\n",
    "model = BertForSequenceClassification.from_pretrained('bert-base-swedish-cased', num_labels=3)\n",
    "model = model.to(device)\n",
    "optimizer = torch.optim.Adam(model.parameters(), lr=1e-5)\n",
    "# softmax = torch.nn.Softmax(dim=1)\n",
    "epochs = 2\n",
    "\n",
    "for _ in range(epochs):\n",
    "  model.train()\n",
    "\n",
    "  with tqdm(total=len(train_dataset)) as pbar:\n",
    "\n",
    "    for bindex, batch in enumerate(tokenized_train_data):\n",
    "      optimizer.zero_grad()\n",
    "      # forward pass\n",
    "      train_output = model(batch[0], labels=batch[1], attention_mask=batch[2])\n",
    "      # backward pass\n",
    "      train_output.loss.backward()\n",
    "      optimizer.step()\n",
    "      pbar.update(len(batch[0]))\n",
    "\n",
    "\n",
    "    model.eval()\n",
    "    valids = []\n",
    "    for batch in tokenized_valid_data:\n",
    "      with torch.no_grad():\n",
    "        # forward pass\n",
    "        eval_output = model(batch[0], attention_mask=batch[2])\n",
    "        guess = torch.argmax(eval_output.logits, dim=1)\n",
    "\n",
    "        \n",
    "        valids.append(sum(guess == batch[1])/len(batch[1]))\n",
    "    print('Accuracy: {}'.format(sum(valids)/len(valids)))\n"
   ]
  }
 ],
 "metadata": {
  "kernelspec": {
   "display_name": "Python 3",
   "language": "python",
   "name": "python3"
  },
  "language_info": {
   "codemirror_mode": {
    "name": "ipython",
    "version": 3
   },
   "file_extension": ".py",
   "mimetype": "text/x-python",
   "name": "python",
   "nbconvert_exporter": "python",
   "pygments_lexer": "ipython3",
   "version": "3.8.2"
  },
  "orig_nbformat": 4,
  "vscode": {
   "interpreter": {
    "hash": "31f2aee4e71d21fbe5cf8b01ff0e069b9275f58929596ceb00d14d90e3e16cd6"
   }
  }
 },
 "nbformat": 4,
 "nbformat_minor": 2
}
