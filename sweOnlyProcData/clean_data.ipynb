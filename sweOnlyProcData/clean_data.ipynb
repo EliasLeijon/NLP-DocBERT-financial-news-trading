{
 "cells": [
  {
   "cell_type": "code",
   "execution_count": null,
   "metadata": {},
   "outputs": [],
   "source": [
    "import re\n",
    "\n",
    "def filter_html(raw_text):\n",
    "    html_pattern = re.compile('<.{1,3}?>')\n",
    "    filtered_text = re.sub(html_pattern, '', raw_text)\n",
    "    return filtered_text"
   ]
  },
  {
   "cell_type": "code",
   "execution_count": null,
   "metadata": {},
   "outputs": [],
   "source": [
    "import re\n",
    "\n",
    "string = \"This is a <div>sample</div> string with a div tag.\"\n",
    "clean_string = re.sub(r\"<div>\", \"\", string)\n",
    "clean_string = re.sub(r\"</div>\", \"\", clean_string)\n",
    "\n",
    "print(clean_string)"
   ]
  },
  {
   "cell_type": "code",
   "execution_count": 17,
   "metadata": {},
   "outputs": [],
   "source": [
    "import re\n",
    "\n",
    "with open(\"negativeNews.txt\", \"r\") as file:\n",
    "    file_contents = file.read()\n",
    "\n",
    "clean_contents = re.sub(r\"\\sbody\\s\", \" \", file_contents)\n",
    "clean_contents = re.sub(r\"\\sdiv\\s\", \"\", clean_contents)\n",
    "clean_contents = re.sub(r\"\\sul\\s\", \"\", clean_contents)\n",
    "clean_contents = re.sub(r\"\\sli\\s\", \"\", clean_contents)\n",
    "clean_contents = re.sub(r\"\\sstrong\\s\", \"\", clean_contents)\n",
    "clean_contents = re.sub(r\"\\sa\\s\", \"\", clean_contents)\n",
    "clean_contents = re.sub(r\"(?<![|])\\d+\", \"X\", clean_contents)\n",
    "clean_contents = re.sub(r\"( |\\t)*( |\\t)\", \" \", clean_contents)\n",
    "clean_contents = re.sub(r\"\\sGreater\\s\", \" \", clean_contents)\n",
    "clean_contents = re.sub(r\"\\sThan\\s\", \" \", clean_contents)\n",
    "\n",
    "\n",
    "# Write the modified string back to the file\n",
    "with open(\"cleaned_negativeNews.txt\", \"w\") as file:\n",
    "    file.write(clean_contents)"
   ]
  }
 ],
 "metadata": {
  "interpreter": {
   "hash": "1869fd2f9cbf73cf0eab17e891b7942555542ecc8bf1d948dd0e5eed6ab07d4e"
  },
  "kernelspec": {
   "display_name": "Python 3.9.7 ('base')",
   "language": "python",
   "name": "python3"
  },
  "language_info": {
   "name": "python",
   "version": "3.9.7"
  },
  "orig_nbformat": 4
 },
 "nbformat": 4,
 "nbformat_minor": 2
}
