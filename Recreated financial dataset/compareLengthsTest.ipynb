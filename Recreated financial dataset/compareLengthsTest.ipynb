{
  "cells": [
    {
      "cell_type": "markdown",
      "metadata": {
        "id": "Ox7G3ZYq4yjt"
      },
      "source": [
        "## Importing swe-BERT for initial training"
      ]
    },
    {
      "cell_type": "code",
      "execution_count": 1,
      "metadata": {
        "colab": {
          "base_uri": "https://localhost:8080/"
        },
        "id": "s_lPyCgF4yjw",
        "outputId": "c7b38d5c-1cd4-438b-e2f6-6e7a3299aeb8"
      },
      "outputs": [
        {
          "output_type": "stream",
          "name": "stdout",
          "text": [
            "Looking in indexes: https://pypi.org/simple, https://us-python.pkg.dev/colab-wheels/public/simple/\n",
            "Collecting transformers\n",
            "  Downloading transformers-4.26.1-py3-none-any.whl (6.3 MB)\n",
            "\u001b[2K     \u001b[90m━━━━━━━━━━━━━━━━━━━━━━━━━━━━━━━━━━━━━━━━\u001b[0m \u001b[32m6.3/6.3 MB\u001b[0m \u001b[31m35.1 MB/s\u001b[0m eta \u001b[36m0:00:00\u001b[0m\n",
            "\u001b[?25hCollecting huggingface-hub<1.0,>=0.11.0\n",
            "  Downloading huggingface_hub-0.13.0-py3-none-any.whl (199 kB)\n",
            "\u001b[2K     \u001b[90m━━━━━━━━━━━━━━━━━━━━━━━━━━━━━━━━━━━━━━\u001b[0m \u001b[32m199.1/199.1 KB\u001b[0m \u001b[31m13.3 MB/s\u001b[0m eta \u001b[36m0:00:00\u001b[0m\n",
            "\u001b[?25hRequirement already satisfied: tqdm>=4.27 in /usr/local/lib/python3.9/dist-packages (from transformers) (4.65.0)\n",
            "Requirement already satisfied: regex!=2019.12.17 in /usr/local/lib/python3.9/dist-packages (from transformers) (2022.6.2)\n",
            "Requirement already satisfied: numpy>=1.17 in /usr/local/lib/python3.9/dist-packages (from transformers) (1.22.4)\n",
            "Requirement already satisfied: pyyaml>=5.1 in /usr/local/lib/python3.9/dist-packages (from transformers) (6.0)\n",
            "Requirement already satisfied: requests in /usr/local/lib/python3.9/dist-packages (from transformers) (2.25.1)\n",
            "Collecting tokenizers!=0.11.3,<0.14,>=0.11.1\n",
            "  Downloading tokenizers-0.13.2-cp39-cp39-manylinux_2_17_x86_64.manylinux2014_x86_64.whl (7.6 MB)\n",
            "\u001b[2K     \u001b[90m━━━━━━━━━━━━━━━━━━━━━━━━━━━━━━━━━━━━━━━━\u001b[0m \u001b[32m7.6/7.6 MB\u001b[0m \u001b[31m27.4 MB/s\u001b[0m eta \u001b[36m0:00:00\u001b[0m\n",
            "\u001b[?25hRequirement already satisfied: packaging>=20.0 in /usr/local/lib/python3.9/dist-packages (from transformers) (23.0)\n",
            "Requirement already satisfied: filelock in /usr/local/lib/python3.9/dist-packages (from transformers) (3.9.0)\n",
            "Requirement already satisfied: typing-extensions>=3.7.4.3 in /usr/local/lib/python3.9/dist-packages (from huggingface-hub<1.0,>=0.11.0->transformers) (4.5.0)\n",
            "Requirement already satisfied: idna<3,>=2.5 in /usr/local/lib/python3.9/dist-packages (from requests->transformers) (2.10)\n",
            "Requirement already satisfied: urllib3<1.27,>=1.21.1 in /usr/local/lib/python3.9/dist-packages (from requests->transformers) (1.26.14)\n",
            "Requirement already satisfied: certifi>=2017.4.17 in /usr/local/lib/python3.9/dist-packages (from requests->transformers) (2022.12.7)\n",
            "Requirement already satisfied: chardet<5,>=3.0.2 in /usr/local/lib/python3.9/dist-packages (from requests->transformers) (4.0.0)\n",
            "Installing collected packages: tokenizers, huggingface-hub, transformers\n",
            "Successfully installed huggingface-hub-0.13.0 tokenizers-0.13.2 transformers-4.26.1\n",
            "Looking in indexes: https://pypi.org/simple, https://us-python.pkg.dev/colab-wheels/public/simple/\n",
            "Requirement already satisfied: tqdm in /usr/local/lib/python3.9/dist-packages (4.65.0)\n",
            "cuda\n"
          ]
        }
      ],
      "source": [
        "!pip install transformers\n",
        "!pip install tqdm\n",
        "\n",
        "import torch\n",
        "import numpy as np\n",
        "import math\n",
        "from transformers import BertTokenizer, BertForSequenceClassification, BertModel, AutoModel\n",
        "from transformers.modeling_outputs import BaseModelOutputWithPooling\n",
        "device = torch.device('cuda') if torch.cuda.is_available() else torch.device('cpu')\n",
        "print(device)\n",
        "# collab command to install transformers\n"
      ]
    },
    {
      "cell_type": "code",
      "execution_count": 2,
      "metadata": {
        "id": "XOPF9_mE4yjx"
      },
      "outputs": [],
      "source": [
        "from torch.utils.data import Dataset\n",
        "\n",
        "\n",
        "import re\n",
        "def clean_txt (text):\n",
        "  text = re.sub(\"¹\", \"\", text)\n",
        "  text=re.sub(\"(\\\\W)+\",\"  \", text)\n",
        "  return text\n",
        "\n",
        "\n",
        "class SNLIDataset(Dataset):\n",
        "\n",
        "    def __init__(self, filename, max_size=None):\n",
        "        super().__init__()\n",
        "        self.xs = []\n",
        "        self.ys = []\n",
        "        self.sentence_lengths = np.array([])\n",
        "        count = 0\n",
        "        with open(filename, encoding=\"utf-8\") as source:\n",
        "            for i, line in enumerate(source):\n",
        "                if i == 0:\n",
        "                  continue\n",
        "                # print(line)\n",
        "                if max_size and i >= max_size:\n",
        "                    break\n",
        "                try:\n",
        "                  sentence, sentiment_value = line.rstrip().split('|') # Delimeter to be chosen\n",
        "                  count += 1\n",
        "                except:\n",
        "                  print( \"Error when processing the following data \", [line.rstrip().split('|')])\n",
        "                # print(sentence)\n",
        "                self.xs.append(clean_txt(sentence))\n",
        "                self.ys.append(int(sentiment_value.split(\"\\\"\")[0])) # make sure negative/neutral/positive is labelled correct\n",
        "                self.sentence_lengths = np.append(self.sentence_lengths, len(sentence.split(\" \")))\n",
        "\n",
        "    def __getitem__(self, idx):\n",
        "        return self.xs[idx], self.ys[idx]\n",
        "\n",
        "    def __len__(self):\n",
        "        return len(self.xs)\n",
        "\n",
        "class SNLIDataset_shell_class(SNLIDataset):\n",
        "    def __init__(self, xs, ys, sentence_lengths):\n",
        "      self.xs = xs\n",
        "      self.ys = ys\n",
        "      self.sentence_lengths = sentence_lengths"
      ]
    },
    {
      "cell_type": "code",
      "source": [
        "\n",
        "\n",
        "def divide_dataset_to_train_and_test(SNLIDataset, percentage_to_train):\n",
        "    random_indices = torch.randperm(len(SNLIDataset.xs))\n",
        "    num_of_sent_in_train = math.floor(len(SNLIDataset.xs)*(percentage_to_train))\n",
        " \n",
        "    train_dataset_xs = np.array(list(map(SNLIDataset.xs.__getitem__, random_indices[0:num_of_sent_in_train])))\n",
        "    train_dataset_ys = np.array(list(map(SNLIDataset.ys.__getitem__, random_indices[0:num_of_sent_in_train])))\n",
        "    train_dataset_sent_lengths = np.array(list(map(SNLIDataset.sentence_lengths.__getitem__, random_indices[0:num_of_sent_in_train])))\n",
        "\n",
        "\n",
        "    test_dataset_xs = np.array(list(map(SNLIDataset.xs.__getitem__, random_indices[num_of_sent_in_train:])))\n",
        "    test_dataset_ys = np.array(list(map(SNLIDataset.ys.__getitem__, random_indices[num_of_sent_in_train:])))\n",
        "    test_dataset_sent_lengths = np.array(list(map(SNLIDataset.sentence_lengths.__getitem__, random_indices[num_of_sent_in_train:])))\n",
        "  \n",
        "    train_dataset = SNLIDataset_shell_class(train_dataset_xs, train_dataset_ys, train_dataset_sent_lengths)\n",
        "\n",
        "    test_dataset = SNLIDataset_shell_class(test_dataset_xs, test_dataset_ys, test_dataset_sent_lengths)\n",
        "    \n",
        "\n",
        "    return train_dataset, test_dataset\n",
        "\n"
      ],
      "metadata": {
        "id": "WggYx43umASg"
      },
      "execution_count": 3,
      "outputs": []
    },
    {
      "cell_type": "markdown",
      "metadata": {
        "id": "HrCpUve_4yjy"
      },
      "source": [
        "## Create all datasets"
      ]
    },
    {
      "cell_type": "code",
      "execution_count": 7,
      "metadata": {
        "id": "NU2qKdwb4yjy"
      },
      "outputs": [],
      "source": [
        "test_dataset = SNLIDataset('./recreated_all_news.csv')\n",
        "financial_news_train_dataset = SNLIDataset('./recreated_amazon_reviews.csv')\n",
        "amazon_review_train_dataset = SNLIDataset('./recreated_financial_phrases.csv')\n",
        "# test_dataset = SNLIDataset('./sweOnlyProcData/cleaned_all_news.txt')\n",
        "\n",
        "# data = financial_news_train_dataset[121]\n",
        "\n",
        "# amazon_review_train_dataset, amazon_review_test_dataset = divide_dataset_to_train_and_test(amazon_review_dataset, 0.9)\n",
        "\n",
        "\n",
        "# print(\"Financial phrases train dataset length: {:,}\".format(len(financial_news_train_dataset)))\n",
        "# print(\"Financial phrases test dataset length: {:,}\".format(len(financial_news_test_dataset)))\n",
        "\n",
        "# print(\"Amazon reviews train dataset length: {:,}\".format(len(amazon_review_train_dataset)))\n",
        "# print(\"Amazon reviews test dataset length: {:,}\".format(len(amazon_review_test_dataset)))\n",
        "\n",
        "# print(\"Own collected news dataset length: {:,}\".format(len(test_dataset)))\n",
        "\n"
      ]
    },
    {
      "cell_type": "code",
      "source": [
        "print(financial_news_train_dataset.xs[:10]) # Dataseten är på något vis olika formatterad som gör att det blir fel senare när man tränar modellen\n",
        "print(amazon_review_train_dataset.xs[:10])"
      ],
      "metadata": {
        "colab": {
          "base_uri": "https://localhost:8080/"
        },
        "id": "IjvEvCNo0Vs8",
        "outputId": "a9ca40fa-55ef-40b9-df6d-c5debba65643"
      },
      "execution_count": 8,
      "outputs": [
        {
          "output_type": "stream",
          "name": "stdout",
          "text": [
            "['Helnöjd  ', 'Mona  är  jätteduktig  på  vaxning  och  jag  rekommenderar  henne  varmt  Hennes  salong  är  ljus  och  ren  och  ligger  bra  i  förhållande  till  T  banan  Hon  har  alltid  tider  i  närhet  som  man  kan  boka  ', 'Bra  bemötande  och  god  service  Lyssnade  på  kundens  behov  och  kom  med  bra  förslag  ', 'Det  var  en  rolig  kväll  Artisterna  spelde  fint  Bra  upplevelse  Tack', 'Bra  sängar  Trevlig  personal  i  butik  men  lite  bökigt  med  leveransen  Försenad  1  vecka  Vid  leverans  saknades  fyra  ben  samt  alla  skruvar  till  benen  Det  tog  en  månad  att  få  benen  levererade  och  monterade  Pga  strulet  med  leveransen  blir  betyg  lågt  Fick  250kr  i  presentkort  som  plåster  på  såret  ', 'Köpte  en  transportbil  av  en  säljare  på  telefon  har  aldrig  känt  mig  så  lurad  den  där  Ali  är  en  riktig  skojare  kommer  aldrig  rekommendera  den  firman', 'Inkompetenta  ', 'Avråder  från  dessa  Dyra  klåpare  är  min  erfarenhet  Att  de  kör  med  fastpris  är  för  att  kunna  blåsa  kunden  ordentligt  mot  vad  kunden  hade  betalat  med  ett  rörligt  pris  Gå  inte  på  detta  De  gav  ett  fastpris  som  jag  i  efterhand  förstått  varit  mycket  väl  tilltaget  för  det  förhållandevis  enkla  och  snabba  jobb  som  utfördes  Det  hade  blivit  väsentligt  mycket  billigare  att  gå  per  timme  med  annan  leverantör  Halva  priset  förmodligen  ännu  lägre  De  hade  fel  fläktmotor  med  sig  som  de  först  monterade  Trots  att  jag  berättat  vilken  typ  det  skulle  vara  samt  skickat  bild  på  den  gamla  fläkten  med  beteckning  och  allt  En  stor  del  av  arbetstiden  gick  åt  till  försök  till  att  få  igång  denna  samt  att  till  sist  åka  och  köpa  rätt  fläktmotor  och  montera  istället  De  plockade  inte  iordning  efter  sig  på  vinden  där  fläktmotorbytet  skedde  De  lämnade  skräp  och  flyttad  isolering  var  inte  tillbakalagd  Jag  förväntar  mig  inte  att  behöva  slutföra  efterarbetet  själv  när  jag  betalat  en  högt  fastpris  Felsökning  och  tätning  av  ventilationskanal  utfördes  amatörmässigt  och  hafsigt  och  blev  inte  korrekt  åtgärdat  Offert  på  ytterligare  arbete  lovades  till  dagen  efter  Den  offerten  kom  aldrig  De  kom  en  timme  före  avtalad  tid  Jobbet  blev  delvis  utfört  men  jag  är  inte  imponerad  minst  sagt  Känslan  efteråt  är  att  de  inte  har  någon  vidare  kunskap  om  det  de  håller  på  med  Jag  kan  mer  efter  10  minuters  googlande  än  vad  de  själva  kan  Ska  jag  inte  kunna  förvänta  mig  mer  av  så  kallade  yrkesproffs  Har  jag  för  högt  ställda  förväntningar  Lägg  till  detta  en  säljare  som  lovar  mycket  mer  än  de  sen  levererar  ', 'Stockholiana  på  köpet  ', 'Hej  Jag  är  mycket  missnöjd  med  att  köpa  en  bil  från  riddermark  Det  var  tråkigt  och  fick  jag  inte  som  jag  har  förväntat  mig  Säljaren  hade  inte  så  mycket  erfarenhet  Jag  fick  inte  lösning  till  hjälp  ']\n",
            "['Rensning  av  frånluftsventilationen  Bemötandet  vart  mycket  bra  Trevligt  att  ha  kontakt  med  företaget  ', 'Jätte  fin  service  och  supergod  mat  Bra  att  man  fick  ta  med  det  man  inte  orkade  äta  upp  på  restaurangen  hem  ', 'Gjorde  inte  vad  de  lovade  Tog  extra  betalt  för  sådant  som  borde  ha  ingått  ', 'Återigen  väldigt  nöjda  med  Michels  insats  i  vår  försäljning  Väldigt  proffsigt  bemötande  saklig  och  utmärkt  bollplank  kring  diverse  frågor  Flexibel  och  tillgänglig  ', 'Trevliga  killar  som  var  lätt  att  samarbeta  med  Bra  idéer  snyggt  jobb  och  framför  allt  proffsigt  Återkopplade  till  mig  många  gånger  och  lämnade  inget  arbete  förrän  jag  var  nöjd  Gjorde  fint  efter  sig  och  mitt  badrum  är  ursnygga  Mycket  nöjd  ', 'Väldigt  trevlig  och  kompetent  tillmötesgående  och  serviceinriktad  Jag  hade  inte  kunnat  förvänta  mig  ett  bättre  arbete  än  vad  Sjöströms  entreprenad  gjorde  för  mig  rekommenderar  dem  till  100  ', 'Det  gick  lätt  att  beställa  och  varan  kom  snabbt  ', 'Jag  har  inte  beställt  hjulinställning  på  alla  fyra  hjulen  a  1080  moms  Jag  kommer  aldrig  att  anlita  er  mer  och  inte  rekommendera  er  för  mina  vänner  ', 'Köpte  en  transportbil  av  en  säljare  på  telefon  har  aldrig  känt  mig  så  lurad  den  där  Ali  är  en  riktig  skojare  kommer  aldrig  rekommendera  den  firman', 'Det  var  jätte  bra  Trevlig  personal  hjälpsamma  och  hade  vi  behövt  en  til  säng  hade  vi  givetvis  haft  er  butik  i  åtanke']\n"
          ]
        }
      ]
    },
    {
      "cell_type": "markdown",
      "metadata": {
        "id": "vCW4rqz4uF31"
      },
      "source": [
        "## Dataset analysis\n",
        "Here we analyze the length distribution for each dataset"
      ]
    },
    {
      "cell_type": "code",
      "execution_count": 9,
      "metadata": {
        "id": "hCIcaM4quF31"
      },
      "outputs": [],
      "source": [
        "import matplotlib.pyplot as plt\n",
        "\n",
        "def plot_data_length(sentence_lengths, datasetName, resolution=1, xparams=True):\n",
        "    plot_data_length.total_plots += 1\n",
        "    plt.figure(plot_data_length.total_plots)\n",
        "    plt.hist(sentence_lengths, bins=int(np.max(sentence_lengths)*resolution), density=True)\n",
        "    plt.xlabel(datasetName)\n",
        "    if not xparams:\n",
        "      plt.tick_params(bottom=False, labelbottom=False)\n",
        "\n",
        "plot_data_length.total_plots = 0"
      ]
    },
    {
      "cell_type": "markdown",
      "source": [
        "plot sentence lengths"
      ],
      "metadata": {
        "id": "2CkrOL8lBKcX"
      }
    },
    {
      "cell_type": "code",
      "source": [
        "plot_data_length(amazon_review_train_dataset.sentence_lengths, \"amazon_review_dataset\", 1/5)\n",
        "plot_data_length(financial_news_train_dataset.sentence_lengths, \"financial_news_dataset\", 1/4)\n",
        "plot_data_length(test_dataset.sentence_lengths, \"test_news_dataset\", 1/80)\n",
        "\n",
        "\n",
        "# Textfil på formatet data | label | datalängd\n",
        "\n",
        "# for sentence_length in amazon_reviews.sentence_lengths: 15,17 % av denna. Använd divide_dataset_to_train_and_test\n",
        "    # hitta rad i textfilen som har datalängd sentence length\n",
        "        # annars kolla datalängd sentence_length-1 (upprepa tills ngt hittas)\n",
        "    # ta bort den raden och lägg i separat textfil\n",
        "\n",
        "# for sentence_length in financial_phrases.sentence_lengths:  #HELA DENNA\n",
        "    # hitta rad i textfilen som har datalängd sentence length\n",
        "        # annars kolla datalängd sentence_length-1 (upprepa tills ngt hittas)\n",
        "    # ta bort den raden och lägg i separat textfil\n",
        "\n",
        "# for sentence_length in own_collected_news.sentence_lengths: # HELA DENNA \n",
        "        # hitta rad i textfilen som har datalängd sentence length\n",
        "        # annars kolla datalängd sentence_length-1 (upprepa tills ngt hittas)\n",
        "    # ta bort den raden och lägg i separat textfil"
      ],
      "metadata": {
        "colab": {
          "base_uri": "https://localhost:8080/",
          "height": 807
        },
        "id": "2Tw11K0sBIz7",
        "outputId": "f05baf42-7d92-4e91-ab74-b5b80b70e988"
      },
      "execution_count": 36,
      "outputs": [
        {
          "output_type": "display_data",
          "data": {
            "text/plain": [
              "<Figure size 432x288 with 1 Axes>"
            ],
            "image/png": "[encoded data removed]"
          },
          "metadata": {
            "needs_background": "light"
          }
        },
        {
          "output_type": "display_data",
          "data": {
            "text/plain": [
              "<Figure size 432x288 with 1 Axes>"
            ],
            "image/png": "[encoded data removed]"
          },
          "metadata": {
            "needs_background": "light"
          }
        },
        {
          "output_type": "display_data",
          "data": {
            "text/plain": [
              "<Figure size 432x288 with 1 Axes>"
            ],
            "image/png": "[encoded data removed]"
          },
          "metadata": {
            "needs_background": "light"
          }
        }
      ]
    },
    {
      "cell_type": "markdown",
      "source": [
        "plot label distribution\n",
        "\n",
        "This is not being taken into consideration in the test now. We only look at the length distribution."
      ],
      "metadata": {
        "id": "fVzFS58LBNPS"
      }
    },
    {
      "cell_type": "code",
      "source": [
        "plot_data_length(amazon_review_dataset.ys, \"Amazon review distribution (Negative, Neutral, Positive)\", 1.5, xparams=False)\n",
        "plot_data_length(np.concatenate([financial_news_test_dataset.ys, financial_news_train_dataset.ys]), \"Financial news distribution (Negative, Neutral, Positive)\", 1.5, xparams=False)\n",
        "plot_data_length(test_dataset.ys, \"Financial news distribution (Negative, Neutral, Positive)\", 1.5, xparams=False)"
      ],
      "metadata": {
        "colab": {
          "base_uri": "https://localhost:8080/",
          "height": 752
        },
        "id": "i6aT5P6bBJiq",
        "outputId": "d901d221-ff09-43e4-b0f3-e5fbe04060df"
      },
      "execution_count": null,
      "outputs": [
        {
          "output_type": "display_data",
          "data": {
            "text/plain": [
              "<Figure size 432x288 with 1 Axes>"
            ],
            "image/png": "[encoded data removed]"
          },
          "metadata": {
            "needs_background": "light"
          }
        },
        {
          "output_type": "display_data",
          "data": {
            "text/plain": [
              "<Figure size 432x288 with 1 Axes>"
            ],
            "image/png": "[encoded data removed]"
          },
          "metadata": {
            "needs_background": "light"
          }
        },
        {
          "output_type": "display_data",
          "data": {
            "text/plain": [
              "<Figure size 432x288 with 1 Axes>"
            ],
            "image/png": "[encoded data removed]"
          },
          "metadata": {
            "needs_background": "light"
          }
        }
      ]
    },
    {
      "cell_type": "markdown",
      "metadata": {
        "id": "x0tgZwEq4yj0"
      },
      "source": [
        "## Import swedish bert"
      ]
    },
    {
      "cell_type": "code",
      "execution_count": 26,
      "metadata": {
        "colab": {
          "base_uri": "https://localhost:8080/",
          "height": 283,
          "referenced_widgets": [
            "4ca9c0f47d75420f8eb81842ad4b1312",
            "42d49c8961bf49138555ece9f93b5e5c",
            "a2104210a87f47e1adcc55f61fd09264",
            "3532f7ac99c2402887001c0f59bb857f",
            "540501207a51444fb432827f9df1312c",
            "ceeaeb40301b43a18d6f291366d2a160",
            "184318639307412da33b8dc01a696147",
            "9ed5602d15e445788140c9bb49db45d8",
            "3e73b2021b1143de809fef3aa034e88e",
            "157495e4aede4a5ab53b2b61936f5633",
            "d6f0d30005114c3cbd692647bb0d9374",
            "6ee10dc3397f4486a610d4d91fa1817b",
            "ee4318a322e14d39b3c9a83f550491e5",
            "c6d9e178537f4928b7dd2ee7a3ce1f69",
            "8640327b77d244a4b5f8e60dcead2c23",
            "a50c33b7707b4b17b5d81b18754a6952",
            "71bbf615f2a74d99b6827c2fb6a53807",
            "9c8b6b29580b429ea4dcbbd442e97e67",
            "aab013e6915449048df295ba8d7aa9a2",
            "21b843d16014440ca1cc5f400eab716a",
            "18ccc793ddc64b40afeadf3cbd1a725b",
            "96e4433c2799424ba29b405493dd778d",
            "c1f6c79cb7e8406cb9da718c5f932014",
            "fe8db096509f454e87b81dc68124eb89",
            "f8ccbfcc3ccc4cb485ebb31eca1cae48",
            "308ac19ac4c04c84819e24aecd928157",
            "1f82888affc94c03b82e31a42cbc4ba0",
            "fb4200a81c2d49cca0ec0631afdb641c",
            "ed99c798b7344c8bba188a7f52cdd54c",
            "a87d92ae86db44e78f5a7f1ff9a33aac",
            "2d2be78630984c969934046dd4254cc9",
            "9ded5399799c48bb93fc0b2d061a299b",
            "447c8b32b76549b6a38dcf0906fd0162",
            "d652838a9d5e4b3fa9553878ae75ea11",
            "be6b0040c2eb465eacf551338c118e36",
            "df8c212a21194f0b92612aa8e4fa4c66",
            "ff05af3585c94e689e4c50709b049c8b",
            "f7ecc0f2600342709e1d3429f41831bb",
            "648bca3b54394767b255ff8cfc2cf4ae",
            "b973326abf87425693cf33cdcbd39c8c",
            "038eb7f71a174ebfa2055044b415b976",
            "636d3eadea5349f9b7501a1a57d8eefd",
            "436e8d46e9d8435d886aa8164e766dd2",
            "dd80dbedf901497dbd70e28280780005",
            "79ba94c6455547edb52b630621896c1d",
            "2a21df8e76dc47728ba1536c1b526317",
            "d8e0f000bc344afc999df2da3a8eed99",
            "71c7c7981ed24837ad3536b27be0ef7e",
            "030202dd582042e5bdd3f28faa75f694",
            "8a78550ffebf424aa310f9a8a920ddbd",
            "be6010859f39427081ae8cf3600f443c",
            "323dfe6421d94c43946379456d18e37c",
            "d0767580c75c49c1bc6d45e50d530766",
            "e5b28a0286da438e96493ab3eb9f9a08",
            "ec25d504bbfe4bb2a9c2ca043e94800e",
            "d7bc2999358b4e37bc9b78a914d22f4c",
            "98c16cbaa8444931aaea92986d67e551",
            "797f747636774ae99cc58e416c90d9e5",
            "43b0b67d1c334a6e90b1554880674ef3",
            "41a517f0e65b494997952d21f9a032b4",
            "13e2723a0d7f4d0e88b2753125a50fad",
            "27e1a6edf1074aa4a9f18a69279c2602",
            "ea3f27d5b87c4134816cecc5768a029a",
            "55cabec2214241c79463a484821b6b76",
            "fc1bd4a0cb7b4c29a2c5910745d78bbb",
            "374e39e9026442938919457a2a3f9b42"
          ]
        },
        "id": "ngd8efgP4yj0",
        "outputId": "43853bf0-dbb1-479d-a3bc-8589e2568ff0"
      },
      "outputs": [
        {
          "output_type": "display_data",
          "data": {
            "text/plain": [
              "Downloading (…)solve/main/vocab.txt:   0%|          | 0.00/399k [00:00<?, ?B/s]"
            ],
            "application/vnd.jupyter.widget-view+json": {
              "version_major": 2,
              "version_minor": 0,
              "model_id": "4ca9c0f47d75420f8eb81842ad4b1312"
            }
          },
          "metadata": {}
        },
        {
          "output_type": "display_data",
          "data": {
            "text/plain": [
              "Downloading (…)in/added_tokens.json:   0%|          | 0.00/2.00 [00:00<?, ?B/s]"
            ],
            "application/vnd.jupyter.widget-view+json": {
              "version_major": 2,
              "version_minor": 0,
              "model_id": "6ee10dc3397f4486a610d4d91fa1817b"
            }
          },
          "metadata": {}
        },
        {
          "output_type": "display_data",
          "data": {
            "text/plain": [
              "Downloading (…)cial_tokens_map.json:   0%|          | 0.00/112 [00:00<?, ?B/s]"
            ],
            "application/vnd.jupyter.widget-view+json": {
              "version_major": 2,
              "version_minor": 0,
              "model_id": "c1f6c79cb7e8406cb9da718c5f932014"
            }
          },
          "metadata": {}
        },
        {
          "output_type": "display_data",
          "data": {
            "text/plain": [
              "Downloading (…)okenizer_config.json:   0%|          | 0.00/48.0 [00:00<?, ?B/s]"
            ],
            "application/vnd.jupyter.widget-view+json": {
              "version_major": 2,
              "version_minor": 0,
              "model_id": "d652838a9d5e4b3fa9553878ae75ea11"
            }
          },
          "metadata": {}
        },
        {
          "output_type": "display_data",
          "data": {
            "text/plain": [
              "Downloading (…)lve/main/config.json:   0%|          | 0.00/491 [00:00<?, ?B/s]"
            ],
            "application/vnd.jupyter.widget-view+json": {
              "version_major": 2,
              "version_minor": 0,
              "model_id": "79ba94c6455547edb52b630621896c1d"
            }
          },
          "metadata": {}
        },
        {
          "output_type": "display_data",
          "data": {
            "text/plain": [
              "Downloading pytorch_model.bin:   0%|          | 0.00/501M [00:00<?, ?B/s]"
            ],
            "application/vnd.jupyter.widget-view+json": {
              "version_major": 2,
              "version_minor": 0,
              "model_id": "d7bc2999358b4e37bc9b78a914d22f4c"
            }
          },
          "metadata": {}
        },
        {
          "output_type": "stream",
          "name": "stderr",
          "text": [
            "Some weights of the model checkpoint at KB/bert-base-swedish-cased were not used when initializing BertModel: ['cls.predictions.transform.dense.bias', 'cls.predictions.transform.dense.weight', 'cls.predictions.bias', 'cls.predictions.transform.LayerNorm.bias', 'cls.predictions.decoder.weight', 'cls.predictions.decoder.bias', 'cls.predictions.transform.LayerNorm.weight']\n",
            "- This IS expected if you are initializing BertModel from the checkpoint of a model trained on another task or with another architecture (e.g. initializing a BertForSequenceClassification model from a BertForPreTraining model).\n",
            "- This IS NOT expected if you are initializing BertModel from the checkpoint of a model that you expect to be exactly identical (initializing a BertForSequenceClassification model from a BertForSequenceClassification model).\n"
          ]
        }
      ],
      "source": [
        "tokenizer = BertTokenizer.from_pretrained('KB/bert-base-swedish-cased', do_lower_case=False)\n",
        "bert = AutoModel.from_pretrained('KB/bert-base-swedish-cased')"
      ]
    },
    {
      "cell_type": "code",
      "execution_count": null,
      "metadata": {
        "colab": {
          "base_uri": "https://localhost:8080/"
        },
        "id": "ojp1xQBq4yj0",
        "outputId": "4d40e881-2351-4b1c-8ff1-fe3923ac65dc"
      },
      "outputs": [
        {
          "output_type": "stream",
          "name": "stdout",
          "text": [
            "Jag  älskar  den  här  mattan  u  den  är  supersöt  och  sååå  mjuk  Den  är  faktiskt  större  än  jag  trodde  att  den  skulle  vara  Det  är  lätt  att  fälla  ihop  och  lägga  undan  och  det  är  lätt  att  rengöra  Jag  behöver  fler  av  dessa  till  mitt  hus  gt  _  lt  \n",
            "tensor([[    2,   361,  4766,    97,   382, 21421,    56,    97,    54,  5096,\n",
            "          7834, 49795,    36,   181, 49811, 49811,  7164,   219,    54,  2644,\n",
            "           955,   390,   217,  3609,    48,    97,   409,   358,   160,    54,\n",
            "          1048,    48, 17310,  2034,    36,  3329,  3424,    36,    82,    54,\n",
            "          1048,    48, 19523, 16880,   361,  1404,  1448,    65,  1021,    76,\n",
            "          1199,  1004,  2850,  3678,  5175,     3]])\n",
            "{'input_ids': tensor([[    2,   361,  4766,    97,   382, 21421,    56,    97,    54,  5096,\n",
            "          7834, 49795,    36,   181, 49811, 49811,  7164,   219,    54,  2644,\n",
            "           955,   390,   217,  3609,    48,    97,   409,   358,   160,    54,\n",
            "          1048,    48, 17310,  2034,    36,  3329,  3424,    36,    82,    54,\n",
            "          1048,    48, 19523, 16880,   361,  1404,  1448,    65,  1021,    76,\n",
            "          1199,  1004,  2850,  3678,  5175,     3]]), 'token_type_ids': tensor([[0, 0, 0, 0, 0, 0, 0, 0, 0, 0, 0, 0, 0, 0, 0, 0, 0, 0, 0, 0, 0, 0, 0, 0,\n",
            "         0, 0, 0, 0, 0, 0, 0, 0, 0, 0, 0, 0, 0, 0, 0, 0, 0, 0, 0, 0, 0, 0, 0, 0,\n",
            "         0, 0, 0, 0, 0, 0, 0, 0]]), 'attention_mask': tensor([[1, 1, 1, 1, 1, 1, 1, 1, 1, 1, 1, 1, 1, 1, 1, 1, 1, 1, 1, 1, 1, 1, 1, 1,\n",
            "         1, 1, 1, 1, 1, 1, 1, 1, 1, 1, 1, 1, 1, 1, 1, 1, 1, 1, 1, 1, 1, 1, 1, 1,\n",
            "         1, 1, 1, 1, 1, 1, 1, 1]])}\n"
          ]
        }
      ],
      "source": [
        "tokenized = tokenizer(text=amazon_review_train_dataset[1][0], padding='longest', return_tensors='pt')\n",
        "print(amazon_review_train_dataset[1][0])\n",
        "print(tokenized.input_ids)\n",
        "print(tokenized)"
      ]
    },
    {
      "cell_type": "markdown",
      "metadata": {
        "id": "pyx9uwrO4yj1"
      },
      "source": [
        "### Define colate function that tokenizes"
      ]
    },
    {
      "cell_type": "code",
      "execution_count": 19,
      "metadata": {
        "id": "ASAcPEuauF33"
      },
      "outputs": [],
      "source": [
        "def tensor_split(text1, seq_size=200, overlap=50, add_to_start = 2):\n",
        "  l_total = []\n",
        "  l_parcial = []\n",
        "  cls_tokens = torch.unsqueeze(torch.as_tensor([add_to_start]* text1.shape[0]), dim=1)\n",
        "  if text1.shape[1]//(seq_size-overlap) >0:\n",
        "    n = text1.shape[1]//(seq_size-overlap)\n",
        "  else: \n",
        "    n = 1\n",
        "  for w in range(n):\n",
        "    if w == 0:\n",
        "      # l_parcial = torch.concat([cls_tokens, text1[:,:seq_size]], dim=1)\n",
        "      l_parcial = text1[:,:seq_size]\n",
        "      l_total.append(l_parcial.to(device))\n",
        "    else:\n",
        "      # l_parcial = torch.concat([cls_tokens, text1[:,w*(seq_size-overlap):w*(seq_size-overlap) + seq_size]], dim=1)\n",
        "      l_parcial = text1[:,w*(seq_size-overlap):w*(seq_size-overlap) + seq_size]\n",
        "      l_total.append(l_parcial.to(device))\n",
        "  return l_total"
      ]
    },
    {
      "cell_type": "code",
      "execution_count": 20,
      "metadata": {
        "id": "n42CPT4o4yj1"
      },
      "outputs": [],
      "source": [
        "def our_collate_fn(data):\n",
        "    x = [a[0] for a in data]\n",
        "    y = [a[1] for a in data]\n",
        "    tokenized = tokenizer(text=x, padding='longest', return_tensors='pt')\n",
        "\n",
        "    return tokenized['input_ids'], torch.as_tensor(y), tokenized['attention_mask']"
      ]
    },
    {
      "cell_type": "code",
      "execution_count": 21,
      "metadata": {
        "id": "ULmii5oWuF33"
      },
      "outputs": [],
      "source": [
        "from torch.utils.data import DataLoader\n",
        "\n",
        "def create_training_examples(dataset, batch_size = 64, seq_size = 200, overlap = 50):\n",
        "    batch_sort_order = np.array_split(dataset.sentence_lengths.argsort()[::-1], round(len(dataset) / batch_size))\n",
        "    tokenized_train_data = DataLoader(dataset, collate_fn=our_collate_fn, batch_sampler=batch_sort_order) #\n",
        "\n",
        "    for bindex, (bx, by, ba) in enumerate(tokenized_train_data):\n",
        "        yield tensor_split(bx, seq_size, overlap), tensor_split(ba, seq_size, overlap, add_to_start=1), by.to(device)\n",
        "                \n",
        "\n",
        "\n"
      ]
    },
    {
      "cell_type": "code",
      "execution_count": null,
      "metadata": {
        "colab": {
          "base_uri": "https://localhost:8080/"
        },
        "id": "YXhye472uF34",
        "outputId": "c4fdb4d5-7751-430c-c0f1-d8f30e762c09"
      },
      "outputs": [
        {
          "output_type": "stream",
          "name": "stdout",
          "text": [
            "Input shape: [3, 5, 10]\n",
            "Output shape: [3, 5, 20]\n",
            "Last hidden state shape: [1, 3, 20]\n"
          ]
        }
      ],
      "source": [
        "import torch.nn as nn\n",
        "\n",
        "rnn = nn.LSTM(10, 20, batch_first = True)\n",
        "input = torch.randn(3, 5, 10)\n",
        "h0 = torch.randn(1, 3, 20)\n",
        "c0 = torch.randn(1, 3, 20)\n",
        "output, (hn, cn) = rnn(input, (h0, c0))\n",
        "\n",
        "print(\"Input shape: {}\".format([*input.shape]))\n",
        "print(\"Output shape: {}\".format([*output.shape]))\n",
        "print(\"Last hidden state shape: {}\".format([*hn.shape]))"
      ]
    },
    {
      "cell_type": "code",
      "execution_count": 22,
      "metadata": {
        "id": "Y35jjoeIuF34"
      },
      "outputs": [],
      "source": [
        "import torch.nn as nn\n",
        "from sklearn import metrics\n",
        "\n",
        "\n",
        "class DocBert(nn.Module):\n",
        "    def __init__(self, bert, hidden_dim=20, num_labels=3):\n",
        "        super().__init__()\n",
        "        self.bert =  bert.to(device) # INTE BertForSequenceClassification\n",
        "        self.lstm = nn.LSTM(bert.config.hidden_size, hidden_dim, batch_first=True).to(device)\n",
        "        # Input [Batch_size, sequence_length, input_size]\n",
        "        # Output [1, batch_size, hidden_dim]\n",
        "        self.relu = nn.ReLU()\n",
        "        self.linear = nn.Linear(hidden_dim, num_labels).to(device)\n",
        "    \n",
        "    def forward(self, x_seqs, a_seqs):\n",
        "      output = []\n",
        "      for x_seq, a_seq in zip(x_seqs, a_seqs):\n",
        "        # print(\"x_seq, a_seq = {}, {}\".format(x_seq, a_seq))\n",
        "        output.append(self.bert(x_seq, a_seq)[0][:,0,:]) # Only get the embedding of the [CLS]-token [batch_size, number_of_sequences, input_size]\n",
        "      # print(output)\n",
        "      _ , (output, _) = self.lstm(torch.stack(output, dim=1)) # [1, batch_size, hidden_dim]\n",
        "      output = self.relu(output)\n",
        "      return self.linear(torch.squeeze(output, dim=0))\n",
        "      #   bertified_seqs.append()\n",
        "      # self.lstm(, )\n",
        "\n",
        "    def predict(self, x_seq, a_seq):\n",
        "      output = self.forward(x_seq, a_seq)\n",
        "      # print(\"Output from forward: {}\".format(output))\n",
        "      batch_guess = torch.argmax(output, dim=1)\n",
        "      return batch_guess\n",
        "\n",
        "    def get_confusion_matrix(self, sequences, batch_size=8):\n",
        "      predicted_tensor = torch.as_tensor([])\n",
        "      correct_tensor = torch.as_tensor([])\n",
        "\n",
        "      current_correct = 0\n",
        "      \n",
        "      current_tried = 0\n",
        "      for x_seq, a_seq, by in create_training_examples(sequences, batch_size=batch_size):\n",
        "        prediction = self.predict(x_seq, a_seq).to(\"cpu\")\n",
        "        # print(\"Prediction: {} \\t Actual {}\".format(*prediction, *by) )\n",
        "        predicted_tensor = torch.concat((predicted_tensor, prediction))\n",
        "        correct_tensor = torch.concat((correct_tensor, by.to(\"cpu\")))\n",
        "        # current_correct += torch.sum(prediction==by)\n",
        "        # current_tried += batch_size\n",
        "      confusion_matrix = metrics.confusion_matrix(correct_tensor.numpy(), predicted_tensor.numpy())\n",
        "      \n",
        "\n",
        "\n",
        "      return confusion_matrix\n",
        "\n",
        "    def accuracy(self, sequences, batch_size=8):\n",
        "      current_correct = 0\n",
        "      \n",
        "      current_tried = 0\n",
        "      for x_seq, a_seq, by in create_training_examples(sequences, batch_size=batch_size):\n",
        "        prediction = self.predict(x_seq, a_seq).to(device)\n",
        "        # print(\"Prediction: {} \\t Actual {}\".format(*prediction, *by) )\n",
        "        \n",
        "        current_correct += torch.sum(prediction==by)\n",
        "        current_tried += batch_size\n",
        "\n",
        "      return current_correct / current_tried\n"
      ]
    },
    {
      "cell_type": "markdown",
      "metadata": {
        "id": "Tc3wjfjP4yj2"
      },
      "source": [
        "#### Functions for training and testing a model"
      ]
    },
    {
      "cell_type": "code",
      "execution_count": 23,
      "metadata": {
        "id": "PzLbWwOxR3Qf"
      },
      "outputs": [],
      "source": [
        "import torch.nn.functional as F\n",
        "def train_docbert(pretrained_bert, dataset, hidden_dim=512, num_labels=3, epochs=1):\n",
        "  docbert = DocBert(pretrained_bert, hidden_dim, num_labels)\n",
        "  optimizer = torch.optim.Adam(docbert.parameters(), lr=2e-5) #lr based on docbert article\n",
        "  for epoch in range(epochs):\n",
        "    i = 0\n",
        "    tot_loss = 0\n",
        "    for x_seqs, a_seqs, by in create_training_examples(dataset, batch_size=8, seq_size=200, overlap=50):\n",
        "      optimizer.zero_grad()\n",
        "      preds = docbert.forward(x_seqs, a_seqs)\n",
        "      loss = F.cross_entropy(preds, by)\n",
        "      tot_loss += loss\n",
        "      i += 1\n",
        "      if i % 200 == 0:\n",
        "        print(tot_loss / 200)\n",
        "        tot_loss = 0\n",
        "      loss.backward()\n",
        "      optimizer.step()\n",
        "    \n",
        "  return docbert\n",
        "\n",
        "\n",
        "def calc_opt_epoch_docbert(pretrained_bert, dataset, validation_dataset, hidden_dim=512, num_labels=3, max_epochs=50):\n",
        "  docbert = DocBert(pretrained_bert, hidden_dim, num_labels)\n",
        "  optimizer = torch.optim.Adam(docbert.parameters(), lr=2e-5) #lr based on docbert article\n",
        "  last_accuracy = torch.as_tensor(0)\n",
        "  for epoch in range(max_epochs):\n",
        "    print(\"--- EPOCH {} ---\".format(epoch))\n",
        "    \n",
        "    \n",
        "    for x_seqs, a_seqs, by in create_training_examples(dataset, batch_size=8, seq_size=200, overlap=50):\n",
        "      optimizer.zero_grad()\n",
        "      preds = docbert.forward(x_seqs, a_seqs)\n",
        "      loss = F.cross_entropy(preds, by)\n",
        "      \n",
        "      loss.backward()\n",
        "      optimizer.step()\n",
        "    accuracy = docbert.accuracy(validation_dataset, batch_size=1)\n",
        "    print(\"current accuracy: {:.2f}\".format(100*accuracy))\n",
        "    # if torch.round(1000*accuracy) <= torch.round(1000*last_accuracy):\n",
        "    #   return epoch-1\n",
        "    last_accuracy = accuracy\n",
        "  return max_epochs\n",
        "\n"
      ]
    },
    {
      "cell_type": "code",
      "source": [
        "def calc_from_conf_matrix(conf_matrix, label_names):\n",
        "    col_sums = [0]*len(label_names)\n",
        "    row_sums = []\n",
        "    tot_sum = 0\n",
        "    for rindex, row in enumerate(conf_matrix):\n",
        "        col_sums += row\n",
        "        row_sums.append(sum(row))\n",
        "    tot_sum = sum(row_sums)\n",
        "\n",
        "    accuracy = 0\n",
        "    for i in range(len(label_names)):\n",
        "         \n",
        "        # precision\n",
        "        precision = conf_matrix[i][i] / col_sums[i]\n",
        "        print(\"Precision for {} is {:.2f}%\".format(label_names[i], 100*precision))\n",
        "\n",
        "        # recall\n",
        "        recall = conf_matrix[i][i] / row_sums[i]\n",
        "        print(\"Recall for {} is {:.2f}%\".format(label_names[i], 100*recall))\n",
        "\n",
        "        accuracy += conf_matrix[i][i]\n",
        "    \n",
        "    # accuracy\n",
        "    print(\"Total accuracy is {:.2f}%\".format(100*accuracy/tot_sum))\n"
      ],
      "metadata": {
        "id": "rx4e6KYVUOl5"
      },
      "execution_count": 34,
      "outputs": []
    },
    {
      "cell_type": "code",
      "source": [
        "docbert_finance = train_docbert(bert, financial_news_train_dataset, epochs=25)"
      ],
      "metadata": {
        "colab": {
          "base_uri": "https://localhost:8080/"
        },
        "id": "XJO5yJLuoo-q",
        "outputId": "50d8f30c-337a-4ee9-83f8-e92a750a7a69"
      },
      "execution_count": 37,
      "outputs": [
        {
          "output_type": "stream",
          "name": "stdout",
          "text": [
            "tensor(0.3310, device='cuda:0', grad_fn=<DivBackward0>)\n",
            "tensor(0.0585, device='cuda:0', grad_fn=<DivBackward0>)\n",
            "tensor(0.0643, device='cuda:0', grad_fn=<DivBackward0>)\n",
            "tensor(0.0310, device='cuda:0', grad_fn=<DivBackward0>)\n",
            "tensor(0.0453, device='cuda:0', grad_fn=<DivBackward0>)\n",
            "tensor(0.0238, device='cuda:0', grad_fn=<DivBackward0>)\n",
            "tensor(0.0315, device='cuda:0', grad_fn=<DivBackward0>)\n",
            "tensor(0.0111, device='cuda:0', grad_fn=<DivBackward0>)\n",
            "tensor(0.0087, device='cuda:0', grad_fn=<DivBackward0>)\n",
            "tensor(0.0056, device='cuda:0', grad_fn=<DivBackward0>)\n",
            "tensor(0.0182, device='cuda:0', grad_fn=<DivBackward0>)\n",
            "tensor(0.0168, device='cuda:0', grad_fn=<DivBackward0>)\n",
            "tensor(0.0197, device='cuda:0', grad_fn=<DivBackward0>)\n",
            "tensor(0.0157, device='cuda:0', grad_fn=<DivBackward0>)\n",
            "tensor(0.0040, device='cuda:0', grad_fn=<DivBackward0>)\n",
            "tensor(0.0034, device='cuda:0', grad_fn=<DivBackward0>)\n",
            "tensor(0.0056, device='cuda:0', grad_fn=<DivBackward0>)\n",
            "tensor(0.0111, device='cuda:0', grad_fn=<DivBackward0>)\n",
            "tensor(0.0017, device='cuda:0', grad_fn=<DivBackward0>)\n",
            "tensor(0.0018, device='cuda:0', grad_fn=<DivBackward0>)\n",
            "tensor(0.0013, device='cuda:0', grad_fn=<DivBackward0>)\n",
            "tensor(0.0014, device='cuda:0', grad_fn=<DivBackward0>)\n",
            "tensor(0.0010, device='cuda:0', grad_fn=<DivBackward0>)\n",
            "tensor(0.0011, device='cuda:0', grad_fn=<DivBackward0>)\n",
            "tensor(0.0008, device='cuda:0', grad_fn=<DivBackward0>)\n",
            "tensor(0.0009, device='cuda:0', grad_fn=<DivBackward0>)\n",
            "tensor(0.0007, device='cuda:0', grad_fn=<DivBackward0>)\n",
            "tensor(0.0008, device='cuda:0', grad_fn=<DivBackward0>)\n",
            "tensor(0.0006, device='cuda:0', grad_fn=<DivBackward0>)\n",
            "tensor(0.0006, device='cuda:0', grad_fn=<DivBackward0>)\n",
            "tensor(0.0005, device='cuda:0', grad_fn=<DivBackward0>)\n",
            "tensor(0.0006, device='cuda:0', grad_fn=<DivBackward0>)\n",
            "tensor(0.0004, device='cuda:0', grad_fn=<DivBackward0>)\n",
            "tensor(0.0005, device='cuda:0', grad_fn=<DivBackward0>)\n",
            "tensor(0.0003, device='cuda:0', grad_fn=<DivBackward0>)\n",
            "tensor(0.0005, device='cuda:0', grad_fn=<DivBackward0>)\n",
            "tensor(0.0003, device='cuda:0', grad_fn=<DivBackward0>)\n",
            "tensor(0.0004, device='cuda:0', grad_fn=<DivBackward0>)\n",
            "tensor(0.0003, device='cuda:0', grad_fn=<DivBackward0>)\n",
            "tensor(0.0004, device='cuda:0', grad_fn=<DivBackward0>)\n",
            "tensor(0.0002, device='cuda:0', grad_fn=<DivBackward0>)\n",
            "tensor(0.0004, device='cuda:0', grad_fn=<DivBackward0>)\n",
            "tensor(0.0002, device='cuda:0', grad_fn=<DivBackward0>)\n",
            "tensor(0.0003, device='cuda:0', grad_fn=<DivBackward0>)\n",
            "tensor(0.0002, device='cuda:0', grad_fn=<DivBackward0>)\n",
            "tensor(0.0003, device='cuda:0', grad_fn=<DivBackward0>)\n",
            "tensor(0.0002, device='cuda:0', grad_fn=<DivBackward0>)\n",
            "tensor(0.0003, device='cuda:0', grad_fn=<DivBackward0>)\n",
            "tensor(0.0002, device='cuda:0', grad_fn=<DivBackward0>)\n",
            "tensor(0.0003, device='cuda:0', grad_fn=<DivBackward0>)\n"
          ]
        }
      ]
    },
    {
      "cell_type": "code",
      "source": [
        "docbert_amazon = train_docbert(bert, amazon_review_train_dataset, epochs=25)"
      ],
      "metadata": {
        "id": "X2XFxwK04K5t",
        "colab": {
          "base_uri": "https://localhost:8080/"
        },
        "outputId": "93212459-eb58-44e6-b493-4ce16b7ba10e"
      },
      "execution_count": 27,
      "outputs": [
        {
          "output_type": "stream",
          "name": "stdout",
          "text": [
            "tensor(0.3859, device='cuda:0', grad_fn=<DivBackward0>)\n",
            "tensor(0.2065, device='cuda:0', grad_fn=<DivBackward0>)\n",
            "tensor(0.1831, device='cuda:0', grad_fn=<DivBackward0>)\n",
            "tensor(0.1213, device='cuda:0', grad_fn=<DivBackward0>)\n",
            "tensor(0.0990, device='cuda:0', grad_fn=<DivBackward0>)\n",
            "tensor(0.1336, device='cuda:0', grad_fn=<DivBackward0>)\n",
            "tensor(0.0689, device='cuda:0', grad_fn=<DivBackward0>)\n",
            "tensor(0.0684, device='cuda:0', grad_fn=<DivBackward0>)\n",
            "tensor(0.0933, device='cuda:0', grad_fn=<DivBackward0>)\n",
            "tensor(0.0414, device='cuda:0', grad_fn=<DivBackward0>)\n",
            "tensor(0.0457, device='cuda:0', grad_fn=<DivBackward0>)\n",
            "tensor(0.0685, device='cuda:0', grad_fn=<DivBackward0>)\n",
            "tensor(0.0294, device='cuda:0', grad_fn=<DivBackward0>)\n",
            "tensor(0.0291, device='cuda:0', grad_fn=<DivBackward0>)\n",
            "tensor(0.0359, device='cuda:0', grad_fn=<DivBackward0>)\n",
            "tensor(0.0250, device='cuda:0', grad_fn=<DivBackward0>)\n",
            "tensor(0.0275, device='cuda:0', grad_fn=<DivBackward0>)\n",
            "tensor(0.0421, device='cuda:0', grad_fn=<DivBackward0>)\n",
            "tensor(0.0195, device='cuda:0', grad_fn=<DivBackward0>)\n",
            "tensor(0.0276, device='cuda:0', grad_fn=<DivBackward0>)\n",
            "tensor(0.0199, device='cuda:0', grad_fn=<DivBackward0>)\n",
            "tensor(0.0190, device='cuda:0', grad_fn=<DivBackward0>)\n",
            "tensor(0.0398, device='cuda:0', grad_fn=<DivBackward0>)\n",
            "tensor(0.0210, device='cuda:0', grad_fn=<DivBackward0>)\n",
            "tensor(0.0199, device='cuda:0', grad_fn=<DivBackward0>)\n",
            "tensor(0.0175, device='cuda:0', grad_fn=<DivBackward0>)\n",
            "tensor(0.0166, device='cuda:0', grad_fn=<DivBackward0>)\n",
            "tensor(0.0107, device='cuda:0', grad_fn=<DivBackward0>)\n",
            "tensor(0.0193, device='cuda:0', grad_fn=<DivBackward0>)\n",
            "tensor(0.0231, device='cuda:0', grad_fn=<DivBackward0>)\n",
            "tensor(0.0225, device='cuda:0', grad_fn=<DivBackward0>)\n",
            "tensor(0.0155, device='cuda:0', grad_fn=<DivBackward0>)\n",
            "tensor(0.0076, device='cuda:0', grad_fn=<DivBackward0>)\n",
            "tensor(0.0014, device='cuda:0', grad_fn=<DivBackward0>)\n",
            "tensor(0.0087, device='cuda:0', grad_fn=<DivBackward0>)\n",
            "tensor(0.0015, device='cuda:0', grad_fn=<DivBackward0>)\n",
            "tensor(0.0009, device='cuda:0', grad_fn=<DivBackward0>)\n",
            "tensor(0.0058, device='cuda:0', grad_fn=<DivBackward0>)\n",
            "tensor(0.0009, device='cuda:0', grad_fn=<DivBackward0>)\n",
            "tensor(0.0046, device='cuda:0', grad_fn=<DivBackward0>)\n",
            "tensor(0.0007, device='cuda:0', grad_fn=<DivBackward0>)\n",
            "tensor(0.0006, device='cuda:0', grad_fn=<DivBackward0>)\n",
            "tensor(0.0005, device='cuda:0', grad_fn=<DivBackward0>)\n",
            "tensor(0.0005, device='cuda:0', grad_fn=<DivBackward0>)\n",
            "tensor(0.0005, device='cuda:0', grad_fn=<DivBackward0>)\n",
            "tensor(0.0004, device='cuda:0', grad_fn=<DivBackward0>)\n",
            "tensor(0.0004, device='cuda:0', grad_fn=<DivBackward0>)\n",
            "tensor(0.0003, device='cuda:0', grad_fn=<DivBackward0>)\n",
            "tensor(0.0003, device='cuda:0', grad_fn=<DivBackward0>)\n",
            "tensor(0.0003, device='cuda:0', grad_fn=<DivBackward0>)\n",
            "tensor(0.0003, device='cuda:0', grad_fn=<DivBackward0>)\n",
            "tensor(0.0002, device='cuda:0', grad_fn=<DivBackward0>)\n",
            "tensor(0.0002, device='cuda:0', grad_fn=<DivBackward0>)\n",
            "tensor(0.0002, device='cuda:0', grad_fn=<DivBackward0>)\n",
            "tensor(0.0002, device='cuda:0', grad_fn=<DivBackward0>)\n",
            "tensor(0.0002, device='cuda:0', grad_fn=<DivBackward0>)\n",
            "tensor(0.0002, device='cuda:0', grad_fn=<DivBackward0>)\n",
            "tensor(0.0001, device='cuda:0', grad_fn=<DivBackward0>)\n",
            "tensor(0.0001, device='cuda:0', grad_fn=<DivBackward0>)\n",
            "tensor(0.0001, device='cuda:0', grad_fn=<DivBackward0>)\n",
            "tensor(0.0001, device='cuda:0', grad_fn=<DivBackward0>)\n",
            "tensor(9.9228e-05, device='cuda:0', grad_fn=<DivBackward0>)\n",
            "tensor(9.4324e-05, device='cuda:0', grad_fn=<DivBackward0>)\n",
            "tensor(7.9685e-05, device='cuda:0', grad_fn=<DivBackward0>)\n",
            "tensor(7.6809e-05, device='cuda:0', grad_fn=<DivBackward0>)\n",
            "tensor(7.2962e-05, device='cuda:0', grad_fn=<DivBackward0>)\n",
            "tensor(6.1420e-05, device='cuda:0', grad_fn=<DivBackward0>)\n",
            "tensor(5.8951e-05, device='cuda:0', grad_fn=<DivBackward0>)\n",
            "tensor(5.5860e-05, device='cuda:0', grad_fn=<DivBackward0>)\n",
            "tensor(4.7193e-05, device='cuda:0', grad_fn=<DivBackward0>)\n",
            "tensor(4.5256e-05, device='cuda:0', grad_fn=<DivBackward0>)\n",
            "tensor(4.2834e-05, device='cuda:0', grad_fn=<DivBackward0>)\n",
            "tensor(3.6154e-05, device='cuda:0', grad_fn=<DivBackward0>)\n",
            "tensor(3.4559e-05, device='cuda:0', grad_fn=<DivBackward0>)\n",
            "tensor(3.2670e-05, device='cuda:0', grad_fn=<DivBackward0>)\n"
          ]
        }
      ]
    },
    {
      "cell_type": "code",
      "source": [
        "import matplotlib.pyplot as plt\n",
        "\n",
        "\n",
        "conf_m_amazon = docbert_amazon.get_confusion_matrix(test_dataset, batch_size=1)\n",
        "\n",
        "cm_display = metrics.ConfusionMatrixDisplay(confusion_matrix = conf_m_amazon, display_labels = [\"negative\", \"positive\"])\n",
        "cm_display.plot()"
      ],
      "metadata": {
        "colab": {
          "base_uri": "https://localhost:8080/",
          "height": 297
        },
        "id": "1TdkWgvdUkrZ",
        "outputId": "80b44a55-c649-489c-f988-f4584c406dc5"
      },
      "execution_count": 31,
      "outputs": [
        {
          "output_type": "execute_result",
          "data": {
            "text/plain": [
              "<sklearn.metrics._plot.confusion_matrix.ConfusionMatrixDisplay at 0x7f3d44937a30>"
            ]
          },
          "metadata": {},
          "execution_count": 31
        },
        {
          "output_type": "display_data",
          "data": {
            "text/plain": [
              "<Figure size 432x288 with 2 Axes>"
            ],
            "image/png": "[encoded data removed]"
          },
          "metadata": {
            "needs_background": "light"
          }
        }
      ]
    },
    {
      "cell_type": "code",
      "source": [
        "import matplotlib.pyplot as plt\n",
        "\n",
        "\n",
        "conf_m_finance = docbert_finance.get_confusion_matrix(test_dataset, batch_size=1)\n",
        "\n",
        "cm_display = metrics.ConfusionMatrixDisplay(confusion_matrix = conf_m_finance, display_labels = [\"negative\", \"positive\"])\n",
        "cm_display.plot()"
      ],
      "metadata": {
        "colab": {
          "base_uri": "https://localhost:8080/",
          "height": 297
        },
        "id": "lWB8zUDQo_j-",
        "outputId": "4b848c6a-c906-44f0-8e82-f2fa7d392f9c"
      },
      "execution_count": 38,
      "outputs": [
        {
          "output_type": "execute_result",
          "data": {
            "text/plain": [
              "<sklearn.metrics._plot.confusion_matrix.ConfusionMatrixDisplay at 0x7f3d44b43b80>"
            ]
          },
          "metadata": {},
          "execution_count": 38
        },
        {
          "output_type": "display_data",
          "data": {
            "text/plain": [
              "<Figure size 432x288 with 2 Axes>"
            ],
            "image/png": "[encoded data removed]"
          },
          "metadata": {
            "needs_background": "light"
          }
        }
      ]
    },
    {
      "cell_type": "code",
      "execution_count": 39,
      "metadata": {
        "id": "eOjHNMEv4yj2",
        "colab": {
          "base_uri": "https://localhost:8080/"
        },
        "outputId": "3ddf1882-11d5-4d6e-d160-94d042c1c4d6"
      },
      "outputs": [
        {
          "output_type": "stream",
          "name": "stdout",
          "text": [
            "[[289   1]\n",
            " [  2  18]]\n",
            "Precision for Negative is 99.31%\n",
            "Recall for Negative is 99.66%\n",
            "Precision for Positive is 94.74%\n",
            "Recall for Positive is 90.00%\n",
            "Total accuracy is 99.03%\n"
          ]
        }
      ],
      "source": [
        "print(conf_m_amazon)\n",
        "calc_from_conf_matrix(conf_m_amazon, [\"Negative\", \"Positive\"])\n"
      ]
    },
    {
      "cell_type": "code",
      "source": [
        "print(conf_m_finance)\n",
        "calc_from_conf_matrix(conf_m_finance, [\"Negative\", \"Positive\"])"
      ],
      "metadata": {
        "colab": {
          "base_uri": "https://localhost:8080/"
        },
        "id": "5h1_DGznwP0p",
        "outputId": "8fc5f9d0-62c3-493d-9354-243b09a74c64"
      },
      "execution_count": 40,
      "outputs": [
        {
          "output_type": "stream",
          "name": "stdout",
          "text": [
            "[[288   2]\n",
            " [  2  18]]\n",
            "Precision for Negative is 99.31%\n",
            "Recall for Negative is 99.31%\n",
            "Precision for Positive is 90.00%\n",
            "Recall for Positive is 90.00%\n",
            "Total accuracy is 98.71%\n"
          ]
        }
      ]
    },
    {
      "cell_type": "markdown",
      "source": [
        "# Money calculations\n",
        "Given that all money is invested at every purchase, this is the percentage gain after buying every stock which the model predicted as positive.\n",
        "\n",
        "* A true positive news corresponds to a 4.9% increase in stock price.\n",
        "\n",
        "* A true negative news corresponds to a 5.1% decrease in stock price.\n",
        "\n",
        "* A true neutral news corresponds to a 0.1% decrease due to brokerage."
      ],
      "metadata": {
        "id": "Paefa5cDp_8a"
      }
    },
    {
      "cell_type": "code",
      "source": [
        "def calc_winnings(conf_matrix):\n",
        "    return 0.949**conf_matrix[0][2] * 0.99**conf_matrix[1][2] * 1.051**conf_matrix[2][2]"
      ],
      "metadata": {
        "id": "RcFfDW_2p_H7"
      },
      "execution_count": null,
      "outputs": []
    },
    {
      "cell_type": "code",
      "source": [
        "winning_factor = calc_winnings(conf_m)\n",
        "start_capital = 10000\n",
        "\n",
        "print(\"By investing {} SEK, we would mulitply our initial investment by {:.3f}, thus having {:.0f} SEK\".format(start_capital, winning_factor, start_capital*winning_factor))"
      ],
      "metadata": {
        "colab": {
          "base_uri": "https://localhost:8080/"
        },
        "id": "jE3uQgqZrmrS",
        "outputId": "e491b1e0-4043-45a2-d19c-850363d5eb46"
      },
      "execution_count": null,
      "outputs": [
        {
          "output_type": "stream",
          "name": "stdout",
          "text": [
            "By investing 10000 SEK, we would mulitply our initial investment by 3.004, thus having 30044 SEK\n"
          ]
        }
      ]
    },
    {
      "cell_type": "markdown",
      "metadata": {
        "id": "6lnkrQf9sEhx"
      },
      "source": [
        "## Train and save the financial model"
      ]
    },
    {
      "cell_type": "code",
      "source": [],
      "metadata": {
        "id": "VH9MwnkTwkN9"
      },
      "execution_count": null,
      "outputs": []
    },
    {
      "cell_type": "code",
      "execution_count": null,
      "metadata": {
        "id": "9QzggwTk4yj2"
      },
      "outputs": [],
      "source": []
    },
    {
      "cell_type": "markdown",
      "metadata": {
        "id": "rSzk4FKwsMni"
      },
      "source": [
        "## Load the financial model and evaluate it on similar test-data \n",
        "accuracy should be 88%+"
      ]
    },
    {
      "cell_type": "code",
      "execution_count": null,
      "metadata": {
        "id": "VGjjZWoQdFxa"
      },
      "outputs": [],
      "source": [
        "\n",
        "\n"
      ]
    },
    {
      "cell_type": "code",
      "execution_count": null,
      "metadata": {
        "id": "yPXYKeFSqEhS"
      },
      "outputs": [],
      "source": []
    }
  ],
  "metadata": {
    "accelerator": "GPU",
    "colab": {
      "collapsed_sections": [
        "vCW4rqz4uF31"
      ],
      "provenance": []
    },
    "gpuClass": "standard",
    "kernelspec": {
      "display_name": "venv",
      "language": "python",
      "name": "python3"
    },
    "language_info": {
      "codemirror_mode": {
        "name": "ipython",
        "version": 3
      },
      "file_extension": ".py",
      "mimetype": "text/x-python",
      "name": "python",
      "nbconvert_exporter": "python",
      "pygments_lexer": "ipython3",
      "version": "3.10.10"
    },
    "orig_nbformat": 4,
    "vscode": {
      "interpreter": {
        "hash": "43b1b630598a744212fd16e5095ab3aa6d4637b887bcabe04ae192328f97bb8f"
      }
    },
    "widgets": {
      "application/vnd.jupyter.widget-state+json": {
        "4ca9c0f47d75420f8eb81842ad4b1312": {
          "model_module": "@jupyter-widgets/controls",
          "model_name": "HBoxModel",
          "model_module_version": "1.5.0",
          "state": {
            "_dom_classes": [],
            "_model_module": "@jupyter-widgets/controls",
            "_model_module_version": "1.5.0",
            "_model_name": "HBoxModel",
            "_view_count": null,
            "_view_module": "@jupyter-widgets/controls",
            "_view_module_version": "1.5.0",
            "_view_name": "HBoxView",
            "box_style": "",
            "children": [
              "IPY_MODEL_42d49c8961bf49138555ece9f93b5e5c",
              "IPY_MODEL_a2104210a87f47e1adcc55f61fd09264",
              "IPY_MODEL_3532f7ac99c2402887001c0f59bb857f"
            ],
            "layout": "IPY_MODEL_540501207a51444fb432827f9df1312c"
          }
        },
        "42d49c8961bf49138555ece9f93b5e5c": {
          "model_module": "@jupyter-widgets/controls",
          "model_name": "HTMLModel",
          "model_module_version": "1.5.0",
          "state": {
            "_dom_classes": [],
            "_model_module": "@jupyter-widgets/controls",
            "_model_module_version": "1.5.0",
            "_model_name": "HTMLModel",
            "_view_count": null,
            "_view_module": "@jupyter-widgets/controls",
            "_view_module_version": "1.5.0",
            "_view_name": "HTMLView",
            "description": "",
            "description_tooltip": null,
            "layout": "IPY_MODEL_ceeaeb40301b43a18d6f291366d2a160",
            "placeholder": "​",
            "style": "IPY_MODEL_184318639307412da33b8dc01a696147",
            "value": "Downloading (…)solve/main/vocab.txt: 100%"
          }
        },
        "a2104210a87f47e1adcc55f61fd09264": {
          "model_module": "@jupyter-widgets/controls",
          "model_name": "FloatProgressModel",
          "model_module_version": "1.5.0",
          "state": {
            "_dom_classes": [],
            "_model_module": "@jupyter-widgets/controls",
            "_model_module_version": "1.5.0",
            "_model_name": "FloatProgressModel",
            "_view_count": null,
            "_view_module": "@jupyter-widgets/controls",
            "_view_module_version": "1.5.0",
            "_view_name": "ProgressView",
            "bar_style": "success",
            "description": "",
            "description_tooltip": null,
            "layout": "IPY_MODEL_9ed5602d15e445788140c9bb49db45d8",
            "max": 399162,
            "min": 0,
            "orientation": "horizontal",
            "style": "IPY_MODEL_3e73b2021b1143de809fef3aa034e88e",
            "value": 399162
          }
        },
        "3532f7ac99c2402887001c0f59bb857f": {
          "model_module": "@jupyter-widgets/controls",
          "model_name": "HTMLModel",
          "model_module_version": "1.5.0",
          "state": {
            "_dom_classes": [],
            "_model_module": "@jupyter-widgets/controls",
            "_model_module_version": "1.5.0",
            "_model_name": "HTMLModel",
            "_view_count": null,
            "_view_module": "@jupyter-widgets/controls",
            "_view_module_version": "1.5.0",
            "_view_name": "HTMLView",
            "description": "",
            "description_tooltip": null,
            "layout": "IPY_MODEL_157495e4aede4a5ab53b2b61936f5633",
            "placeholder": "​",
            "style": "IPY_MODEL_d6f0d30005114c3cbd692647bb0d9374",
            "value": " 399k/399k [00:00&lt;00:00, 445kB/s]"
          }
        },
        "540501207a51444fb432827f9df1312c": {
          "model_module": "@jupyter-widgets/base",
          "model_name": "LayoutModel",
          "model_module_version": "1.2.0",
          "state": {
            "_model_module": "@jupyter-widgets/base",
            "_model_module_version": "1.2.0",
            "_model_name": "LayoutModel",
            "_view_count": null,
            "_view_module": "@jupyter-widgets/base",
            "_view_module_version": "1.2.0",
            "_view_name": "LayoutView",
            "align_content": null,
            "align_items": null,
            "align_self": null,
            "border": null,
            "bottom": null,
            "display": null,
            "flex": null,
            "flex_flow": null,
            "grid_area": null,
            "grid_auto_columns": null,
            "grid_auto_flow": null,
            "grid_auto_rows": null,
            "grid_column": null,
            "grid_gap": null,
            "grid_row": null,
            "grid_template_areas": null,
            "grid_template_columns": null,
            "grid_template_rows": null,
            "height": null,
            "justify_content": null,
            "justify_items": null,
            "left": null,
            "margin": null,
            "max_height": null,
            "max_width": null,
            "min_height": null,
            "min_width": null,
            "object_fit": null,
            "object_position": null,
            "order": null,
            "overflow": null,
            "overflow_x": null,
            "overflow_y": null,
            "padding": null,
            "right": null,
            "top": null,
            "visibility": null,
            "width": null
          }
        },
        "ceeaeb40301b43a18d6f291366d2a160": {
          "model_module": "@jupyter-widgets/base",
          "model_name": "LayoutModel",
          "model_module_version": "1.2.0",
          "state": {
            "_model_module": "@jupyter-widgets/base",
            "_model_module_version": "1.2.0",
            "_model_name": "LayoutModel",
            "_view_count": null,
            "_view_module": "@jupyter-widgets/base",
            "_view_module_version": "1.2.0",
            "_view_name": "LayoutView",
            "align_content": null,
            "align_items": null,
            "align_self": null,
            "border": null,
            "bottom": null,
            "display": null,
            "flex": null,
            "flex_flow": null,
            "grid_area": null,
            "grid_auto_columns": null,
            "grid_auto_flow": null,
            "grid_auto_rows": null,
            "grid_column": null,
            "grid_gap": null,
            "grid_row": null,
            "grid_template_areas": null,
            "grid_template_columns": null,
            "grid_template_rows": null,
            "height": null,
            "justify_content": null,
            "justify_items": null,
            "left": null,
            "margin": null,
            "max_height": null,
            "max_width": null,
            "min_height": null,
            "min_width": null,
            "object_fit": null,
            "object_position": null,
            "order": null,
            "overflow": null,
            "overflow_x": null,
            "overflow_y": null,
            "padding": null,
            "right": null,
            "top": null,
            "visibility": null,
            "width": null
          }
        },
        "184318639307412da33b8dc01a696147": {
          "model_module": "@jupyter-widgets/controls",
          "model_name": "DescriptionStyleModel",
          "model_module_version": "1.5.0",
          "state": {
            "_model_module": "@jupyter-widgets/controls",
            "_model_module_version": "1.5.0",
            "_model_name": "DescriptionStyleModel",
            "_view_count": null,
            "_view_module": "@jupyter-widgets/base",
            "_view_module_version": "1.2.0",
            "_view_name": "StyleView",
            "description_width": ""
          }
        },
        "9ed5602d15e445788140c9bb49db45d8": {
          "model_module": "@jupyter-widgets/base",
          "model_name": "LayoutModel",
          "model_module_version": "1.2.0",
          "state": {
            "_model_module": "@jupyter-widgets/base",
            "_model_module_version": "1.2.0",
            "_model_name": "LayoutModel",
            "_view_count": null,
            "_view_module": "@jupyter-widgets/base",
            "_view_module_version": "1.2.0",
            "_view_name": "LayoutView",
            "align_content": null,
            "align_items": null,
            "align_self": null,
            "border": null,
            "bottom": null,
            "display": null,
            "flex": null,
            "flex_flow": null,
            "grid_area": null,
            "grid_auto_columns": null,
            "grid_auto_flow": null,
            "grid_auto_rows": null,
            "grid_column": null,
            "grid_gap": null,
            "grid_row": null,
            "grid_template_areas": null,
            "grid_template_columns": null,
            "grid_template_rows": null,
            "height": null,
            "justify_content": null,
            "justify_items": null,
            "left": null,
            "margin": null,
            "max_height": null,
            "max_width": null,
            "min_height": null,
            "min_width": null,
            "object_fit": null,
            "object_position": null,
            "order": null,
            "overflow": null,
            "overflow_x": null,
            "overflow_y": null,
            "padding": null,
            "right": null,
            "top": null,
            "visibility": null,
            "width": null
          }
        },
        "3e73b2021b1143de809fef3aa034e88e": {
          "model_module": "@jupyter-widgets/controls",
          "model_name": "ProgressStyleModel",
          "model_module_version": "1.5.0",
          "state": {
            "_model_module": "@jupyter-widgets/controls",
            "_model_module_version": "1.5.0",
            "_model_name": "ProgressStyleModel",
            "_view_count": null,
            "_view_module": "@jupyter-widgets/base",
            "_view_module_version": "1.2.0",
            "_view_name": "StyleView",
            "bar_color": null,
            "description_width": ""
          }
        },
        "157495e4aede4a5ab53b2b61936f5633": {
          "model_module": "@jupyter-widgets/base",
          "model_name": "LayoutModel",
          "model_module_version": "1.2.0",
          "state": {
            "_model_module": "@jupyter-widgets/base",
            "_model_module_version": "1.2.0",
            "_model_name": "LayoutModel",
            "_view_count": null,
            "_view_module": "@jupyter-widgets/base",
            "_view_module_version": "1.2.0",
            "_view_name": "LayoutView",
            "align_content": null,
            "align_items": null,
            "align_self": null,
            "border": null,
            "bottom": null,
            "display": null,
            "flex": null,
            "flex_flow": null,
            "grid_area": null,
            "grid_auto_columns": null,
            "grid_auto_flow": null,
            "grid_auto_rows": null,
            "grid_column": null,
            "grid_gap": null,
            "grid_row": null,
            "grid_template_areas": null,
            "grid_template_columns": null,
            "grid_template_rows": null,
            "height": null,
            "justify_content": null,
            "justify_items": null,
            "left": null,
            "margin": null,
            "max_height": null,
            "max_width": null,
            "min_height": null,
            "min_width": null,
            "object_fit": null,
            "object_position": null,
            "order": null,
            "overflow": null,
            "overflow_x": null,
            "overflow_y": null,
            "padding": null,
            "right": null,
            "top": null,
            "visibility": null,
            "width": null
          }
        },
        "d6f0d30005114c3cbd692647bb0d9374": {
          "model_module": "@jupyter-widgets/controls",
          "model_name": "DescriptionStyleModel",
          "model_module_version": "1.5.0",
          "state": {
            "_model_module": "@jupyter-widgets/controls",
            "_model_module_version": "1.5.0",
            "_model_name": "DescriptionStyleModel",
            "_view_count": null,
            "_view_module": "@jupyter-widgets/base",
            "_view_module_version": "1.2.0",
            "_view_name": "StyleView",
            "description_width": ""
          }
        },
        "6ee10dc3397f4486a610d4d91fa1817b": {
          "model_module": "@jupyter-widgets/controls",
          "model_name": "HBoxModel",
          "model_module_version": "1.5.0",
          "state": {
            "_dom_classes": [],
            "_model_module": "@jupyter-widgets/controls",
            "_model_module_version": "1.5.0",
            "_model_name": "HBoxModel",
            "_view_count": null,
            "_view_module": "@jupyter-widgets/controls",
            "_view_module_version": "1.5.0",
            "_view_name": "HBoxView",
            "box_style": "",
            "children": [
              "IPY_MODEL_ee4318a322e14d39b3c9a83f550491e5",
              "IPY_MODEL_c6d9e178537f4928b7dd2ee7a3ce1f69",
              "IPY_MODEL_8640327b77d244a4b5f8e60dcead2c23"
            ],
            "layout": "IPY_MODEL_a50c33b7707b4b17b5d81b18754a6952"
          }
        },
        "ee4318a322e14d39b3c9a83f550491e5": {
          "model_module": "@jupyter-widgets/controls",
          "model_name": "HTMLModel",
          "model_module_version": "1.5.0",
          "state": {
            "_dom_classes": [],
            "_model_module": "@jupyter-widgets/controls",
            "_model_module_version": "1.5.0",
            "_model_name": "HTMLModel",
            "_view_count": null,
            "_view_module": "@jupyter-widgets/controls",
            "_view_module_version": "1.5.0",
            "_view_name": "HTMLView",
            "description": "",
            "description_tooltip": null,
            "layout": "IPY_MODEL_71bbf615f2a74d99b6827c2fb6a53807",
            "placeholder": "​",
            "style": "IPY_MODEL_9c8b6b29580b429ea4dcbbd442e97e67",
            "value": "Downloading (…)in/added_tokens.json: 100%"
          }
        },
        "c6d9e178537f4928b7dd2ee7a3ce1f69": {
          "model_module": "@jupyter-widgets/controls",
          "model_name": "FloatProgressModel",
          "model_module_version": "1.5.0",
          "state": {
            "_dom_classes": [],
            "_model_module": "@jupyter-widgets/controls",
            "_model_module_version": "1.5.0",
            "_model_name": "FloatProgressModel",
            "_view_count": null,
            "_view_module": "@jupyter-widgets/controls",
            "_view_module_version": "1.5.0",
            "_view_name": "ProgressView",
            "bar_style": "success",
            "description": "",
            "description_tooltip": null,
            "layout": "IPY_MODEL_aab013e6915449048df295ba8d7aa9a2",
            "max": 2,
            "min": 0,
            "orientation": "horizontal",
            "style": "IPY_MODEL_21b843d16014440ca1cc5f400eab716a",
            "value": 2
          }
        },
        "8640327b77d244a4b5f8e60dcead2c23": {
          "model_module": "@jupyter-widgets/controls",
          "model_name": "HTMLModel",
          "model_module_version": "1.5.0",
          "state": {
            "_dom_classes": [],
            "_model_module": "@jupyter-widgets/controls",
            "_model_module_version": "1.5.0",
            "_model_name": "HTMLModel",
            "_view_count": null,
            "_view_module": "@jupyter-widgets/controls",
            "_view_module_version": "1.5.0",
            "_view_name": "HTMLView",
            "description": "",
            "description_tooltip": null,
            "layout": "IPY_MODEL_18ccc793ddc64b40afeadf3cbd1a725b",
            "placeholder": "​",
            "style": "IPY_MODEL_96e4433c2799424ba29b405493dd778d",
            "value": " 2.00/2.00 [00:00&lt;00:00, 81.3B/s]"
          }
        },
        "a50c33b7707b4b17b5d81b18754a6952": {
          "model_module": "@jupyter-widgets/base",
          "model_name": "LayoutModel",
          "model_module_version": "1.2.0",
          "state": {
            "_model_module": "@jupyter-widgets/base",
            "_model_module_version": "1.2.0",
            "_model_name": "LayoutModel",
            "_view_count": null,
            "_view_module": "@jupyter-widgets/base",
            "_view_module_version": "1.2.0",
            "_view_name": "LayoutView",
            "align_content": null,
            "align_items": null,
            "align_self": null,
            "border": null,
            "bottom": null,
            "display": null,
            "flex": null,
            "flex_flow": null,
            "grid_area": null,
            "grid_auto_columns": null,
            "grid_auto_flow": null,
            "grid_auto_rows": null,
            "grid_column": null,
            "grid_gap": null,
            "grid_row": null,
            "grid_template_areas": null,
            "grid_template_columns": null,
            "grid_template_rows": null,
            "height": null,
            "justify_content": null,
            "justify_items": null,
            "left": null,
            "margin": null,
            "max_height": null,
            "max_width": null,
            "min_height": null,
            "min_width": null,
            "object_fit": null,
            "object_position": null,
            "order": null,
            "overflow": null,
            "overflow_x": null,
            "overflow_y": null,
            "padding": null,
            "right": null,
            "top": null,
            "visibility": null,
            "width": null
          }
        },
        "71bbf615f2a74d99b6827c2fb6a53807": {
          "model_module": "@jupyter-widgets/base",
          "model_name": "LayoutModel",
          "model_module_version": "1.2.0",
          "state": {
            "_model_module": "@jupyter-widgets/base",
            "_model_module_version": "1.2.0",
            "_model_name": "LayoutModel",
            "_view_count": null,
            "_view_module": "@jupyter-widgets/base",
            "_view_module_version": "1.2.0",
            "_view_name": "LayoutView",
            "align_content": null,
            "align_items": null,
            "align_self": null,
            "border": null,
            "bottom": null,
            "display": null,
            "flex": null,
            "flex_flow": null,
            "grid_area": null,
            "grid_auto_columns": null,
            "grid_auto_flow": null,
            "grid_auto_rows": null,
            "grid_column": null,
            "grid_gap": null,
            "grid_row": null,
            "grid_template_areas": null,
            "grid_template_columns": null,
            "grid_template_rows": null,
            "height": null,
            "justify_content": null,
            "justify_items": null,
            "left": null,
            "margin": null,
            "max_height": null,
            "max_width": null,
            "min_height": null,
            "min_width": null,
            "object_fit": null,
            "object_position": null,
            "order": null,
            "overflow": null,
            "overflow_x": null,
            "overflow_y": null,
            "padding": null,
            "right": null,
            "top": null,
            "visibility": null,
            "width": null
          }
        },
        "9c8b6b29580b429ea4dcbbd442e97e67": {
          "model_module": "@jupyter-widgets/controls",
          "model_name": "DescriptionStyleModel",
          "model_module_version": "1.5.0",
          "state": {
            "_model_module": "@jupyter-widgets/controls",
            "_model_module_version": "1.5.0",
            "_model_name": "DescriptionStyleModel",
            "_view_count": null,
            "_view_module": "@jupyter-widgets/base",
            "_view_module_version": "1.2.0",
            "_view_name": "StyleView",
            "description_width": ""
          }
        },
        "aab013e6915449048df295ba8d7aa9a2": {
          "model_module": "@jupyter-widgets/base",
          "model_name": "LayoutModel",
          "model_module_version": "1.2.0",
          "state": {
            "_model_module": "@jupyter-widgets/base",
            "_model_module_version": "1.2.0",
            "_model_name": "LayoutModel",
            "_view_count": null,
            "_view_module": "@jupyter-widgets/base",
            "_view_module_version": "1.2.0",
            "_view_name": "LayoutView",
            "align_content": null,
            "align_items": null,
            "align_self": null,
            "border": null,
            "bottom": null,
            "display": null,
            "flex": null,
            "flex_flow": null,
            "grid_area": null,
            "grid_auto_columns": null,
            "grid_auto_flow": null,
            "grid_auto_rows": null,
            "grid_column": null,
            "grid_gap": null,
            "grid_row": null,
            "grid_template_areas": null,
            "grid_template_columns": null,
            "grid_template_rows": null,
            "height": null,
            "justify_content": null,
            "justify_items": null,
            "left": null,
            "margin": null,
            "max_height": null,
            "max_width": null,
            "min_height": null,
            "min_width": null,
            "object_fit": null,
            "object_position": null,
            "order": null,
            "overflow": null,
            "overflow_x": null,
            "overflow_y": null,
            "padding": null,
            "right": null,
            "top": null,
            "visibility": null,
            "width": null
          }
        },
        "21b843d16014440ca1cc5f400eab716a": {
          "model_module": "@jupyter-widgets/controls",
          "model_name": "ProgressStyleModel",
          "model_module_version": "1.5.0",
          "state": {
            "_model_module": "@jupyter-widgets/controls",
            "_model_module_version": "1.5.0",
            "_model_name": "ProgressStyleModel",
            "_view_count": null,
            "_view_module": "@jupyter-widgets/base",
            "_view_module_version": "1.2.0",
            "_view_name": "StyleView",
            "bar_color": null,
            "description_width": ""
          }
        },
        "18ccc793ddc64b40afeadf3cbd1a725b": {
          "model_module": "@jupyter-widgets/base",
          "model_name": "LayoutModel",
          "model_module_version": "1.2.0",
          "state": {
            "_model_module": "@jupyter-widgets/base",
            "_model_module_version": "1.2.0",
            "_model_name": "LayoutModel",
            "_view_count": null,
            "_view_module": "@jupyter-widgets/base",
            "_view_module_version": "1.2.0",
            "_view_name": "LayoutView",
            "align_content": null,
            "align_items": null,
            "align_self": null,
            "border": null,
            "bottom": null,
            "display": null,
            "flex": null,
            "flex_flow": null,
            "grid_area": null,
            "grid_auto_columns": null,
            "grid_auto_flow": null,
            "grid_auto_rows": null,
            "grid_column": null,
            "grid_gap": null,
            "grid_row": null,
            "grid_template_areas": null,
            "grid_template_columns": null,
            "grid_template_rows": null,
            "height": null,
            "justify_content": null,
            "justify_items": null,
            "left": null,
            "margin": null,
            "max_height": null,
            "max_width": null,
            "min_height": null,
            "min_width": null,
            "object_fit": null,
            "object_position": null,
            "order": null,
            "overflow": null,
            "overflow_x": null,
            "overflow_y": null,
            "padding": null,
            "right": null,
            "top": null,
            "visibility": null,
            "width": null
          }
        },
        "96e4433c2799424ba29b405493dd778d": {
          "model_module": "@jupyter-widgets/controls",
          "model_name": "DescriptionStyleModel",
          "model_module_version": "1.5.0",
          "state": {
            "_model_module": "@jupyter-widgets/controls",
            "_model_module_version": "1.5.0",
            "_model_name": "DescriptionStyleModel",
            "_view_count": null,
            "_view_module": "@jupyter-widgets/base",
            "_view_module_version": "1.2.0",
            "_view_name": "StyleView",
            "description_width": ""
          }
        },
        "c1f6c79cb7e8406cb9da718c5f932014": {
          "model_module": "@jupyter-widgets/controls",
          "model_name": "HBoxModel",
          "model_module_version": "1.5.0",
          "state": {
            "_dom_classes": [],
            "_model_module": "@jupyter-widgets/controls",
            "_model_module_version": "1.5.0",
            "_model_name": "HBoxModel",
            "_view_count": null,
            "_view_module": "@jupyter-widgets/controls",
            "_view_module_version": "1.5.0",
            "_view_name": "HBoxView",
            "box_style": "",
            "children": [
              "IPY_MODEL_fe8db096509f454e87b81dc68124eb89",
              "IPY_MODEL_f8ccbfcc3ccc4cb485ebb31eca1cae48",
              "IPY_MODEL_308ac19ac4c04c84819e24aecd928157"
            ],
            "layout": "IPY_MODEL_1f82888affc94c03b82e31a42cbc4ba0"
          }
        },
        "fe8db096509f454e87b81dc68124eb89": {
          "model_module": "@jupyter-widgets/controls",
          "model_name": "HTMLModel",
          "model_module_version": "1.5.0",
          "state": {
            "_dom_classes": [],
            "_model_module": "@jupyter-widgets/controls",
            "_model_module_version": "1.5.0",
            "_model_name": "HTMLModel",
            "_view_count": null,
            "_view_module": "@jupyter-widgets/controls",
            "_view_module_version": "1.5.0",
            "_view_name": "HTMLView",
            "description": "",
            "description_tooltip": null,
            "layout": "IPY_MODEL_fb4200a81c2d49cca0ec0631afdb641c",
            "placeholder": "​",
            "style": "IPY_MODEL_ed99c798b7344c8bba188a7f52cdd54c",
            "value": "Downloading (…)cial_tokens_map.json: 100%"
          }
        },
        "f8ccbfcc3ccc4cb485ebb31eca1cae48": {
          "model_module": "@jupyter-widgets/controls",
          "model_name": "FloatProgressModel",
          "model_module_version": "1.5.0",
          "state": {
            "_dom_classes": [],
            "_model_module": "@jupyter-widgets/controls",
            "_model_module_version": "1.5.0",
            "_model_name": "FloatProgressModel",
            "_view_count": null,
            "_view_module": "@jupyter-widgets/controls",
            "_view_module_version": "1.5.0",
            "_view_name": "ProgressView",
            "bar_style": "success",
            "description": "",
            "description_tooltip": null,
            "layout": "IPY_MODEL_a87d92ae86db44e78f5a7f1ff9a33aac",
            "max": 112,
            "min": 0,
            "orientation": "horizontal",
            "style": "IPY_MODEL_2d2be78630984c969934046dd4254cc9",
            "value": 112
          }
        },
        "308ac19ac4c04c84819e24aecd928157": {
          "model_module": "@jupyter-widgets/controls",
          "model_name": "HTMLModel",
          "model_module_version": "1.5.0",
          "state": {
            "_dom_classes": [],
            "_model_module": "@jupyter-widgets/controls",
            "_model_module_version": "1.5.0",
            "_model_name": "HTMLModel",
            "_view_count": null,
            "_view_module": "@jupyter-widgets/controls",
            "_view_module_version": "1.5.0",
            "_view_name": "HTMLView",
            "description": "",
            "description_tooltip": null,
            "layout": "IPY_MODEL_9ded5399799c48bb93fc0b2d061a299b",
            "placeholder": "​",
            "style": "IPY_MODEL_447c8b32b76549b6a38dcf0906fd0162",
            "value": " 112/112 [00:00&lt;00:00, 6.86kB/s]"
          }
        },
        "1f82888affc94c03b82e31a42cbc4ba0": {
          "model_module": "@jupyter-widgets/base",
          "model_name": "LayoutModel",
          "model_module_version": "1.2.0",
          "state": {
            "_model_module": "@jupyter-widgets/base",
            "_model_module_version": "1.2.0",
            "_model_name": "LayoutModel",
            "_view_count": null,
            "_view_module": "@jupyter-widgets/base",
            "_view_module_version": "1.2.0",
            "_view_name": "LayoutView",
            "align_content": null,
            "align_items": null,
            "align_self": null,
            "border": null,
            "bottom": null,
            "display": null,
            "flex": null,
            "flex_flow": null,
            "grid_area": null,
            "grid_auto_columns": null,
            "grid_auto_flow": null,
            "grid_auto_rows": null,
            "grid_column": null,
            "grid_gap": null,
            "grid_row": null,
            "grid_template_areas": null,
            "grid_template_columns": null,
            "grid_template_rows": null,
            "height": null,
            "justify_content": null,
            "justify_items": null,
            "left": null,
            "margin": null,
            "max_height": null,
            "max_width": null,
            "min_height": null,
            "min_width": null,
            "object_fit": null,
            "object_position": null,
            "order": null,
            "overflow": null,
            "overflow_x": null,
            "overflow_y": null,
            "padding": null,
            "right": null,
            "top": null,
            "visibility": null,
            "width": null
          }
        },
        "fb4200a81c2d49cca0ec0631afdb641c": {
          "model_module": "@jupyter-widgets/base",
          "model_name": "LayoutModel",
          "model_module_version": "1.2.0",
          "state": {
            "_model_module": "@jupyter-widgets/base",
            "_model_module_version": "1.2.0",
            "_model_name": "LayoutModel",
            "_view_count": null,
            "_view_module": "@jupyter-widgets/base",
            "_view_module_version": "1.2.0",
            "_view_name": "LayoutView",
            "align_content": null,
            "align_items": null,
            "align_self": null,
            "border": null,
            "bottom": null,
            "display": null,
            "flex": null,
            "flex_flow": null,
            "grid_area": null,
            "grid_auto_columns": null,
            "grid_auto_flow": null,
            "grid_auto_rows": null,
            "grid_column": null,
            "grid_gap": null,
            "grid_row": null,
            "grid_template_areas": null,
            "grid_template_columns": null,
            "grid_template_rows": null,
            "height": null,
            "justify_content": null,
            "justify_items": null,
            "left": null,
            "margin": null,
            "max_height": null,
            "max_width": null,
            "min_height": null,
            "min_width": null,
            "object_fit": null,
            "object_position": null,
            "order": null,
            "overflow": null,
            "overflow_x": null,
            "overflow_y": null,
            "padding": null,
            "right": null,
            "top": null,
            "visibility": null,
            "width": null
          }
        },
        "ed99c798b7344c8bba188a7f52cdd54c": {
          "model_module": "@jupyter-widgets/controls",
          "model_name": "DescriptionStyleModel",
          "model_module_version": "1.5.0",
          "state": {
            "_model_module": "@jupyter-widgets/controls",
            "_model_module_version": "1.5.0",
            "_model_name": "DescriptionStyleModel",
            "_view_count": null,
            "_view_module": "@jupyter-widgets/base",
            "_view_module_version": "1.2.0",
            "_view_name": "StyleView",
            "description_width": ""
          }
        },
        "a87d92ae86db44e78f5a7f1ff9a33aac": {
          "model_module": "@jupyter-widgets/base",
          "model_name": "LayoutModel",
          "model_module_version": "1.2.0",
          "state": {
            "_model_module": "@jupyter-widgets/base",
            "_model_module_version": "1.2.0",
            "_model_name": "LayoutModel",
            "_view_count": null,
            "_view_module": "@jupyter-widgets/base",
            "_view_module_version": "1.2.0",
            "_view_name": "LayoutView",
            "align_content": null,
            "align_items": null,
            "align_self": null,
            "border": null,
            "bottom": null,
            "display": null,
            "flex": null,
            "flex_flow": null,
            "grid_area": null,
            "grid_auto_columns": null,
            "grid_auto_flow": null,
            "grid_auto_rows": null,
            "grid_column": null,
            "grid_gap": null,
            "grid_row": null,
            "grid_template_areas": null,
            "grid_template_columns": null,
            "grid_template_rows": null,
            "height": null,
            "justify_content": null,
            "justify_items": null,
            "left": null,
            "margin": null,
            "max_height": null,
            "max_width": null,
            "min_height": null,
            "min_width": null,
            "object_fit": null,
            "object_position": null,
            "order": null,
            "overflow": null,
            "overflow_x": null,
            "overflow_y": null,
            "padding": null,
            "right": null,
            "top": null,
            "visibility": null,
            "width": null
          }
        },
        "2d2be78630984c969934046dd4254cc9": {
          "model_module": "@jupyter-widgets/controls",
          "model_name": "ProgressStyleModel",
          "model_module_version": "1.5.0",
          "state": {
            "_model_module": "@jupyter-widgets/controls",
            "_model_module_version": "1.5.0",
            "_model_name": "ProgressStyleModel",
            "_view_count": null,
            "_view_module": "@jupyter-widgets/base",
            "_view_module_version": "1.2.0",
            "_view_name": "StyleView",
            "bar_color": null,
            "description_width": ""
          }
        },
        "9ded5399799c48bb93fc0b2d061a299b": {
          "model_module": "@jupyter-widgets/base",
          "model_name": "LayoutModel",
          "model_module_version": "1.2.0",
          "state": {
            "_model_module": "@jupyter-widgets/base",
            "_model_module_version": "1.2.0",
            "_model_name": "LayoutModel",
            "_view_count": null,
            "_view_module": "@jupyter-widgets/base",
            "_view_module_version": "1.2.0",
            "_view_name": "LayoutView",
            "align_content": null,
            "align_items": null,
            "align_self": null,
            "border": null,
            "bottom": null,
            "display": null,
            "flex": null,
            "flex_flow": null,
            "grid_area": null,
            "grid_auto_columns": null,
            "grid_auto_flow": null,
            "grid_auto_rows": null,
            "grid_column": null,
            "grid_gap": null,
            "grid_row": null,
            "grid_template_areas": null,
            "grid_template_columns": null,
            "grid_template_rows": null,
            "height": null,
            "justify_content": null,
            "justify_items": null,
            "left": null,
            "margin": null,
            "max_height": null,
            "max_width": null,
            "min_height": null,
            "min_width": null,
            "object_fit": null,
            "object_position": null,
            "order": null,
            "overflow": null,
            "overflow_x": null,
            "overflow_y": null,
            "padding": null,
            "right": null,
            "top": null,
            "visibility": null,
            "width": null
          }
        },
        "447c8b32b76549b6a38dcf0906fd0162": {
          "model_module": "@jupyter-widgets/controls",
          "model_name": "DescriptionStyleModel",
          "model_module_version": "1.5.0",
          "state": {
            "_model_module": "@jupyter-widgets/controls",
            "_model_module_version": "1.5.0",
            "_model_name": "DescriptionStyleModel",
            "_view_count": null,
            "_view_module": "@jupyter-widgets/base",
            "_view_module_version": "1.2.0",
            "_view_name": "StyleView",
            "description_width": ""
          }
        },
        "d652838a9d5e4b3fa9553878ae75ea11": {
          "model_module": "@jupyter-widgets/controls",
          "model_name": "HBoxModel",
          "model_module_version": "1.5.0",
          "state": {
            "_dom_classes": [],
            "_model_module": "@jupyter-widgets/controls",
            "_model_module_version": "1.5.0",
            "_model_name": "HBoxModel",
            "_view_count": null,
            "_view_module": "@jupyter-widgets/controls",
            "_view_module_version": "1.5.0",
            "_view_name": "HBoxView",
            "box_style": "",
            "children": [
              "IPY_MODEL_be6b0040c2eb465eacf551338c118e36",
              "IPY_MODEL_df8c212a21194f0b92612aa8e4fa4c66",
              "IPY_MODEL_ff05af3585c94e689e4c50709b049c8b"
            ],
            "layout": "IPY_MODEL_f7ecc0f2600342709e1d3429f41831bb"
          }
        },
        "be6b0040c2eb465eacf551338c118e36": {
          "model_module": "@jupyter-widgets/controls",
          "model_name": "HTMLModel",
          "model_module_version": "1.5.0",
          "state": {
            "_dom_classes": [],
            "_model_module": "@jupyter-widgets/controls",
            "_model_module_version": "1.5.0",
            "_model_name": "HTMLModel",
            "_view_count": null,
            "_view_module": "@jupyter-widgets/controls",
            "_view_module_version": "1.5.0",
            "_view_name": "HTMLView",
            "description": "",
            "description_tooltip": null,
            "layout": "IPY_MODEL_648bca3b54394767b255ff8cfc2cf4ae",
            "placeholder": "​",
            "style": "IPY_MODEL_b973326abf87425693cf33cdcbd39c8c",
            "value": "Downloading (…)okenizer_config.json: 100%"
          }
        },
        "df8c212a21194f0b92612aa8e4fa4c66": {
          "model_module": "@jupyter-widgets/controls",
          "model_name": "FloatProgressModel",
          "model_module_version": "1.5.0",
          "state": {
            "_dom_classes": [],
            "_model_module": "@jupyter-widgets/controls",
            "_model_module_version": "1.5.0",
            "_model_name": "FloatProgressModel",
            "_view_count": null,
            "_view_module": "@jupyter-widgets/controls",
            "_view_module_version": "1.5.0",
            "_view_name": "ProgressView",
            "bar_style": "success",
            "description": "",
            "description_tooltip": null,
            "layout": "IPY_MODEL_038eb7f71a174ebfa2055044b415b976",
            "max": 48,
            "min": 0,
            "orientation": "horizontal",
            "style": "IPY_MODEL_636d3eadea5349f9b7501a1a57d8eefd",
            "value": 48
          }
        },
        "ff05af3585c94e689e4c50709b049c8b": {
          "model_module": "@jupyter-widgets/controls",
          "model_name": "HTMLModel",
          "model_module_version": "1.5.0",
          "state": {
            "_dom_classes": [],
            "_model_module": "@jupyter-widgets/controls",
            "_model_module_version": "1.5.0",
            "_model_name": "HTMLModel",
            "_view_count": null,
            "_view_module": "@jupyter-widgets/controls",
            "_view_module_version": "1.5.0",
            "_view_name": "HTMLView",
            "description": "",
            "description_tooltip": null,
            "layout": "IPY_MODEL_436e8d46e9d8435d886aa8164e766dd2",
            "placeholder": "​",
            "style": "IPY_MODEL_dd80dbedf901497dbd70e28280780005",
            "value": " 48.0/48.0 [00:00&lt;00:00, 3.08kB/s]"
          }
        },
        "f7ecc0f2600342709e1d3429f41831bb": {
          "model_module": "@jupyter-widgets/base",
          "model_name": "LayoutModel",
          "model_module_version": "1.2.0",
          "state": {
            "_model_module": "@jupyter-widgets/base",
            "_model_module_version": "1.2.0",
            "_model_name": "LayoutModel",
            "_view_count": null,
            "_view_module": "@jupyter-widgets/base",
            "_view_module_version": "1.2.0",
            "_view_name": "LayoutView",
            "align_content": null,
            "align_items": null,
            "align_self": null,
            "border": null,
            "bottom": null,
            "display": null,
            "flex": null,
            "flex_flow": null,
            "grid_area": null,
            "grid_auto_columns": null,
            "grid_auto_flow": null,
            "grid_auto_rows": null,
            "grid_column": null,
            "grid_gap": null,
            "grid_row": null,
            "grid_template_areas": null,
            "grid_template_columns": null,
            "grid_template_rows": null,
            "height": null,
            "justify_content": null,
            "justify_items": null,
            "left": null,
            "margin": null,
            "max_height": null,
            "max_width": null,
            "min_height": null,
            "min_width": null,
            "object_fit": null,
            "object_position": null,
            "order": null,
            "overflow": null,
            "overflow_x": null,
            "overflow_y": null,
            "padding": null,
            "right": null,
            "top": null,
            "visibility": null,
            "width": null
          }
        },
        "648bca3b54394767b255ff8cfc2cf4ae": {
          "model_module": "@jupyter-widgets/base",
          "model_name": "LayoutModel",
          "model_module_version": "1.2.0",
          "state": {
            "_model_module": "@jupyter-widgets/base",
            "_model_module_version": "1.2.0",
            "_model_name": "LayoutModel",
            "_view_count": null,
            "_view_module": "@jupyter-widgets/base",
            "_view_module_version": "1.2.0",
            "_view_name": "LayoutView",
            "align_content": null,
            "align_items": null,
            "align_self": null,
            "border": null,
            "bottom": null,
            "display": null,
            "flex": null,
            "flex_flow": null,
            "grid_area": null,
            "grid_auto_columns": null,
            "grid_auto_flow": null,
            "grid_auto_rows": null,
            "grid_column": null,
            "grid_gap": null,
            "grid_row": null,
            "grid_template_areas": null,
            "grid_template_columns": null,
            "grid_template_rows": null,
            "height": null,
            "justify_content": null,
            "justify_items": null,
            "left": null,
            "margin": null,
            "max_height": null,
            "max_width": null,
            "min_height": null,
            "min_width": null,
            "object_fit": null,
            "object_position": null,
            "order": null,
            "overflow": null,
            "overflow_x": null,
            "overflow_y": null,
            "padding": null,
            "right": null,
            "top": null,
            "visibility": null,
            "width": null
          }
        },
        "b973326abf87425693cf33cdcbd39c8c": {
          "model_module": "@jupyter-widgets/controls",
          "model_name": "DescriptionStyleModel",
          "model_module_version": "1.5.0",
          "state": {
            "_model_module": "@jupyter-widgets/controls",
            "_model_module_version": "1.5.0",
            "_model_name": "DescriptionStyleModel",
            "_view_count": null,
            "_view_module": "@jupyter-widgets/base",
            "_view_module_version": "1.2.0",
            "_view_name": "StyleView",
            "description_width": ""
          }
        },
        "038eb7f71a174ebfa2055044b415b976": {
          "model_module": "@jupyter-widgets/base",
          "model_name": "LayoutModel",
          "model_module_version": "1.2.0",
          "state": {
            "_model_module": "@jupyter-widgets/base",
            "_model_module_version": "1.2.0",
            "_model_name": "LayoutModel",
            "_view_count": null,
            "_view_module": "@jupyter-widgets/base",
            "_view_module_version": "1.2.0",
            "_view_name": "LayoutView",
            "align_content": null,
            "align_items": null,
            "align_self": null,
            "border": null,
            "bottom": null,
            "display": null,
            "flex": null,
            "flex_flow": null,
            "grid_area": null,
            "grid_auto_columns": null,
            "grid_auto_flow": null,
            "grid_auto_rows": null,
            "grid_column": null,
            "grid_gap": null,
            "grid_row": null,
            "grid_template_areas": null,
            "grid_template_columns": null,
            "grid_template_rows": null,
            "height": null,
            "justify_content": null,
            "justify_items": null,
            "left": null,
            "margin": null,
            "max_height": null,
            "max_width": null,
            "min_height": null,
            "min_width": null,
            "object_fit": null,
            "object_position": null,
            "order": null,
            "overflow": null,
            "overflow_x": null,
            "overflow_y": null,
            "padding": null,
            "right": null,
            "top": null,
            "visibility": null,
            "width": null
          }
        },
        "636d3eadea5349f9b7501a1a57d8eefd": {
          "model_module": "@jupyter-widgets/controls",
          "model_name": "ProgressStyleModel",
          "model_module_version": "1.5.0",
          "state": {
            "_model_module": "@jupyter-widgets/controls",
            "_model_module_version": "1.5.0",
            "_model_name": "ProgressStyleModel",
            "_view_count": null,
            "_view_module": "@jupyter-widgets/base",
            "_view_module_version": "1.2.0",
            "_view_name": "StyleView",
            "bar_color": null,
            "description_width": ""
          }
        },
        "436e8d46e9d8435d886aa8164e766dd2": {
          "model_module": "@jupyter-widgets/base",
          "model_name": "LayoutModel",
          "model_module_version": "1.2.0",
          "state": {
            "_model_module": "@jupyter-widgets/base",
            "_model_module_version": "1.2.0",
            "_model_name": "LayoutModel",
            "_view_count": null,
            "_view_module": "@jupyter-widgets/base",
            "_view_module_version": "1.2.0",
            "_view_name": "LayoutView",
            "align_content": null,
            "align_items": null,
            "align_self": null,
            "border": null,
            "bottom": null,
            "display": null,
            "flex": null,
            "flex_flow": null,
            "grid_area": null,
            "grid_auto_columns": null,
            "grid_auto_flow": null,
            "grid_auto_rows": null,
            "grid_column": null,
            "grid_gap": null,
            "grid_row": null,
            "grid_template_areas": null,
            "grid_template_columns": null,
            "grid_template_rows": null,
            "height": null,
            "justify_content": null,
            "justify_items": null,
            "left": null,
            "margin": null,
            "max_height": null,
            "max_width": null,
            "min_height": null,
            "min_width": null,
            "object_fit": null,
            "object_position": null,
            "order": null,
            "overflow": null,
            "overflow_x": null,
            "overflow_y": null,
            "padding": null,
            "right": null,
            "top": null,
            "visibility": null,
            "width": null
          }
        },
        "dd80dbedf901497dbd70e28280780005": {
          "model_module": "@jupyter-widgets/controls",
          "model_name": "DescriptionStyleModel",
          "model_module_version": "1.5.0",
          "state": {
            "_model_module": "@jupyter-widgets/controls",
            "_model_module_version": "1.5.0",
            "_model_name": "DescriptionStyleModel",
            "_view_count": null,
            "_view_module": "@jupyter-widgets/base",
            "_view_module_version": "1.2.0",
            "_view_name": "StyleView",
            "description_width": ""
          }
        },
        "79ba94c6455547edb52b630621896c1d": {
          "model_module": "@jupyter-widgets/controls",
          "model_name": "HBoxModel",
          "model_module_version": "1.5.0",
          "state": {
            "_dom_classes": [],
            "_model_module": "@jupyter-widgets/controls",
            "_model_module_version": "1.5.0",
            "_model_name": "HBoxModel",
            "_view_count": null,
            "_view_module": "@jupyter-widgets/controls",
            "_view_module_version": "1.5.0",
            "_view_name": "HBoxView",
            "box_style": "",
            "children": [
              "IPY_MODEL_2a21df8e76dc47728ba1536c1b526317",
              "IPY_MODEL_d8e0f000bc344afc999df2da3a8eed99",
              "IPY_MODEL_71c7c7981ed24837ad3536b27be0ef7e"
            ],
            "layout": "IPY_MODEL_030202dd582042e5bdd3f28faa75f694"
          }
        },
        "2a21df8e76dc47728ba1536c1b526317": {
          "model_module": "@jupyter-widgets/controls",
          "model_name": "HTMLModel",
          "model_module_version": "1.5.0",
          "state": {
            "_dom_classes": [],
            "_model_module": "@jupyter-widgets/controls",
            "_model_module_version": "1.5.0",
            "_model_name": "HTMLModel",
            "_view_count": null,
            "_view_module": "@jupyter-widgets/controls",
            "_view_module_version": "1.5.0",
            "_view_name": "HTMLView",
            "description": "",
            "description_tooltip": null,
            "layout": "IPY_MODEL_8a78550ffebf424aa310f9a8a920ddbd",
            "placeholder": "​",
            "style": "IPY_MODEL_be6010859f39427081ae8cf3600f443c",
            "value": "Downloading (…)lve/main/config.json: 100%"
          }
        },
        "d8e0f000bc344afc999df2da3a8eed99": {
          "model_module": "@jupyter-widgets/controls",
          "model_name": "FloatProgressModel",
          "model_module_version": "1.5.0",
          "state": {
            "_dom_classes": [],
            "_model_module": "@jupyter-widgets/controls",
            "_model_module_version": "1.5.0",
            "_model_name": "FloatProgressModel",
            "_view_count": null,
            "_view_module": "@jupyter-widgets/controls",
            "_view_module_version": "1.5.0",
            "_view_name": "ProgressView",
            "bar_style": "success",
            "description": "",
            "description_tooltip": null,
            "layout": "IPY_MODEL_323dfe6421d94c43946379456d18e37c",
            "max": 491,
            "min": 0,
            "orientation": "horizontal",
            "style": "IPY_MODEL_d0767580c75c49c1bc6d45e50d530766",
            "value": 491
          }
        },
        "71c7c7981ed24837ad3536b27be0ef7e": {
          "model_module": "@jupyter-widgets/controls",
          "model_name": "HTMLModel",
          "model_module_version": "1.5.0",
          "state": {
            "_dom_classes": [],
            "_model_module": "@jupyter-widgets/controls",
            "_model_module_version": "1.5.0",
            "_model_name": "HTMLModel",
            "_view_count": null,
            "_view_module": "@jupyter-widgets/controls",
            "_view_module_version": "1.5.0",
            "_view_name": "HTMLView",
            "description": "",
            "description_tooltip": null,
            "layout": "IPY_MODEL_e5b28a0286da438e96493ab3eb9f9a08",
            "placeholder": "​",
            "style": "IPY_MODEL_ec25d504bbfe4bb2a9c2ca043e94800e",
            "value": " 491/491 [00:00&lt;00:00, 26.1kB/s]"
          }
        },
        "030202dd582042e5bdd3f28faa75f694": {
          "model_module": "@jupyter-widgets/base",
          "model_name": "LayoutModel",
          "model_module_version": "1.2.0",
          "state": {
            "_model_module": "@jupyter-widgets/base",
            "_model_module_version": "1.2.0",
            "_model_name": "LayoutModel",
            "_view_count": null,
            "_view_module": "@jupyter-widgets/base",
            "_view_module_version": "1.2.0",
            "_view_name": "LayoutView",
            "align_content": null,
            "align_items": null,
            "align_self": null,
            "border": null,
            "bottom": null,
            "display": null,
            "flex": null,
            "flex_flow": null,
            "grid_area": null,
            "grid_auto_columns": null,
            "grid_auto_flow": null,
            "grid_auto_rows": null,
            "grid_column": null,
            "grid_gap": null,
            "grid_row": null,
            "grid_template_areas": null,
            "grid_template_columns": null,
            "grid_template_rows": null,
            "height": null,
            "justify_content": null,
            "justify_items": null,
            "left": null,
            "margin": null,
            "max_height": null,
            "max_width": null,
            "min_height": null,
            "min_width": null,
            "object_fit": null,
            "object_position": null,
            "order": null,
            "overflow": null,
            "overflow_x": null,
            "overflow_y": null,
            "padding": null,
            "right": null,
            "top": null,
            "visibility": null,
            "width": null
          }
        },
        "8a78550ffebf424aa310f9a8a920ddbd": {
          "model_module": "@jupyter-widgets/base",
          "model_name": "LayoutModel",
          "model_module_version": "1.2.0",
          "state": {
            "_model_module": "@jupyter-widgets/base",
            "_model_module_version": "1.2.0",
            "_model_name": "LayoutModel",
            "_view_count": null,
            "_view_module": "@jupyter-widgets/base",
            "_view_module_version": "1.2.0",
            "_view_name": "LayoutView",
            "align_content": null,
            "align_items": null,
            "align_self": null,
            "border": null,
            "bottom": null,
            "display": null,
            "flex": null,
            "flex_flow": null,
            "grid_area": null,
            "grid_auto_columns": null,
            "grid_auto_flow": null,
            "grid_auto_rows": null,
            "grid_column": null,
            "grid_gap": null,
            "grid_row": null,
            "grid_template_areas": null,
            "grid_template_columns": null,
            "grid_template_rows": null,
            "height": null,
            "justify_content": null,
            "justify_items": null,
            "left": null,
            "margin": null,
            "max_height": null,
            "max_width": null,
            "min_height": null,
            "min_width": null,
            "object_fit": null,
            "object_position": null,
            "order": null,
            "overflow": null,
            "overflow_x": null,
            "overflow_y": null,
            "padding": null,
            "right": null,
            "top": null,
            "visibility": null,
            "width": null
          }
        },
        "be6010859f39427081ae8cf3600f443c": {
          "model_module": "@jupyter-widgets/controls",
          "model_name": "DescriptionStyleModel",
          "model_module_version": "1.5.0",
          "state": {
            "_model_module": "@jupyter-widgets/controls",
            "_model_module_version": "1.5.0",
            "_model_name": "DescriptionStyleModel",
            "_view_count": null,
            "_view_module": "@jupyter-widgets/base",
            "_view_module_version": "1.2.0",
            "_view_name": "StyleView",
            "description_width": ""
          }
        },
        "323dfe6421d94c43946379456d18e37c": {
          "model_module": "@jupyter-widgets/base",
          "model_name": "LayoutModel",
          "model_module_version": "1.2.0",
          "state": {
            "_model_module": "@jupyter-widgets/base",
            "_model_module_version": "1.2.0",
            "_model_name": "LayoutModel",
            "_view_count": null,
            "_view_module": "@jupyter-widgets/base",
            "_view_module_version": "1.2.0",
            "_view_name": "LayoutView",
            "align_content": null,
            "align_items": null,
            "align_self": null,
            "border": null,
            "bottom": null,
            "display": null,
            "flex": null,
            "flex_flow": null,
            "grid_area": null,
            "grid_auto_columns": null,
            "grid_auto_flow": null,
            "grid_auto_rows": null,
            "grid_column": null,
            "grid_gap": null,
            "grid_row": null,
            "grid_template_areas": null,
            "grid_template_columns": null,
            "grid_template_rows": null,
            "height": null,
            "justify_content": null,
            "justify_items": null,
            "left": null,
            "margin": null,
            "max_height": null,
            "max_width": null,
            "min_height": null,
            "min_width": null,
            "object_fit": null,
            "object_position": null,
            "order": null,
            "overflow": null,
            "overflow_x": null,
            "overflow_y": null,
            "padding": null,
            "right": null,
            "top": null,
            "visibility": null,
            "width": null
          }
        },
        "d0767580c75c49c1bc6d45e50d530766": {
          "model_module": "@jupyter-widgets/controls",
          "model_name": "ProgressStyleModel",
          "model_module_version": "1.5.0",
          "state": {
            "_model_module": "@jupyter-widgets/controls",
            "_model_module_version": "1.5.0",
            "_model_name": "ProgressStyleModel",
            "_view_count": null,
            "_view_module": "@jupyter-widgets/base",
            "_view_module_version": "1.2.0",
            "_view_name": "StyleView",
            "bar_color": null,
            "description_width": ""
          }
        },
        "e5b28a0286da438e96493ab3eb9f9a08": {
          "model_module": "@jupyter-widgets/base",
          "model_name": "LayoutModel",
          "model_module_version": "1.2.0",
          "state": {
            "_model_module": "@jupyter-widgets/base",
            "_model_module_version": "1.2.0",
            "_model_name": "LayoutModel",
            "_view_count": null,
            "_view_module": "@jupyter-widgets/base",
            "_view_module_version": "1.2.0",
            "_view_name": "LayoutView",
            "align_content": null,
            "align_items": null,
            "align_self": null,
            "border": null,
            "bottom": null,
            "display": null,
            "flex": null,
            "flex_flow": null,
            "grid_area": null,
            "grid_auto_columns": null,
            "grid_auto_flow": null,
            "grid_auto_rows": null,
            "grid_column": null,
            "grid_gap": null,
            "grid_row": null,
            "grid_template_areas": null,
            "grid_template_columns": null,
            "grid_template_rows": null,
            "height": null,
            "justify_content": null,
            "justify_items": null,
            "left": null,
            "margin": null,
            "max_height": null,
            "max_width": null,
            "min_height": null,
            "min_width": null,
            "object_fit": null,
            "object_position": null,
            "order": null,
            "overflow": null,
            "overflow_x": null,
            "overflow_y": null,
            "padding": null,
            "right": null,
            "top": null,
            "visibility": null,
            "width": null
          }
        },
        "ec25d504bbfe4bb2a9c2ca043e94800e": {
          "model_module": "@jupyter-widgets/controls",
          "model_name": "DescriptionStyleModel",
          "model_module_version": "1.5.0",
          "state": {
            "_model_module": "@jupyter-widgets/controls",
            "_model_module_version": "1.5.0",
            "_model_name": "DescriptionStyleModel",
            "_view_count": null,
            "_view_module": "@jupyter-widgets/base",
            "_view_module_version": "1.2.0",
            "_view_name": "StyleView",
            "description_width": ""
          }
        },
        "d7bc2999358b4e37bc9b78a914d22f4c": {
          "model_module": "@jupyter-widgets/controls",
          "model_name": "HBoxModel",
          "model_module_version": "1.5.0",
          "state": {
            "_dom_classes": [],
            "_model_module": "@jupyter-widgets/controls",
            "_model_module_version": "1.5.0",
            "_model_name": "HBoxModel",
            "_view_count": null,
            "_view_module": "@jupyter-widgets/controls",
            "_view_module_version": "1.5.0",
            "_view_name": "HBoxView",
            "box_style": "",
            "children": [
              "IPY_MODEL_98c16cbaa8444931aaea92986d67e551",
              "IPY_MODEL_797f747636774ae99cc58e416c90d9e5",
              "IPY_MODEL_43b0b67d1c334a6e90b1554880674ef3"
            ],
            "layout": "IPY_MODEL_41a517f0e65b494997952d21f9a032b4"
          }
        },
        "98c16cbaa8444931aaea92986d67e551": {
          "model_module": "@jupyter-widgets/controls",
          "model_name": "HTMLModel",
          "model_module_version": "1.5.0",
          "state": {
            "_dom_classes": [],
            "_model_module": "@jupyter-widgets/controls",
            "_model_module_version": "1.5.0",
            "_model_name": "HTMLModel",
            "_view_count": null,
            "_view_module": "@jupyter-widgets/controls",
            "_view_module_version": "1.5.0",
            "_view_name": "HTMLView",
            "description": "",
            "description_tooltip": null,
            "layout": "IPY_MODEL_13e2723a0d7f4d0e88b2753125a50fad",
            "placeholder": "​",
            "style": "IPY_MODEL_27e1a6edf1074aa4a9f18a69279c2602",
            "value": "Downloading pytorch_model.bin: 100%"
          }
        },
        "797f747636774ae99cc58e416c90d9e5": {
          "model_module": "@jupyter-widgets/controls",
          "model_name": "FloatProgressModel",
          "model_module_version": "1.5.0",
          "state": {
            "_dom_classes": [],
            "_model_module": "@jupyter-widgets/controls",
            "_model_module_version": "1.5.0",
            "_model_name": "FloatProgressModel",
            "_view_count": null,
            "_view_module": "@jupyter-widgets/controls",
            "_view_module_version": "1.5.0",
            "_view_name": "ProgressView",
            "bar_style": "success",
            "description": "",
            "description_tooltip": null,
            "layout": "IPY_MODEL_ea3f27d5b87c4134816cecc5768a029a",
            "max": 501379977,
            "min": 0,
            "orientation": "horizontal",
            "style": "IPY_MODEL_55cabec2214241c79463a484821b6b76",
            "value": 501379977
          }
        },
        "43b0b67d1c334a6e90b1554880674ef3": {
          "model_module": "@jupyter-widgets/controls",
          "model_name": "HTMLModel",
          "model_module_version": "1.5.0",
          "state": {
            "_dom_classes": [],
            "_model_module": "@jupyter-widgets/controls",
            "_model_module_version": "1.5.0",
            "_model_name": "HTMLModel",
            "_view_count": null,
            "_view_module": "@jupyter-widgets/controls",
            "_view_module_version": "1.5.0",
            "_view_name": "HTMLView",
            "description": "",
            "description_tooltip": null,
            "layout": "IPY_MODEL_fc1bd4a0cb7b4c29a2c5910745d78bbb",
            "placeholder": "​",
            "style": "IPY_MODEL_374e39e9026442938919457a2a3f9b42",
            "value": " 501M/501M [00:07&lt;00:00, 72.9MB/s]"
          }
        },
        "41a517f0e65b494997952d21f9a032b4": {
          "model_module": "@jupyter-widgets/base",
          "model_name": "LayoutModel",
          "model_module_version": "1.2.0",
          "state": {
            "_model_module": "@jupyter-widgets/base",
            "_model_module_version": "1.2.0",
            "_model_name": "LayoutModel",
            "_view_count": null,
            "_view_module": "@jupyter-widgets/base",
            "_view_module_version": "1.2.0",
            "_view_name": "LayoutView",
            "align_content": null,
            "align_items": null,
            "align_self": null,
            "border": null,
            "bottom": null,
            "display": null,
            "flex": null,
            "flex_flow": null,
            "grid_area": null,
            "grid_auto_columns": null,
            "grid_auto_flow": null,
            "grid_auto_rows": null,
            "grid_column": null,
            "grid_gap": null,
            "grid_row": null,
            "grid_template_areas": null,
            "grid_template_columns": null,
            "grid_template_rows": null,
            "height": null,
            "justify_content": null,
            "justify_items": null,
            "left": null,
            "margin": null,
            "max_height": null,
            "max_width": null,
            "min_height": null,
            "min_width": null,
            "object_fit": null,
            "object_position": null,
            "order": null,
            "overflow": null,
            "overflow_x": null,
            "overflow_y": null,
            "padding": null,
            "right": null,
            "top": null,
            "visibility": null,
            "width": null
          }
        },
        "13e2723a0d7f4d0e88b2753125a50fad": {
          "model_module": "@jupyter-widgets/base",
          "model_name": "LayoutModel",
          "model_module_version": "1.2.0",
          "state": {
            "_model_module": "@jupyter-widgets/base",
            "_model_module_version": "1.2.0",
            "_model_name": "LayoutModel",
            "_view_count": null,
            "_view_module": "@jupyter-widgets/base",
            "_view_module_version": "1.2.0",
            "_view_name": "LayoutView",
            "align_content": null,
            "align_items": null,
            "align_self": null,
            "border": null,
            "bottom": null,
            "display": null,
            "flex": null,
            "flex_flow": null,
            "grid_area": null,
            "grid_auto_columns": null,
            "grid_auto_flow": null,
            "grid_auto_rows": null,
            "grid_column": null,
            "grid_gap": null,
            "grid_row": null,
            "grid_template_areas": null,
            "grid_template_columns": null,
            "grid_template_rows": null,
            "height": null,
            "justify_content": null,
            "justify_items": null,
            "left": null,
            "margin": null,
            "max_height": null,
            "max_width": null,
            "min_height": null,
            "min_width": null,
            "object_fit": null,
            "object_position": null,
            "order": null,
            "overflow": null,
            "overflow_x": null,
            "overflow_y": null,
            "padding": null,
            "right": null,
            "top": null,
            "visibility": null,
            "width": null
          }
        },
        "27e1a6edf1074aa4a9f18a69279c2602": {
          "model_module": "@jupyter-widgets/controls",
          "model_name": "DescriptionStyleModel",
          "model_module_version": "1.5.0",
          "state": {
            "_model_module": "@jupyter-widgets/controls",
            "_model_module_version": "1.5.0",
            "_model_name": "DescriptionStyleModel",
            "_view_count": null,
            "_view_module": "@jupyter-widgets/base",
            "_view_module_version": "1.2.0",
            "_view_name": "StyleView",
            "description_width": ""
          }
        },
        "ea3f27d5b87c4134816cecc5768a029a": {
          "model_module": "@jupyter-widgets/base",
          "model_name": "LayoutModel",
          "model_module_version": "1.2.0",
          "state": {
            "_model_module": "@jupyter-widgets/base",
            "_model_module_version": "1.2.0",
            "_model_name": "LayoutModel",
            "_view_count": null,
            "_view_module": "@jupyter-widgets/base",
            "_view_module_version": "1.2.0",
            "_view_name": "LayoutView",
            "align_content": null,
            "align_items": null,
            "align_self": null,
            "border": null,
            "bottom": null,
            "display": null,
            "flex": null,
            "flex_flow": null,
            "grid_area": null,
            "grid_auto_columns": null,
            "grid_auto_flow": null,
            "grid_auto_rows": null,
            "grid_column": null,
            "grid_gap": null,
            "grid_row": null,
            "grid_template_areas": null,
            "grid_template_columns": null,
            "grid_template_rows": null,
            "height": null,
            "justify_content": null,
            "justify_items": null,
            "left": null,
            "margin": null,
            "max_height": null,
            "max_width": null,
            "min_height": null,
            "min_width": null,
            "object_fit": null,
            "object_position": null,
            "order": null,
            "overflow": null,
            "overflow_x": null,
            "overflow_y": null,
            "padding": null,
            "right": null,
            "top": null,
            "visibility": null,
            "width": null
          }
        },
        "55cabec2214241c79463a484821b6b76": {
          "model_module": "@jupyter-widgets/controls",
          "model_name": "ProgressStyleModel",
          "model_module_version": "1.5.0",
          "state": {
            "_model_module": "@jupyter-widgets/controls",
            "_model_module_version": "1.5.0",
            "_model_name": "ProgressStyleModel",
            "_view_count": null,
            "_view_module": "@jupyter-widgets/base",
            "_view_module_version": "1.2.0",
            "_view_name": "StyleView",
            "bar_color": null,
            "description_width": ""
          }
        },
        "fc1bd4a0cb7b4c29a2c5910745d78bbb": {
          "model_module": "@jupyter-widgets/base",
          "model_name": "LayoutModel",
          "model_module_version": "1.2.0",
          "state": {
            "_model_module": "@jupyter-widgets/base",
            "_model_module_version": "1.2.0",
            "_model_name": "LayoutModel",
            "_view_count": null,
            "_view_module": "@jupyter-widgets/base",
            "_view_module_version": "1.2.0",
            "_view_name": "LayoutView",
            "align_content": null,
            "align_items": null,
            "align_self": null,
            "border": null,
            "bottom": null,
            "display": null,
            "flex": null,
            "flex_flow": null,
            "grid_area": null,
            "grid_auto_columns": null,
            "grid_auto_flow": null,
            "grid_auto_rows": null,
            "grid_column": null,
            "grid_gap": null,
            "grid_row": null,
            "grid_template_areas": null,
            "grid_template_columns": null,
            "grid_template_rows": null,
            "height": null,
            "justify_content": null,
            "justify_items": null,
            "left": null,
            "margin": null,
            "max_height": null,
            "max_width": null,
            "min_height": null,
            "min_width": null,
            "object_fit": null,
            "object_position": null,
            "order": null,
            "overflow": null,
            "overflow_x": null,
            "overflow_y": null,
            "padding": null,
            "right": null,
            "top": null,
            "visibility": null,
            "width": null
          }
        },
        "374e39e9026442938919457a2a3f9b42": {
          "model_module": "@jupyter-widgets/controls",
          "model_name": "DescriptionStyleModel",
          "model_module_version": "1.5.0",
          "state": {
            "_model_module": "@jupyter-widgets/controls",
            "_model_module_version": "1.5.0",
            "_model_name": "DescriptionStyleModel",
            "_view_count": null,
            "_view_module": "@jupyter-widgets/base",
            "_view_module_version": "1.2.0",
            "_view_name": "StyleView",
            "description_width": ""
          }
        }
      }
    }
  },
  "nbformat": 4,
  "nbformat_minor": 0
}