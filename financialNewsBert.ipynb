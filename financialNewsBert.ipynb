{
  "cells": [
    {
      "cell_type": "markdown",
      "metadata": {
        "id": "Ox7G3ZYq4yjt"
      },
      "source": [
        "## Importing swe-BERT for initial training"
      ]
    },
    {
      "cell_type": "code",
      "execution_count": 1,
      "metadata": {
        "colab": {
          "base_uri": "https://localhost:8080/"
        },
        "id": "s_lPyCgF4yjw",
        "outputId": "f1d9ee49-552c-4428-ead1-e0a64e102afe"
      },
      "outputs": [
        {
          "output_type": "stream",
          "name": "stdout",
          "text": [
            "Looking in indexes: https://pypi.org/simple, https://us-python.pkg.dev/colab-wheels/public/simple/\n",
            "Collecting transformers\n",
            "  Downloading transformers-4.26.1-py3-none-any.whl (6.3 MB)\n",
            "\u001b[2K     \u001b[90m━━━━━━━━━━━━━━━━━━━━━━━━━━━━━━━━━━━━━━━━\u001b[0m \u001b[32m6.3/6.3 MB\u001b[0m \u001b[31m46.2 MB/s\u001b[0m eta \u001b[36m0:00:00\u001b[0m\n",
            "\u001b[?25hCollecting huggingface-hub<1.0,>=0.11.0\n",
            "  Downloading huggingface_hub-0.12.1-py3-none-any.whl (190 kB)\n",
            "\u001b[2K     \u001b[90m━━━━━━━━━━━━━━━━━━━━━━━━━━━━━━━━━━━━━━\u001b[0m \u001b[32m190.3/190.3 KB\u001b[0m \u001b[31m23.2 MB/s\u001b[0m eta \u001b[36m0:00:00\u001b[0m\n",
            "\u001b[?25hRequirement already satisfied: packaging>=20.0 in /usr/local/lib/python3.8/dist-packages (from transformers) (23.0)\n",
            "Requirement already satisfied: tqdm>=4.27 in /usr/local/lib/python3.8/dist-packages (from transformers) (4.64.1)\n",
            "Requirement already satisfied: numpy>=1.17 in /usr/local/lib/python3.8/dist-packages (from transformers) (1.22.4)\n",
            "Collecting tokenizers!=0.11.3,<0.14,>=0.11.1\n",
            "  Downloading tokenizers-0.13.2-cp38-cp38-manylinux_2_17_x86_64.manylinux2014_x86_64.whl (7.6 MB)\n",
            "\u001b[2K     \u001b[90m━━━━━━━━━━━━━━━━━━━━━━━━━━━━━━━━━━━━━━━━\u001b[0m \u001b[32m7.6/7.6 MB\u001b[0m \u001b[31m107.2 MB/s\u001b[0m eta \u001b[36m0:00:00\u001b[0m\n",
            "\u001b[?25hRequirement already satisfied: pyyaml>=5.1 in /usr/local/lib/python3.8/dist-packages (from transformers) (6.0)\n",
            "Requirement already satisfied: filelock in /usr/local/lib/python3.8/dist-packages (from transformers) (3.9.0)\n",
            "Requirement already satisfied: regex!=2019.12.17 in /usr/local/lib/python3.8/dist-packages (from transformers) (2022.6.2)\n",
            "Requirement already satisfied: requests in /usr/local/lib/python3.8/dist-packages (from transformers) (2.25.1)\n",
            "Requirement already satisfied: typing-extensions>=3.7.4.3 in /usr/local/lib/python3.8/dist-packages (from huggingface-hub<1.0,>=0.11.0->transformers) (4.5.0)\n",
            "Requirement already satisfied: chardet<5,>=3.0.2 in /usr/local/lib/python3.8/dist-packages (from requests->transformers) (4.0.0)\n",
            "Requirement already satisfied: certifi>=2017.4.17 in /usr/local/lib/python3.8/dist-packages (from requests->transformers) (2022.12.7)\n",
            "Requirement already satisfied: urllib3<1.27,>=1.21.1 in /usr/local/lib/python3.8/dist-packages (from requests->transformers) (1.26.14)\n",
            "Requirement already satisfied: idna<3,>=2.5 in /usr/local/lib/python3.8/dist-packages (from requests->transformers) (2.10)\n",
            "Installing collected packages: tokenizers, huggingface-hub, transformers\n",
            "Successfully installed huggingface-hub-0.12.1 tokenizers-0.13.2 transformers-4.26.1\n",
            "Looking in indexes: https://pypi.org/simple, https://us-python.pkg.dev/colab-wheels/public/simple/\n",
            "Requirement already satisfied: tqdm in /usr/local/lib/python3.8/dist-packages (4.64.1)\n",
            "cuda\n"
          ]
        }
      ],
      "source": [
        "!pip install transformers\n",
        "!pip install tqdm\n",
        "\n",
        "import torch\n",
        "import numpy as np\n",
        "import math\n",
        "from transformers import BertTokenizer, BertForSequenceClassification, BertModel, AutoModel\n",
        "from transformers.modeling_outputs import BaseModelOutputWithPooling\n",
        "device = torch.device('cuda') if torch.cuda.is_available() else torch.device('cpu')\n",
        "print(device)\n",
        "# collab command to install transformers\n"
      ]
    },
    {
      "cell_type": "code",
      "execution_count": 2,
      "metadata": {
        "id": "XOPF9_mE4yjx"
      },
      "outputs": [],
      "source": [
        "from torch.utils.data import Dataset\n",
        "\n",
        "\n",
        "import re\n",
        "def clean_txt (text):\n",
        "  text = re.sub(\"¹\", \"\", text)\n",
        "  text=re.sub(\"(\\\\W)+\",\"  \", text)\n",
        "  return text\n",
        "\n",
        "\n",
        "class SNLIDataset(Dataset):\n",
        "\n",
        "    def __init__(self, filename, max_size=None):\n",
        "        super().__init__()\n",
        "        self.xs = []\n",
        "        self.ys = []\n",
        "        self.sentence_lengths = np.array([])\n",
        "        count = 0\n",
        "        with open(filename, encoding=\"utf-8\") as source:\n",
        "            for i, line in enumerate(source):\n",
        "                if i == 0:\n",
        "                  continue\n",
        "                # print(line)\n",
        "                if max_size and i >= max_size:\n",
        "                    break\n",
        "                try:\n",
        "                  sentence, sentiment_value = line.rstrip().split('|') # Delimeter to be chosen\n",
        "                  count += 1\n",
        "                except:\n",
        "                  print( \"Error when processing the following data \", [line.rstrip().split('|')])\n",
        "                # print(sentence)\n",
        "                self.xs.append(clean_txt(sentence))\n",
        "                self.ys.append(int(sentiment_value)) # make sure negative/neutral/positive is labelled correct\n",
        "                self.sentence_lengths = np.append(self.sentence_lengths, len(sentence.split(\" \")))\n",
        "\n",
        "    def __getitem__(self, idx):\n",
        "        return self.xs[idx], self.ys[idx]\n",
        "\n",
        "    def __len__(self):\n",
        "        return len(self.xs)\n",
        "\n",
        "class SNLIDataset_shell_class(SNLIDataset):\n",
        "    def __init__(self, xs, ys, sentence_lengths):\n",
        "      self.xs = xs\n",
        "      self.ys = ys\n",
        "      self.sentence_lengths = sentence_lengths"
      ]
    },
    {
      "cell_type": "code",
      "source": [
        "\n",
        "\n",
        "def divide_dataset_to_train_and_test(SNLIDataset, percentage_to_train):\n",
        "    random_indices = torch.randperm(len(SNLIDataset.xs))\n",
        "    num_of_sent_in_train = math.floor(len(SNLIDataset.xs)*(percentage_to_train))\n",
        " \n",
        "    train_dataset_xs = np.array(list(map(SNLIDataset.xs.__getitem__, random_indices[0:num_of_sent_in_train])))\n",
        "    train_dataset_ys = np.array(list(map(SNLIDataset.ys.__getitem__, random_indices[0:num_of_sent_in_train])))\n",
        "    train_dataset_sent_lengths = np.array(list(map(SNLIDataset.sentence_lengths.__getitem__, random_indices[0:num_of_sent_in_train])))\n",
        "\n",
        "\n",
        "    test_dataset_xs = np.array(list(map(SNLIDataset.xs.__getitem__, random_indices[num_of_sent_in_train:])))\n",
        "    test_dataset_ys = np.array(list(map(SNLIDataset.ys.__getitem__, random_indices[num_of_sent_in_train:])))\n",
        "    test_dataset_sent_lengths = np.array(list(map(SNLIDataset.sentence_lengths.__getitem__, random_indices[num_of_sent_in_train:])))\n",
        "  \n",
        "    train_dataset = SNLIDataset_shell_class(train_dataset_xs, train_dataset_ys, train_dataset_sent_lengths)\n",
        "\n",
        "    test_dataset = SNLIDataset_shell_class(test_dataset_xs, test_dataset_ys, test_dataset_sent_lengths)\n",
        "    \n",
        "\n",
        "    return train_dataset, test_dataset\n",
        "\n"
      ],
      "metadata": {
        "id": "WggYx43umASg"
      },
      "execution_count": 3,
      "outputs": []
    },
    {
      "cell_type": "markdown",
      "metadata": {
        "id": "HrCpUve_4yjy"
      },
      "source": [
        "## Create all datasets"
      ]
    },
    {
      "cell_type": "code",
      "execution_count": 4,
      "metadata": {
        "id": "NU2qKdwb4yjy",
        "colab": {
          "base_uri": "https://localhost:8080/"
        },
        "outputId": "d4709434-38d5-4556-e5b7-a9d69d69c8e1"
      },
      "outputs": [
        {
          "output_type": "stream",
          "name": "stdout",
          "text": [
            "Financial phrases train dataset length: 4,551\n",
            "Financial phrases test dataset length: 506\n",
            "Amazon reviews train dataset length: 27,000\n",
            "Amazon reviews test dataset length: 3,000\n",
            "Own collected news dataset length: 521\n"
          ]
        }
      ],
      "source": [
        "financial_news_train_dataset = SNLIDataset('./Financial Data/financial_phrases_labeled_psv_train.csv')\n",
        "financial_news_test_dataset = SNLIDataset('./Financial Data/financial_phrases_labeled_psv_test.csv')\n",
        "amazon_review_dataset = SNLIDataset('./amazon-review-data/amazon_review_data_psv.csv')\n",
        "test_dataset = SNLIDataset('./sweOnlyProcData/cleaned_all_news.txt')\n",
        "\n",
        "# data = financial_news_train_dataset[121]\n",
        "\n",
        "amazon_review_train_dataset, amazon_review_test_dataset = divide_dataset_to_train_and_test(amazon_review_dataset, 0.9)\n",
        "\n",
        "\n",
        "print(\"Financial phrases train dataset length: {:,}\".format(len(financial_news_train_dataset)))\n",
        "print(\"Financial phrases test dataset length: {:,}\".format(len(financial_news_test_dataset)))\n",
        "\n",
        "print(\"Amazon reviews train dataset length: {:,}\".format(len(amazon_review_train_dataset)))\n",
        "print(\"Amazon reviews test dataset length: {:,}\".format(len(amazon_review_test_dataset)))\n",
        "\n",
        "print(\"Own collected news dataset length: {:,}\".format(len(test_dataset)))\n",
        "\n"
      ]
    },
    {
      "cell_type": "code",
      "source": [
        "print(financial_news_train_dataset.xs[:10]) # Dataseten är på något vis olika formatterad som gör att det blir fel senare när man tränar modellen\n",
        "print(amazon_review_train_dataset.xs[:10])"
      ],
      "metadata": {
        "colab": {
          "base_uri": "https://localhost:8080/"
        },
        "id": "IjvEvCNo0Vs8",
        "outputId": "6f5c8a99-2111-469a-f00b-3b0e0a343189"
      },
      "execution_count": 5,
      "outputs": [
        {
          "output_type": "stream",
          "name": "stdout",
          "text": [
            "['Finska  flygbolaget  Finnair  inleder  de  tillfälliga  uppsägningarna  av  kabinpersonal  i  februari  2010  ', 'Motsvarande  ökning  av  aktiekapitalet  totalt  300  00  euro  registrerades  i  det  finska  handelsregistret  den  8  maj  2008  ', 'Under  det  tredje  kvartalet  av  räkenskapsåret  2008  svängde  Efore  till  en  nettoförlust  på  400  000  EUR  jämfört  med  en  nettovinst  på  200  000  EUR  för  motsvarande  period  2007  ', 'ALEXANDRIA  Virginia  15  oktober  Aaron  Moss  från  Hampshire  Storbritannien  har  utvecklat  en  dekorativ  design  för  en  telefon  meddelade  US  Patent  amp  Trademark  Office  ', 'Vaisala  Oyj  Börsmeddelande  26  03  2010  klo  09  00  1  1  Årsstämman  i  Vaisala  Oyj  beslutade  den  25  mars  2010  att  godkänna  bolagets  årsredovisning  för  2009  ', 'Produktens  framkantsvikning  maximerar  vädertålighet  och  möjliggör  en  sömlös  takfinish  ', 'Raute  är  noterat  på  den  nordiska  börsen  i  Helsingfors  ', 'KESKO  FOOD  AB  PRESSMEDDELANDE  04  01  2006  KL  13  00  Kesko  Livs  Ab  inleder  en  stor  TV  kampanj  för  att  rekrytera  så  många  som  hundra  nya  K  mathandlare  ', 'W  Ærtsil  Æs  mål  är  att  betjäna  det  snabbt  växande  antalet  fartyg  och  ökande  marina  aktivitet  i  Barentshavsregionen  ', 'En  liten  url  länk  tar  användare  till  en  bedrägeriwebbplats  som  lovar  att  användare  kan  tjäna  tusentals  dollar  genom  att  bli  en  Google  NASDAQ  GOOG  Cash  annonsör  ']\n",
            "['så  söt'\n",
            " 'Bra  koncept  men  kunde  inte  få  mjukvara  och  anslutningar  att  fungera  Supporten  tog  ett  tag  att  komma  tillbaka  till  mig  det  slutade  med  att  de  returnerade  det  innan  de  sa  till  mig  att  webbplatsen  var  tillfälligt  nere  Var  inte  lätt  att  komma  igång  som  annonserat  '\n",
            " 'Så  det  finns  olika  typer  av  träning  br  koppar  de  som  läcker  och  är  lätta  att  dricka  ur  och  de  som  inte  läcker  och  är  extremt  svåra  att  dricka  ur  dessa  läcker  med  toppen  öppen  från  sugröret  men  när  du  stänger  toppen  läcker  de  inte  Jag  gillar  dessa  eftersom  de  är  lätta  för  barnet  att  dricka  ur  Du  kan  också  bli  av  med  toppen  och  använda  dem  som  vanliga  koppar  när  bebisen  är  äldre  älskar  Born  Free  produkter  och  älskar  dessa  koppar  '\n",
            " 'Så  söt  väska  Det  är  en  äkta  Skip  Hop  väska  och  min  2  åriga  dotter  älskar  den  absolut  Det  passar  henne  väldigt  bra  Hon  är  väldigt  petit  Den  här  bokväskan  är  31  tum  lång  och  ser  bra  ut  på  henne  Jag  var  tvungen  att  justera  remmarna  en  del  men  det  är  perfekt  Jag  använder  den  för  att  gå  fram  och  tillbaka  till  dagis  Jag  har  ett  par  blöjor  våtservetter  byte  av  kläder  snacks  och  ett  skötunderlägg  i  väskan  med  plats  över  Hon  får  massor  av  komplimanger  för  sin  väska  '\n",
            " 'Inte  tillräckligt  för  att  skydda  mot  hett  solljus'\n",
            " 'Passar  i  alla  vrå  och  vrår  på  alla  våra  muggar  Perfekt  för  rengöring  av  Camelbaks  vattenflaskpipar  och  sugrör  av  alla  storlekar  också  '\n",
            " 'Gör  sitt  jobb  men  håller  inte  servetterna  så  fuktiga  som  jag  vill  '\n",
            " 'Produkten  kom  trasig  Min  son  öppnade  lådan  helt  upprymd  över  sin  insektslampa  och  den  var  trasig  Han  brydde  sig  inte  om  att  en  av  sidorna  på  lådan  trycktes  in  men  det  gjorde  jag  '\n",
            " 'Vi  bor  tyvärr  i  ett  hem  där  det  bara  finns  duschar  i  badrummen  Denna  produkt  har  gjort  det  möjligt  för  oss  att  ge  vår  bebis  ett  bad  nu  när  han  har  vuxit  ur  de  nyfödda  badkaren  br  br  Fördelar  br  Den  är  tillräckligt  stor  för  att  jag  kan  se  vår  son  använda  den  här  ganska  länge  kanske  till  och  med  upp  till  24  månader  br  Jag  älskar  att  den  är  hopfällbar  men  ändå  väldigt  robust  br  Kroken  är  en  fantastisk  funktion  och  vi  hänger  den  här  i  vår  sons  garderob  efter  att  den  har  torkat  br  Även  om  du  kan  använda  den  här  i  ett  befintligt  badkar  dusch  gillar  jag  att  jag  kan  sätta  den  på  en  förhöjd  yta  eftersom  jag  har  problem  med  ländryggen  br  br  Nackdelar  br  Det  är  VÄLDIGT  halt  Se  till  att  köpa  klistermärkena  för  att  lägga  till  dragkraft  för  din  lilla  en  Alternativt  kan  du  använda  en  handduk  på  botten  av  badkaret  som  vi  gjorde  medan  vi  väntade  på  att  våra  dragklistermärken  skulle  komma  br  Det  är  lite  dyrt  och  vi  spenderade  mer  än  jag  ville  på  ett  badkar  men  det  verkar  vara  väldigt  hållbart  br  Detta  kanske  inte  är  en  sann  con  men  temperaturindikatorn  är  lite  av  Om  vi  följde  indikatorn  skulle  vår  son  huttra  av  kallt  vatten  Använd  ditt  bästa  omdöme  och  glöm  inte  den  beprövade  temperaturindikatorn  din  underarm  br  br  Sammanfattningsvis  om  denna  produkt  hade  en  halkfri  yta  på  botten  skulle  det  vara  en  5  stjärnig  produkt  '\n",
            " 'Den  här  saken  är  mångsidig  Jag  älskar  det  ']\n"
          ]
        }
      ]
    },
    {
      "cell_type": "markdown",
      "metadata": {
        "id": "vCW4rqz4uF31"
      },
      "source": [
        "## Dataset analysis\n",
        "Here we analyze the length distribution for each dataset"
      ]
    },
    {
      "cell_type": "code",
      "execution_count": 22,
      "metadata": {
        "id": "hCIcaM4quF31"
      },
      "outputs": [],
      "source": [
        "import matplotlib.pyplot as plt\n",
        "\n",
        "def plot_data_length(sentence_lengths, datasetName, resolution=1, xparams=True):\n",
        "    plot_data_length.total_plots += 1\n",
        "    plt.figure(plot_data_length.total_plots)\n",
        "    plt.hist(sentence_lengths, bins=int(np.max(sentence_lengths)*resolution), density=True)\n",
        "    plt.xlabel(datasetName)\n",
        "    if not xparams:\n",
        "      plt.tick_params(bottom=False, labelbottom=False)\n",
        "\n",
        "plot_data_length.total_plots = 0"
      ]
    },
    {
      "cell_type": "markdown",
      "source": [
        "plot sentence lengths"
      ],
      "metadata": {
        "id": "2CkrOL8lBKcX"
      }
    },
    {
      "cell_type": "code",
      "source": [
        "plot_data_length(amazon_review_dataset.sentence_lengths, \"amazon_review_dataset\", 1/50)\n",
        "plot_data_length(np.concatenate([financial_news_test_dataset.sentence_lengths, financial_news_train_dataset.sentence_lengths]), \"financial_news_dataset\", 1/4)\n",
        "plot_data_length(test_dataset.sentence_lengths, \"financial_news_dataset\", 1/80)\n",
        "\n",
        "\n",
        "# Textfil på formatet data | label | datalängd\n",
        "\n",
        "# for sentence_length in amazon_reviews.sentence_lengths: 15,17 % av denna. Använd divide_dataset_to_train_and_test\n",
        "    # hitta rad i textfilen som har datalängd sentence length\n",
        "        # annars kolla datalängd sentence_length-1 (upprepa tills ngt hittas)\n",
        "    # ta bort den raden och lägg i separat textfil\n",
        "\n",
        "# for sentence_length in financial_phrases.sentence_lengths:  #HELA DENNA\n",
        "    # hitta rad i textfilen som har datalängd sentence length\n",
        "        # annars kolla datalängd sentence_length-1 (upprepa tills ngt hittas)\n",
        "    # ta bort den raden och lägg i separat textfil\n",
        "\n",
        "# for sentence_length in own_collected_news.sentence_lengths: # HELA DENNA \n",
        "        # hitta rad i textfilen som har datalängd sentence length\n",
        "        # annars kolla datalängd sentence_length-1 (upprepa tills ngt hittas)\n",
        "    # ta bort den raden och lägg i separat textfil"
      ],
      "metadata": {
        "colab": {
          "base_uri": "https://localhost:8080/",
          "height": 809
        },
        "id": "2Tw11K0sBIz7",
        "outputId": "085166ad-4fda-47d3-edc7-fc9a1587deb9"
      },
      "execution_count": 9,
      "outputs": [
        {
          "output_type": "display_data",
          "data": {
            "text/plain": [
              "<Figure size 432x288 with 1 Axes>"
            ],
            "image/png": "[encoded data removed]"
          },
          "metadata": {
            "needs_background": "light"
          }
        },
        {
          "output_type": "display_data",
          "data": {
            "text/plain": [
              "<Figure size 432x288 with 1 Axes>"
            ],
            "image/png": "[encoded data removed]"
          },
          "metadata": {
            "needs_background": "light"
          }
        },
        {
          "output_type": "display_data",
          "data": {
            "text/plain": [
              "<Figure size 432x288 with 1 Axes>"
            ],
            "image/png": "[encoded data removed]"
          },
          "metadata": {
            "needs_background": "light"
          }
        }
      ]
    },
    {
      "cell_type": "markdown",
      "source": [
        "plot label distribution"
      ],
      "metadata": {
        "id": "fVzFS58LBNPS"
      }
    },
    {
      "cell_type": "code",
      "source": [
        "plot_data_length(amazon_review_dataset.ys, \"Amazon review distribution (Negative, Neutral, Positive)\", 1.5, xparams=False)\n",
        "plot_data_length(np.concatenate([financial_news_test_dataset.ys, financial_news_train_dataset.ys]), \"Financial news distribution (Negative, Neutral, Positive)\", 1.5, xparams=False)\n",
        "plot_data_length(test_dataset.ys, \"Financial news distribution (Negative, Neutral, Positive)\", 1.5, xparams=False)"
      ],
      "metadata": {
        "colab": {
          "base_uri": "https://localhost:8080/",
          "height": 752
        },
        "id": "i6aT5P6bBJiq",
        "outputId": "d901d221-ff09-43e4-b0f3-e5fbe04060df"
      },
      "execution_count": 23,
      "outputs": [
        {
          "output_type": "display_data",
          "data": {
            "text/plain": [
              "<Figure size 432x288 with 1 Axes>"
            ],
            "image/png": "[encoded data removed]"
          },
          "metadata": {
            "needs_background": "light"
          }
        },
        {
          "output_type": "display_data",
          "data": {
            "text/plain": [
              "<Figure size 432x288 with 1 Axes>"
            ],
            "image/png": "[encoded data removed]"
          },
          "metadata": {
            "needs_background": "light"
          }
        },
        {
          "output_type": "display_data",
          "data": {
            "text/plain": [
              "<Figure size 432x288 with 1 Axes>"
            ],
            "image/png": "[encoded data removed]"
          },
          "metadata": {
            "needs_background": "light"
          }
        }
      ]
    },
    {
      "cell_type": "markdown",
      "metadata": {
        "id": "x0tgZwEq4yj0"
      },
      "source": [
        "## Import swedish bert"
      ]
    },
    {
      "cell_type": "code",
      "execution_count": null,
      "metadata": {
        "colab": {
          "base_uri": "https://localhost:8080/"
        },
        "id": "ngd8efgP4yj0",
        "outputId": "995e21cb-f639-4a1b-c07d-8c17b63d0f2d"
      },
      "outputs": [
        {
          "output_type": "stream",
          "name": "stderr",
          "text": [
            "Some weights of the model checkpoint at KB/bert-base-swedish-cased were not used when initializing BertModel: ['cls.predictions.decoder.bias', 'cls.predictions.bias', 'cls.predictions.transform.LayerNorm.weight', 'cls.predictions.transform.dense.bias', 'cls.predictions.decoder.weight', 'cls.predictions.transform.LayerNorm.bias', 'cls.predictions.transform.dense.weight']\n",
            "- This IS expected if you are initializing BertModel from the checkpoint of a model trained on another task or with another architecture (e.g. initializing a BertForSequenceClassification model from a BertForPreTraining model).\n",
            "- This IS NOT expected if you are initializing BertModel from the checkpoint of a model that you expect to be exactly identical (initializing a BertForSequenceClassification model from a BertForSequenceClassification model).\n"
          ]
        }
      ],
      "source": [
        "tokenizer = BertTokenizer.from_pretrained('KB/bert-base-swedish-cased', do_lower_case=False)\n",
        "bert = AutoModel.from_pretrained('KB/bert-base-swedish-cased')"
      ]
    },
    {
      "cell_type": "code",
      "execution_count": null,
      "metadata": {
        "colab": {
          "base_uri": "https://localhost:8080/"
        },
        "id": "ojp1xQBq4yj0",
        "outputId": "557918f9-89a2-459d-c1e6-3e2a17917e02"
      },
      "outputs": [
        {
          "output_type": "stream",
          "name": "stdout",
          "text": [
            "Bra  kvalité  \n",
            "tensor([[    2,  3176, 24898,     3]])\n",
            "{'input_ids': tensor([[    2,  3176, 24898,     3]]), 'token_type_ids': tensor([[0, 0, 0, 0]]), 'attention_mask': tensor([[1, 1, 1, 1]])}\n"
          ]
        }
      ],
      "source": [
        "tokenized = tokenizer(text=amazon_review_train_dataset[1][0], padding='longest', return_tensors='pt')\n",
        "print(amazon_review_train_dataset[1][0])\n",
        "print(tokenized.input_ids)\n",
        "print(tokenized)"
      ]
    },
    {
      "cell_type": "markdown",
      "metadata": {
        "id": "pyx9uwrO4yj1"
      },
      "source": [
        "### Define colate function that tokenizes"
      ]
    },
    {
      "cell_type": "code",
      "execution_count": null,
      "metadata": {
        "id": "ASAcPEuauF33"
      },
      "outputs": [],
      "source": [
        "def tensor_split(text1, seq_size=200, overlap=50, add_to_start = 2):\n",
        "  l_total = []\n",
        "  l_parcial = []\n",
        "  cls_tokens = torch.unsqueeze(torch.as_tensor([add_to_start]* text1.shape[0]), dim=1)\n",
        "  if text1.shape[1]//(seq_size-overlap) >0:\n",
        "    n = text1.shape[1]//(seq_size-overlap)\n",
        "  else: \n",
        "    n = 1\n",
        "  for w in range(n):\n",
        "    if w == 0:\n",
        "      # l_parcial = torch.concat([cls_tokens, text1[:,:seq_size]], dim=1)\n",
        "      l_parcial = text1[:,:seq_size]\n",
        "      l_total.append(l_parcial.to(device))\n",
        "    else:\n",
        "      # l_parcial = torch.concat([cls_tokens, text1[:,w*(seq_size-overlap):w*(seq_size-overlap) + seq_size]], dim=1)\n",
        "      l_parcial = text1[:,w*(seq_size-overlap):w*(seq_size-overlap) + seq_size]\n",
        "      l_total.append(l_parcial.to(device))\n",
        "  return l_total"
      ]
    },
    {
      "cell_type": "code",
      "execution_count": null,
      "metadata": {
        "id": "n42CPT4o4yj1"
      },
      "outputs": [],
      "source": [
        "def our_collate_fn(data):\n",
        "    x = [a[0] for a in data]\n",
        "    y = [a[1] for a in data]\n",
        "    tokenized = tokenizer(text=x, padding='longest', return_tensors='pt')\n",
        "\n",
        "    return tokenized['input_ids'], torch.as_tensor(y), tokenized['attention_mask']"
      ]
    },
    {
      "cell_type": "code",
      "execution_count": null,
      "metadata": {
        "id": "ULmii5oWuF33"
      },
      "outputs": [],
      "source": [
        "from torch.utils.data import DataLoader\n",
        "\n",
        "def create_training_examples(dataset, batch_size = 64, seq_size = 200, overlap = 50):\n",
        "    batch_sort_order = np.array_split(dataset.sentence_lengths.argsort()[::-1], round(len(dataset) / batch_size))\n",
        "    tokenized_train_data = DataLoader(dataset, collate_fn=our_collate_fn, batch_sampler=batch_sort_order) #\n",
        "\n",
        "    for bindex, (bx, by, ba) in enumerate(tokenized_train_data):\n",
        "        yield tensor_split(bx, seq_size, overlap), tensor_split(ba, seq_size, overlap, add_to_start=1), by.to(device)\n",
        "                \n",
        "\n",
        "\n"
      ]
    },
    {
      "cell_type": "code",
      "execution_count": null,
      "metadata": {
        "colab": {
          "base_uri": "https://localhost:8080/"
        },
        "id": "YXhye472uF34",
        "outputId": "3f85baa3-dfa2-40b8-9128-ddb755bec5e3"
      },
      "outputs": [
        {
          "output_type": "stream",
          "name": "stdout",
          "text": [
            "Input shape: [3, 5, 10]\n",
            "Output shape: [3, 5, 20]\n",
            "Last hidden state shape: [1, 3, 20]\n"
          ]
        }
      ],
      "source": [
        "import torch.nn as nn\n",
        "\n",
        "rnn = nn.LSTM(10, 20, batch_first = True)\n",
        "input = torch.randn(3, 5, 10)\n",
        "h0 = torch.randn(1, 3, 20)\n",
        "c0 = torch.randn(1, 3, 20)\n",
        "output, (hn, cn) = rnn(input, (h0, c0))\n",
        "\n",
        "print(\"Input shape: {}\".format([*input.shape]))\n",
        "print(\"Output shape: {}\".format([*output.shape]))\n",
        "print(\"Last hidden state shape: {}\".format([*hn.shape]))"
      ]
    },
    {
      "cell_type": "code",
      "execution_count": null,
      "metadata": {
        "id": "Y35jjoeIuF34"
      },
      "outputs": [],
      "source": [
        "import torch.nn as nn\n",
        "from sklearn import metrics\n",
        "\n",
        "\n",
        "class DocBert(nn.Module):\n",
        "    def __init__(self, bert, hidden_dim=20, num_labels=3):\n",
        "        super().__init__()\n",
        "        self.bert =  bert.to(device) # INTE BertForSequenceClassification\n",
        "        self.lstm = nn.LSTM(bert.config.hidden_size, hidden_dim, batch_first=True).to(device)\n",
        "        # Input [Batch_size, sequence_length, input_size]\n",
        "        # Output [1, batch_size, hidden_dim]\n",
        "        self.relu = nn.ReLU()\n",
        "        self.linear = nn.Linear(hidden_dim, num_labels).to(device)\n",
        "    \n",
        "    def forward(self, x_seqs, a_seqs):\n",
        "      output = []\n",
        "      for x_seq, a_seq in zip(x_seqs, a_seqs):\n",
        "        # print(\"x_seq, a_seq = {}, {}\".format(x_seq, a_seq))\n",
        "        output.append(self.bert(x_seq, a_seq)[0][:,0,:]) # Only get the embedding of the [CLS]-token [batch_size, number_of_sequences, input_size]\n",
        "      # print(output)\n",
        "      _ , (output, _) = self.lstm(torch.stack(output, dim=1)) # [1, batch_size, hidden_dim]\n",
        "      output = self.relu(output)\n",
        "      return self.linear(torch.squeeze(output, dim=0))\n",
        "      #   bertified_seqs.append()\n",
        "      # self.lstm(, )\n",
        "\n",
        "    def predict(self, x_seq, a_seq):\n",
        "      output = self.forward(x_seq, a_seq)\n",
        "      # print(\"Output from forward: {}\".format(output))\n",
        "      batch_guess = torch.argmax(output, dim=1)\n",
        "      return batch_guess\n",
        "\n",
        "    def get_confusion_matrix(self, sequences, batch_size=8):\n",
        "      predicted_tensor = torch.as_tensor([])\n",
        "      correct_tensor = torch.as_tensor([])\n",
        "\n",
        "      current_correct = 0\n",
        "      \n",
        "      current_tried = 0\n",
        "      for x_seq, a_seq, by in create_training_examples(sequences, batch_size=batch_size):\n",
        "        prediction = self.predict(x_seq, a_seq).to(\"cpu\")\n",
        "        # print(\"Prediction: {} \\t Actual {}\".format(*prediction, *by) )\n",
        "        predicted_tensor = torch.concat((predicted_tensor, prediction))\n",
        "        correct_tensor = torch.concat((correct_tensor, by.to(\"cpu\")))\n",
        "        # current_correct += torch.sum(prediction==by)\n",
        "        # current_tried += batch_size\n",
        "      confusion_matrix = metrics.confusion_matrix(correct_tensor.numpy(), predicted_tensor.numpy())\n",
        "      \n",
        "\n",
        "\n",
        "      return confusion_matrix\n"
      ]
    },
    {
      "cell_type": "markdown",
      "metadata": {
        "id": "Tc3wjfjP4yj2"
      },
      "source": [
        "#### Functions for training and testing a model"
      ]
    },
    {
      "cell_type": "code",
      "execution_count": null,
      "metadata": {
        "id": "PzLbWwOxR3Qf"
      },
      "outputs": [],
      "source": [
        "import torch.nn.functional as F\n",
        "def train_docbert(pretrained_bert, dataset, hidden_dim=512, num_labels=3, epochs=1):\n",
        "  docbert = DocBert(pretrained_bert, hidden_dim, num_labels)\n",
        "  optimizer = torch.optim.Adam(docbert.parameters(), lr=2e-5) #lr based on docbert article\n",
        "  for epoch in range(epochs):\n",
        "    i = 0\n",
        "    tot_loss = 0\n",
        "    for x_seqs, a_seqs, by in create_training_examples(dataset, batch_size=8, seq_size=200, overlap=50):\n",
        "      optimizer.zero_grad()\n",
        "      preds = docbert.forward(x_seqs, a_seqs)\n",
        "      loss = F.cross_entropy(preds, by)\n",
        "      tot_loss += loss\n",
        "      i += 1\n",
        "      if i % 200 == 0:\n",
        "        print(tot_loss / 200)\n",
        "        tot_loss = 0\n",
        "      loss.backward()\n",
        "      optimizer.step()\n",
        "  return docbert\n",
        "\n"
      ]
    },
    {
      "cell_type": "code",
      "source": [
        "docbert = train_docbert(bert, financial_news_train_dataset, epochs=5)"
      ],
      "metadata": {
        "id": "X2XFxwK04K5t",
        "colab": {
          "base_uri": "https://localhost:8080/"
        },
        "outputId": "81eaf1a3-fd5b-4a8b-85ce-6d8c5a6869e5"
      },
      "execution_count": null,
      "outputs": [
        {
          "output_type": "stream",
          "name": "stdout",
          "text": [
            "tensor(0.3337, device='cuda:0', grad_fn=<DivBackward0>)\n",
            "tensor(0.1338, device='cuda:0', grad_fn=<DivBackward0>)\n",
            "tensor(0.1258, device='cuda:0', grad_fn=<DivBackward0>)\n",
            "tensor(0.0943, device='cuda:0', grad_fn=<DivBackward0>)\n",
            "tensor(0.0948, device='cuda:0', grad_fn=<DivBackward0>)\n",
            "tensor(0.0677, device='cuda:0', grad_fn=<DivBackward0>)\n",
            "tensor(0.0643, device='cuda:0', grad_fn=<DivBackward0>)\n",
            "tensor(0.0407, device='cuda:0', grad_fn=<DivBackward0>)\n",
            "tensor(0.0662, device='cuda:0', grad_fn=<DivBackward0>)\n",
            "tensor(0.0496, device='cuda:0', grad_fn=<DivBackward0>)\n"
          ]
        }
      ]
    },
    {
      "cell_type": "code",
      "source": [
        "import matplotlib.pyplot as plt\n",
        "\n",
        "\n",
        "conf_m = docbert.get_confusion_matrix(test_dataset, batch_size=1)\n",
        "cm_display = metrics.ConfusionMatrixDisplay(confusion_matrix = conf_m, display_labels = [\"negative\", \"neutral\", \"positive\"])\n",
        "cm_display.plot()"
      ],
      "metadata": {
        "colab": {
          "base_uri": "https://localhost:8080/",
          "height": 558
        },
        "id": "1TdkWgvdUkrZ",
        "outputId": "dc22949d-280b-477d-e172-9012a90cfd8d"
      },
      "execution_count": null,
      "outputs": [
        {
          "output_type": "display_data",
          "data": {
            "text/plain": [
              "<Figure size 432x288 with 2 Axes>"
            ],
            "image/png": "[encoded data removed]"
          },
          "metadata": {
            "needs_background": "light"
          }
        },
        {
          "output_type": "execute_result",
          "data": {
            "text/plain": [
              "<sklearn.metrics._plot.confusion_matrix.ConfusionMatrixDisplay at 0x7f55cd2133d0>"
            ]
          },
          "metadata": {},
          "execution_count": 47
        },
        {
          "output_type": "display_data",
          "data": {
            "text/plain": [
              "<Figure size 432x288 with 2 Axes>"
            ],
            "image/png": "[encoded data removed]"
          },
          "metadata": {
            "needs_background": "light"
          }
        }
      ]
    },
    {
      "cell_type": "code",
      "execution_count": null,
      "metadata": {
        "id": "eOjHNMEv4yj2"
      },
      "outputs": [],
      "source": [
        "\n"
      ]
    },
    {
      "cell_type": "markdown",
      "metadata": {
        "id": "6lnkrQf9sEhx"
      },
      "source": [
        "## Train and save the financial model"
      ]
    },
    {
      "cell_type": "code",
      "source": [],
      "metadata": {
        "id": "VH9MwnkTwkN9"
      },
      "execution_count": null,
      "outputs": []
    },
    {
      "cell_type": "code",
      "execution_count": null,
      "metadata": {
        "id": "9QzggwTk4yj2"
      },
      "outputs": [],
      "source": []
    },
    {
      "cell_type": "markdown",
      "metadata": {
        "id": "rSzk4FKwsMni"
      },
      "source": [
        "## Load the financial model and evaluate it on similar test-data \n",
        "accuracy should be 88%+"
      ]
    },
    {
      "cell_type": "code",
      "execution_count": null,
      "metadata": {
        "id": "VGjjZWoQdFxa"
      },
      "outputs": [],
      "source": [
        "\n",
        "\n"
      ]
    },
    {
      "cell_type": "code",
      "execution_count": null,
      "metadata": {
        "id": "yPXYKeFSqEhS"
      },
      "outputs": [],
      "source": []
    }
  ],
  "metadata": {
    "accelerator": "GPU",
    "colab": {
      "collapsed_sections": [
        "vCW4rqz4uF31"
      ],
      "provenance": []
    },
    "gpuClass": "standard",
    "kernelspec": {
      "display_name": "venv",
      "language": "python",
      "name": "python3"
    },
    "language_info": {
      "codemirror_mode": {
        "name": "ipython",
        "version": 3
      },
      "file_extension": ".py",
      "mimetype": "text/x-python",
      "name": "python",
      "nbconvert_exporter": "python",
      "pygments_lexer": "ipython3",
      "version": "3.10.10"
    },
    "orig_nbformat": 4,
    "vscode": {
      "interpreter": {
        "hash": "43b1b630598a744212fd16e5095ab3aa6d4637b887bcabe04ae192328f97bb8f"
      }
    }
  },
  "nbformat": 4,
  "nbformat_minor": 0
}