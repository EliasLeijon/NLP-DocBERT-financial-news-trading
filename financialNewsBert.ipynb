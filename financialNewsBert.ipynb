{
  "cells": [
    {
      "cell_type": "markdown",
      "metadata": {
        "id": "Ox7G3ZYq4yjt"
      },
      "source": [
        "## Importing swe-BERT for initial training"
      ]
    },
    {
      "cell_type": "code",
      "execution_count": 1,
      "metadata": {
        "colab": {
          "base_uri": "https://localhost:8080/"
        },
        "id": "s_lPyCgF4yjw",
        "outputId": "a8639eee-1e8c-4435-b1f0-e5bd8eab390d"
      },
      "outputs": [
        {
          "output_type": "stream",
          "name": "stdout",
          "text": [
            "Looking in indexes: https://pypi.org/simple, https://us-python.pkg.dev/colab-wheels/public/simple/\n",
            "Requirement already satisfied: transformers in /usr/local/lib/python3.9/dist-packages (4.26.1)\n",
            "Requirement already satisfied: filelock in /usr/local/lib/python3.9/dist-packages (from transformers) (3.9.0)\n",
            "Requirement already satisfied: pyyaml>=5.1 in /usr/local/lib/python3.9/dist-packages (from transformers) (6.0)\n",
            "Requirement already satisfied: numpy>=1.17 in /usr/local/lib/python3.9/dist-packages (from transformers) (1.22.4)\n",
            "Requirement already satisfied: huggingface-hub<1.0,>=0.11.0 in /usr/local/lib/python3.9/dist-packages (from transformers) (0.13.1)\n",
            "Requirement already satisfied: tokenizers!=0.11.3,<0.14,>=0.11.1 in /usr/local/lib/python3.9/dist-packages (from transformers) (0.13.2)\n",
            "Requirement already satisfied: requests in /usr/local/lib/python3.9/dist-packages (from transformers) (2.25.1)\n",
            "Requirement already satisfied: tqdm>=4.27 in /usr/local/lib/python3.9/dist-packages (from transformers) (4.65.0)\n",
            "Requirement already satisfied: packaging>=20.0 in /usr/local/lib/python3.9/dist-packages (from transformers) (23.0)\n",
            "Requirement already satisfied: regex!=2019.12.17 in /usr/local/lib/python3.9/dist-packages (from transformers) (2022.6.2)\n",
            "Requirement already satisfied: typing-extensions>=3.7.4.3 in /usr/local/lib/python3.9/dist-packages (from huggingface-hub<1.0,>=0.11.0->transformers) (4.5.0)\n",
            "Requirement already satisfied: idna<3,>=2.5 in /usr/local/lib/python3.9/dist-packages (from requests->transformers) (2.10)\n",
            "Requirement already satisfied: urllib3<1.27,>=1.21.1 in /usr/local/lib/python3.9/dist-packages (from requests->transformers) (1.26.14)\n",
            "Requirement already satisfied: chardet<5,>=3.0.2 in /usr/local/lib/python3.9/dist-packages (from requests->transformers) (4.0.0)\n",
            "Requirement already satisfied: certifi>=2017.4.17 in /usr/local/lib/python3.9/dist-packages (from requests->transformers) (2022.12.7)\n",
            "Looking in indexes: https://pypi.org/simple, https://us-python.pkg.dev/colab-wheels/public/simple/\n",
            "Requirement already satisfied: tqdm in /usr/local/lib/python3.9/dist-packages (4.65.0)\n",
            "cuda\n"
          ]
        }
      ],
      "source": [
        "!pip install transformers\n",
        "!pip install tqdm\n",
        "\n",
        "import torch\n",
        "import numpy as np\n",
        "import math\n",
        "from transformers import BertTokenizer, BertForSequenceClassification, BertModel, AutoModel\n",
        "from transformers.modeling_outputs import BaseModelOutputWithPooling\n",
        "device = torch.device('cuda') if torch.cuda.is_available() else torch.device('cpu')\n",
        "print(device)\n",
        "# collab command to install transformers\n"
      ]
    },
    {
      "cell_type": "code",
      "execution_count": 2,
      "metadata": {
        "id": "XOPF9_mE4yjx"
      },
      "outputs": [],
      "source": [
        "from torch.utils.data import Dataset\n",
        "\n",
        "\n",
        "import re\n",
        "def clean_txt (text):\n",
        "  text = re.sub(\"¹\", \"\", text)\n",
        "  text=re.sub(\"(\\\\W)+\",\"  \", text)\n",
        "  return text\n",
        "\n",
        "\n",
        "class SNLIDataset(Dataset):\n",
        "\n",
        "    def __init__(self, filename, max_size=None):\n",
        "        super().__init__()\n",
        "        self.xs = []\n",
        "        self.ys = []\n",
        "        self.sentence_lengths = np.array([])\n",
        "        count = 0\n",
        "        with open(filename, encoding=\"utf-8\") as source:\n",
        "            for i, line in enumerate(source):\n",
        "                if i == 0:\n",
        "                  continue\n",
        "                # print(line)\n",
        "                if max_size and i >= max_size:\n",
        "                    break\n",
        "                try:\n",
        "                  sentence, sentiment_value = line.rstrip().split('|') # Delimeter to be chosen\n",
        "                  count += 1\n",
        "                except:\n",
        "                  print( \"Error when processing the following data \", [line.rstrip().split('|')])\n",
        "                # print(sentence)\n",
        "                self.xs.append(clean_txt(sentence))\n",
        "                self.ys.append(int(sentiment_value.split(\"\\\"\")[0])) # make sure negative/neutral/positive is labelled correct\n",
        "                self.sentence_lengths = np.append(self.sentence_lengths, len(sentence.split(\" \")))\n",
        "\n",
        "    def __getitem__(self, idx):\n",
        "        return self.xs[idx], self.ys[idx]\n",
        "\n",
        "    def __len__(self):\n",
        "        return len(self.xs)\n",
        "\n",
        "class SNLIDataset_shell_class(SNLIDataset):\n",
        "    def __init__(self, xs, ys, sentence_lengths):\n",
        "      self.xs = xs\n",
        "      self.ys = ys\n",
        "      self.sentence_lengths = sentence_lengths"
      ]
    },
    {
      "cell_type": "code",
      "source": [
        "\n",
        "\n",
        "def divide_dataset_to_train_and_test(SNLIDataset, percentage_to_train):\n",
        "    random_indices = torch.randperm(len(SNLIDataset.xs))\n",
        "    num_of_sent_in_train = math.floor(len(SNLIDataset.xs)*(percentage_to_train))\n",
        " \n",
        "    train_dataset_xs = np.array(list(map(SNLIDataset.xs.__getitem__, random_indices[0:num_of_sent_in_train])))\n",
        "    train_dataset_ys = np.array(list(map(SNLIDataset.ys.__getitem__, random_indices[0:num_of_sent_in_train])))\n",
        "    train_dataset_sent_lengths = np.array(list(map(SNLIDataset.sentence_lengths.__getitem__, random_indices[0:num_of_sent_in_train])))\n",
        "\n",
        "\n",
        "    test_dataset_xs = np.array(list(map(SNLIDataset.xs.__getitem__, random_indices[num_of_sent_in_train:])))\n",
        "    test_dataset_ys = np.array(list(map(SNLIDataset.ys.__getitem__, random_indices[num_of_sent_in_train:])))\n",
        "    test_dataset_sent_lengths = np.array(list(map(SNLIDataset.sentence_lengths.__getitem__, random_indices[num_of_sent_in_train:])))\n",
        "  \n",
        "    train_dataset = SNLIDataset_shell_class(train_dataset_xs, train_dataset_ys, train_dataset_sent_lengths)\n",
        "\n",
        "    test_dataset = SNLIDataset_shell_class(test_dataset_xs, test_dataset_ys, test_dataset_sent_lengths)\n",
        "    \n",
        "\n",
        "    return train_dataset, test_dataset\n",
        "\n"
      ],
      "metadata": {
        "id": "WggYx43umASg"
      },
      "execution_count": 3,
      "outputs": []
    },
    {
      "cell_type": "markdown",
      "metadata": {
        "id": "HrCpUve_4yjy"
      },
      "source": [
        "## Create all datasets"
      ]
    },
    {
      "cell_type": "code",
      "execution_count": 4,
      "metadata": {
        "id": "NU2qKdwb4yjy",
        "colab": {
          "base_uri": "https://localhost:8080/"
        },
        "outputId": "0beef98e-2dd9-4f96-b337-3336b5c6ebac"
      },
      "outputs": [
        {
          "output_type": "stream",
          "name": "stdout",
          "text": [
            "Financial phrases train dataset length: 4,551\n",
            "Financial phrases test dataset length: 506\n",
            "Amazon reviews train dataset length: 27,000\n",
            "Amazon reviews test dataset length: 3,000\n",
            "Own collected news dataset length: 521\n"
          ]
        }
      ],
      "source": [
        "financial_news_train_dataset = SNLIDataset('./Financial Data/cleaned_financial_phrases_train.csv')\n",
        "financial_news_test_dataset = SNLIDataset('./Financial Data/cleaned_financial_phrases_test.csv')\n",
        "amazon_review_dataset = SNLIDataset('./amazon-review-data/cleaned_amazon_reviews.csv')\n",
        "test_dataset = SNLIDataset('./sweOnlyProcData/cleaned_all_news.txt')\n",
        "\n",
        "# data = financial_news_train_dataset[121]\n",
        "\n",
        "amazon_review_train_dataset, amazon_review_test_dataset = divide_dataset_to_train_and_test(amazon_review_dataset, 0.9)\n",
        "\n",
        "\n",
        "print(\"Financial phrases train dataset length: {:,}\".format(len(financial_news_train_dataset)))\n",
        "print(\"Financial phrases test dataset length: {:,}\".format(len(financial_news_test_dataset)))\n",
        "\n",
        "print(\"Amazon reviews train dataset length: {:,}\".format(len(amazon_review_train_dataset)))\n",
        "print(\"Amazon reviews test dataset length: {:,}\".format(len(amazon_review_test_dataset)))\n",
        "\n",
        "print(\"Own collected news dataset length: {:,}\".format(len(test_dataset)))\n",
        "\n"
      ]
    },
    {
      "cell_type": "code",
      "source": [
        "print(financial_news_train_dataset.xs[:10]) # Dataseten är på något vis olika formatterad som gör att det blir fel senare när man tränar modellen\n",
        "print(amazon_review_train_dataset.xs[:10])"
      ],
      "metadata": {
        "colab": {
          "base_uri": "https://localhost:8080/"
        },
        "id": "IjvEvCNo0Vs8",
        "outputId": "4f4236c9-1b7c-45de-ca01-85fe5045a937"
      },
      "execution_count": null,
      "outputs": [
        {
          "output_type": "stream",
          "name": "stdout",
          "text": [
            "['Finska  flygbolaget  Finnair  inleder  de  tillfälliga  uppsägningarna  av  kabinpersonal  i  februari  X  ', 'Motsvarande  ökning  av  aktiekapitalet  totalt  X  X  euro  registrerades  i  det  finska  handelsregistret  den  X  maj  X  ', 'Under  det  tredje  kvartalet  av  räkenskapsåret  X  svängde  Efore  till  en  nettoförlust  på  X  X  EUR  jämfört  med  en  nettovinst  på  X  X  EUR  för  motsvarande  period  X  ', 'ALEXANDRIA  Virginia  X  oktober  Aaron  Moss  från  Hampshire  Storbritannien  har  utvecklat  en  dekorativ  design  för  en  telefon  meddelade  US  Patent  amp  Trademark  Office  ', 'Vaisala  Oyj  Börsmeddelande  X  X  X  klo  X  X  X  X  Årsstämman  i  Vaisala  Oyj  beslutade  den  X  mars  X  att  godkänna  bolagets  årsredovisning  för  X  ', 'Produktens  framkantsvikning  maximerar  vädertålighet  och  möjliggör  en  sömlös  takfinish  ', 'Raute  är  noterat  på  den  nordiska  börsen  i  Helsingfors  ', 'KESKO  FOOD  AB  PRESSMEDDELANDE  X  X  X  KL  X  X  Kesko  Livs  Ab  inleder  en  stor  TV  kampanj  för  att  rekrytera  så  många  som  hundra  nya  K  mathandlare  ', 'W  Ærtsil  Æs  mål  är  att  betjäna  det  snabbt  växande  antalet  fartyg  och  ökande  marina  aktivitet  i  Barentshavsregionen  ', 'En  liten  url  länk  tar  användare  till  en  bedrägeriwebbplats  som  lovar  att  användare  kan  tjäna  tusentals  dollar  genom  att  bli  en  Google  NASDAQ  GOOG  Cash  annonsör  ']\n",
            "['Precis  vad  jag  ville  Äntligen  en  spegel  som  siktar  dit  du  vill  och  stannar  där  du  lägger  den  '\n",
            " 'Jag  älskar  den  här  mattan  u  den  är  supersöt  och  sååå  mjuk  Den  är  faktiskt  större  än  jag  trodde  att  den  skulle  vara  Det  är  lätt  att  fälla  ihop  och  lägga  undan  och  det  är  lätt  att  rengöra  Jag  behöver  fler  av  dessa  till  mitt  hus  gt  _  lt  '\n",
            " 'enorm'\n",
            " 'Köpte  denna  och  den  gick  sönder  första  dagen  Fick  en  annan  skickad  för  att  ersätta  den  Jobbar  än  så  länge  Projektorn  är  lite  snabb  för  att  vagga  i  sömnen  men  ljudet  fungerar  bra'\n",
            " 'Det  är  den  perfekta  kudden  för  min  X  åriga  son  Jag  visste  att  han  var  redo  för  en  riktig  kudde  när  han  började  bunta  ihop  sin  filt  och  lägga  huvudet  på  den  Kudden  är  skön  och  behåller  sin  form  väl  Jag  köpte  ett  extra  örngott  utan  att  inse  att  det  följde  med  ett  det  är  tydligt  märkt  att  det  gör  det  jag  skummade  bara  över  det  av  någon  anledning  Jag  är  dock  glad  att  jag  gjorde  det  för  nu  har  jag  en  extra  i  händelse  av  ett  sent  nattproblem  Bra  kudde  och  utmärkt  kundservice  med  uppföljningsmail  Jag  är  glad  att  kunna  stödja  ett  familjeägt  företag  med  produkter  tillverkade  i  USA  '\n",
            " 'Grundläggande  information  om  bebis  som  använder  detta  X  månader  gammal  Xlbs  Jag  älskar  den  här  blöjan  än  så  länge  Först  och  främst  kommer  den  med  X  inlägg  en  justerbar  storlek  som  blöjan  ett  tvättbart  foder  OCH  En  söt  matchande  torrväska  Fodermaterialet  är  supermjukt  De  yttre  delarna  resår  i  midjan  och  benen  som  kommer  i  kontakt  med  barnet  är  också  släta  De  justerbara  tryckknapparna  hjälper  benen  och  midjan  att  passa  väldigt  bra  bättre  än  min  BumGenius  säkert  Försökte  få  en  bild  av  hur  bra  benen  passade  men  LO  ville  inte  hålla  still  Och  något  som  du  inte  riktigt  skulle  tänka  på  den  här  WAHM  har  Om  du  inte  är  ny  på  fickblöjor  vet  du  hur  jobbigt  vissa  av  dem  är  att  stoppa  Öppningen  kan  vara  för  liten  eller  så  är  den  inre  delen  av  det  yttre  lagret  klibbig  och  svår  att  få  igenom  handen  när  du  greppar  insatserna  Inte  på  den  här  blöjan  Insidan  var  silkeslen  och  lätt  att  stoppa  i  Till  sist  Översikt  Den  sitter  jättebra  den  är  mjuk  på  alla  rätt  ställen  och  jag  älskar  det  tvättbara  fodret  för  att  rädda  blöjan  från  fläckar  Det  här  är  överlägset  min  favorit  fickblöja  jag  någonsin  har  använt  '\n",
            " 'De  stannar  inte  kvar  de  faller  upprepade  gånger  till  marken  De  behöver  ett  bättre  lim'\n",
            " 'Denna  orodukt  skulle  få  X  eller  X  stjärnor  om  den  inte  hade  slutat  ladda  inom  en  månad  Jag  beställde  ett  utbytesbatteri  och  trodde  att  det  skulle  lösa  problemet  men  det  gjorde  det  inte  Jag  vill  inte  investera  mer  pengar  på  att  köpa  en  ny  laddare  om  jag  ens  kunde  hitta  en  på  Amazon  När  jag  får  sladden  i  EXAKT  rätt  läge  laddas  den  ibland  men  då  räcker  batteriet  bara  några  timmar  Suck  pengar  i  sjön  '\n",
            " 'Jag  köpte  den  här  till  vår  plantskola  och  min  fru  älskar  den  redan  Vi  båda  provade  det  och  tyckte  att  det  var  väldigt  bekvämt  även  om  vi  inte  har  fått  vårt  barn  ännu  Jag  sitter  riktigt  bra  och  är  X  X  X  Naturligtvis  har  vi  inte  behövt  använda  den  än  så  vi  vet  inte  om  det  är  något  som  kommer  att  gå  fel  efter  det  men  för  tillfället  är  vi  båda  väldigt  nöjda  med  den  här  stolen  '\n",
            " 'Gör  underverk  för  att  hålla  mina  barns  djur  borta  från  sovrumsgolvet  ']\n"
          ]
        }
      ]
    },
    {
      "cell_type": "markdown",
      "metadata": {
        "id": "vCW4rqz4uF31"
      },
      "source": [
        "## Dataset analysis\n",
        "Here we analyze the length distribution for each dataset"
      ]
    },
    {
      "cell_type": "code",
      "execution_count": 5,
      "metadata": {
        "id": "hCIcaM4quF31"
      },
      "outputs": [],
      "source": [
        "import matplotlib.pyplot as plt\n",
        "\n",
        "def plot_data_length(sentence_lengths, datasetName, resolution=1, xparams=True):\n",
        "    plot_data_length.total_plots += 1\n",
        "    plt.figure(plot_data_length.total_plots)\n",
        "    plt.hist(sentence_lengths, bins=int(np.max(sentence_lengths)*resolution), density=True)\n",
        "    plt.xlabel(datasetName)\n",
        "    if not xparams:\n",
        "      plt.tick_params(bottom=False, labelbottom=False)\n",
        "\n",
        "plot_data_length.total_plots = 0"
      ]
    },
    {
      "cell_type": "markdown",
      "source": [
        "plot sentence lengths"
      ],
      "metadata": {
        "id": "2CkrOL8lBKcX"
      }
    },
    {
      "cell_type": "code",
      "source": [
        "plot_data_length(amazon_review_dataset.sentence_lengths, \"amazon_review_dataset\", 1/50)\n",
        "plot_data_length(np.concatenate([financial_news_test_dataset.sentence_lengths, financial_news_train_dataset.sentence_lengths]), \"financial_news_dataset\", 1/4)\n",
        "plot_data_length(test_dataset.sentence_lengths, \"financial_news_dataset\", 1/80)\n",
        "\n",
        "\n",
        "# Textfil på formatet data | label | datalängd\n",
        "\n",
        "# for sentence_length in amazon_reviews.sentence_lengths: 15,17 % av denna. Använd divide_dataset_to_train_and_test\n",
        "    # hitta rad i textfilen som har datalängd sentence length\n",
        "        # annars kolla datalängd sentence_length-1 (upprepa tills ngt hittas)\n",
        "    # ta bort den raden och lägg i separat textfil\n",
        "\n",
        "# for sentence_length in financial_phrases.sentence_lengths:  #HELA DENNA\n",
        "    # hitta rad i textfilen som har datalängd sentence length\n",
        "        # annars kolla datalängd sentence_length-1 (upprepa tills ngt hittas)\n",
        "    # ta bort den raden och lägg i separat textfil\n",
        "\n",
        "# for sentence_length in own_collected_news.sentence_lengths: # HELA DENNA \n",
        "        # hitta rad i textfilen som har datalängd sentence length\n",
        "        # annars kolla datalängd sentence_length-1 (upprepa tills ngt hittas)\n",
        "    # ta bort den raden och lägg i separat textfil"
      ],
      "metadata": {
        "colab": {
          "base_uri": "https://localhost:8080/",
          "height": 809
        },
        "id": "2Tw11K0sBIz7",
        "outputId": "085166ad-4fda-47d3-edc7-fc9a1587deb9"
      },
      "execution_count": null,
      "outputs": [
        {
          "output_type": "display_data",
          "data": {
            "text/plain": [
              "<Figure size 432x288 with 1 Axes>"
            ],
            "image/png": "[encoded data removed]"
          },
          "metadata": {
            "needs_background": "light"
          }
        },
        {
          "output_type": "display_data",
          "data": {
            "text/plain": [
              "<Figure size 432x288 with 1 Axes>"
            ],
            "image/png": "[encoded data removed]"
          },
          "metadata": {
            "needs_background": "light"
          }
        },
        {
          "output_type": "display_data",
          "data": {
            "text/plain": [
              "<Figure size 432x288 with 1 Axes>"
            ],
            "image/png": "[encoded data removed]"
          },
          "metadata": {
            "needs_background": "light"
          }
        }
      ]
    },
    {
      "cell_type": "markdown",
      "source": [
        "plot label distribution"
      ],
      "metadata": {
        "id": "fVzFS58LBNPS"
      }
    },
    {
      "cell_type": "code",
      "source": [
        "plot_data_length(amazon_review_dataset.ys, \"Amazon review distribution (Negative, Neutral, Positive)\", 1.5, xparams=False)\n",
        "plot_data_length(np.concatenate([financial_news_test_dataset.ys, financial_news_train_dataset.ys]), \"Financial news distribution (Negative, Neutral, Positive)\", 1.5, xparams=False)\n",
        "plot_data_length(test_dataset.ys, \"Financial news distribution (Negative, Neutral, Positive)\", 1.5, xparams=False)"
      ],
      "metadata": {
        "colab": {
          "base_uri": "https://localhost:8080/",
          "height": 752
        },
        "id": "i6aT5P6bBJiq",
        "outputId": "d901d221-ff09-43e4-b0f3-e5fbe04060df"
      },
      "execution_count": null,
      "outputs": [
        {
          "output_type": "display_data",
          "data": {
            "text/plain": [
              "<Figure size 432x288 with 1 Axes>"
            ],
            "image/png": "[encoded data removed]"
          },
          "metadata": {
            "needs_background": "light"
          }
        },
        {
          "output_type": "display_data",
          "data": {
            "text/plain": [
              "<Figure size 432x288 with 1 Axes>"
            ],
            "image/png": "[encoded data removed]"
          },
          "metadata": {
            "needs_background": "light"
          }
        },
        {
          "output_type": "display_data",
          "data": {
            "text/plain": [
              "<Figure size 432x288 with 1 Axes>"
            ],
            "image/png": "[encoded data removed]"
          },
          "metadata": {
            "needs_background": "light"
          }
        }
      ]
    },
    {
      "cell_type": "markdown",
      "metadata": {
        "id": "x0tgZwEq4yj0"
      },
      "source": [
        "## Import swedish bert"
      ]
    },
    {
      "cell_type": "code",
      "execution_count": 5,
      "metadata": {
        "colab": {
          "base_uri": "https://localhost:8080/"
        },
        "id": "ngd8efgP4yj0",
        "outputId": "d6e65cce-b293-41ef-fcac-da9bc3166051"
      },
      "outputs": [
        {
          "output_type": "stream",
          "name": "stderr",
          "text": [
            "Some weights of the model checkpoint at KB/bert-base-swedish-cased were not used when initializing BertModel: ['cls.predictions.decoder.bias', 'cls.predictions.transform.LayerNorm.bias', 'cls.predictions.transform.dense.bias', 'cls.predictions.decoder.weight', 'cls.predictions.bias', 'cls.predictions.transform.LayerNorm.weight', 'cls.predictions.transform.dense.weight']\n",
            "- This IS expected if you are initializing BertModel from the checkpoint of a model trained on another task or with another architecture (e.g. initializing a BertForSequenceClassification model from a BertForPreTraining model).\n",
            "- This IS NOT expected if you are initializing BertModel from the checkpoint of a model that you expect to be exactly identical (initializing a BertForSequenceClassification model from a BertForSequenceClassification model).\n"
          ]
        }
      ],
      "source": [
        "tokenizer = BertTokenizer.from_pretrained('KB/bert-base-swedish-cased', do_lower_case=False)\n",
        "bert = AutoModel.from_pretrained('KB/bert-base-swedish-cased')"
      ]
    },
    {
      "cell_type": "code",
      "execution_count": 6,
      "metadata": {
        "colab": {
          "base_uri": "https://localhost:8080/"
        },
        "id": "ojp1xQBq4yj0",
        "outputId": "b763f564-bcff-475e-8a81-91c82c0e4f7b"
      },
      "outputs": [
        {
          "output_type": "stream",
          "name": "stdout",
          "text": [
            "Detta  var  dagens  affär  så  cirka  X  X  rabatt  love  it  great  item  gjort  riktigt  bra  Ett  plus  för  mig  var  det  orange  Skulle  köpa  igen  om  det  behövs  i  framtiden  inga  klagomål\n",
            "tensor([[    2,  1478,    96,  2814,  1877,   181,  2408,  2167,  2167,  7127,\n",
            "         13217,  7226, 41618,  7226,   125,  1169,  1765,   522,   864,  4339,\n",
            "            43,   680,    96,    82, 27311,  6478,  2983,  1238,   100,    82,\n",
            "          3530,    31,  3534,  1740, 19988,     3]])\n",
            "{'input_ids': tensor([[    2,  1478,    96,  2814,  1877,   181,  2408,  2167,  2167,  7127,\n",
            "         13217,  7226, 41618,  7226,   125,  1169,  1765,   522,   864,  4339,\n",
            "            43,   680,    96,    82, 27311,  6478,  2983,  1238,   100,    82,\n",
            "          3530,    31,  3534,  1740, 19988,     3]]), 'token_type_ids': tensor([[0, 0, 0, 0, 0, 0, 0, 0, 0, 0, 0, 0, 0, 0, 0, 0, 0, 0, 0, 0, 0, 0, 0, 0,\n",
            "         0, 0, 0, 0, 0, 0, 0, 0, 0, 0, 0, 0]]), 'attention_mask': tensor([[1, 1, 1, 1, 1, 1, 1, 1, 1, 1, 1, 1, 1, 1, 1, 1, 1, 1, 1, 1, 1, 1, 1, 1,\n",
            "         1, 1, 1, 1, 1, 1, 1, 1, 1, 1, 1, 1]])}\n"
          ]
        }
      ],
      "source": [
        "tokenized = tokenizer(text=amazon_review_train_dataset[1][0], padding='longest', return_tensors='pt')\n",
        "print(amazon_review_train_dataset[1][0])\n",
        "print(tokenized.input_ids)\n",
        "print(tokenized)"
      ]
    },
    {
      "cell_type": "markdown",
      "metadata": {
        "id": "pyx9uwrO4yj1"
      },
      "source": [
        "### Define colate function that tokenizes"
      ]
    },
    {
      "cell_type": "code",
      "execution_count": 7,
      "metadata": {
        "id": "ASAcPEuauF33"
      },
      "outputs": [],
      "source": [
        "def tensor_split(text1, seq_size=200, overlap=50, add_to_start = 2):\n",
        "  l_total = []\n",
        "  l_parcial = []\n",
        "  cls_tokens = torch.unsqueeze(torch.as_tensor([add_to_start]* text1.shape[0]), dim=1)\n",
        "  if text1.shape[1]//(seq_size-overlap) >0:\n",
        "    n = text1.shape[1]//(seq_size-overlap)\n",
        "  else: \n",
        "    n = 1\n",
        "  for w in range(n):\n",
        "    if w == 0:\n",
        "      # l_parcial = torch.concat([cls_tokens, text1[:,:seq_size]], dim=1)\n",
        "      l_parcial = text1[:,:seq_size]\n",
        "      l_total.append(l_parcial.to(device))\n",
        "    else:\n",
        "      # l_parcial = torch.concat([cls_tokens, text1[:,w*(seq_size-overlap):w*(seq_size-overlap) + seq_size]], dim=1)\n",
        "      l_parcial = text1[:,w*(seq_size-overlap):w*(seq_size-overlap) + seq_size]\n",
        "      l_total.append(l_parcial.to(device))\n",
        "  return l_total"
      ]
    },
    {
      "cell_type": "code",
      "execution_count": 8,
      "metadata": {
        "id": "n42CPT4o4yj1"
      },
      "outputs": [],
      "source": [
        "def our_collate_fn(data):\n",
        "    x = [a[0] for a in data]\n",
        "    y = [a[1] for a in data]\n",
        "    tokenized = tokenizer(text=x, padding='longest', return_tensors='pt')\n",
        "\n",
        "    return tokenized['input_ids'], torch.as_tensor(y), tokenized['attention_mask']"
      ]
    },
    {
      "cell_type": "code",
      "execution_count": 9,
      "metadata": {
        "id": "ULmii5oWuF33"
      },
      "outputs": [],
      "source": [
        "from torch.utils.data import DataLoader\n",
        "\n",
        "def create_training_examples(dataset, batch_size = 64, seq_size = 200, overlap = 50):\n",
        "    batch_sort_order = np.array_split(dataset.sentence_lengths.argsort()[::-1], round(len(dataset) / batch_size))\n",
        "    tokenized_train_data = DataLoader(dataset, collate_fn=our_collate_fn, batch_sampler=batch_sort_order) #\n",
        "\n",
        "    for bindex, (bx, by, ba) in enumerate(tokenized_train_data):\n",
        "        yield tensor_split(bx, seq_size, overlap), tensor_split(ba, seq_size, overlap, add_to_start=1), by.to(device)\n",
        "                \n",
        "\n",
        "\n"
      ]
    },
    {
      "cell_type": "code",
      "execution_count": 10,
      "metadata": {
        "colab": {
          "base_uri": "https://localhost:8080/"
        },
        "id": "YXhye472uF34",
        "outputId": "e1fedc53-6c0f-447e-dda3-0244ee71ca60"
      },
      "outputs": [
        {
          "output_type": "stream",
          "name": "stdout",
          "text": [
            "Input shape: [3, 5, 10]\n",
            "Output shape: [3, 5, 20]\n",
            "Last hidden state shape: [1, 3, 20]\n"
          ]
        }
      ],
      "source": [
        "import torch.nn as nn\n",
        "\n",
        "rnn = nn.LSTM(10, 20, batch_first = True)\n",
        "input = torch.randn(3, 5, 10)\n",
        "h0 = torch.randn(1, 3, 20)\n",
        "c0 = torch.randn(1, 3, 20)\n",
        "output, (hn, cn) = rnn(input, (h0, c0))\n",
        "\n",
        "print(\"Input shape: {}\".format([*input.shape]))\n",
        "print(\"Output shape: {}\".format([*output.shape]))\n",
        "print(\"Last hidden state shape: {}\".format([*hn.shape]))"
      ]
    },
    {
      "cell_type": "code",
      "execution_count": 10,
      "metadata": {
        "id": "Y35jjoeIuF34"
      },
      "outputs": [],
      "source": [
        "import torch.nn as nn\n",
        "from sklearn import metrics\n",
        "\n",
        "\n",
        "class DocBert(nn.Module):\n",
        "    def __init__(self, bert, hidden_dim=20, num_labels=3):\n",
        "        super().__init__()\n",
        "        self.bert =  bert.to(device) # INTE BertForSequenceClassification\n",
        "        self.lstm = nn.LSTM(bert.config.hidden_size, hidden_dim, batch_first=True).to(device)\n",
        "        # Input [Batch_size, sequence_length, input_size]\n",
        "        # Output [1, batch_size, hidden_dim]\n",
        "        self.relu = nn.ReLU()\n",
        "        self.linear = nn.Linear(hidden_dim, num_labels).to(device)\n",
        "    \n",
        "    def forward(self, x_seqs, a_seqs):\n",
        "      output = []\n",
        "      for x_seq, a_seq in zip(x_seqs, a_seqs):\n",
        "        # print(\"x_seq, a_seq = {}, {}\".format(x_seq, a_seq))\n",
        "        output.append(self.bert(x_seq, a_seq)[0][:,0,:]) # Only get the embedding of the [CLS]-token [batch_size, number_of_sequences, input_size]\n",
        "      # print(output)\n",
        "      _ , (output, _) = self.lstm(torch.stack(output, dim=1)) # [1, batch_size, hidden_dim]\n",
        "      output = self.relu(output)\n",
        "      return self.linear(torch.squeeze(output, dim=0))\n",
        "      #   bertified_seqs.append()\n",
        "      # self.lstm(, )\n",
        "\n",
        "    def predict(self, x_seq, a_seq):\n",
        "      output = self.forward(x_seq, a_seq)\n",
        "      # print(\"Output from forward: {}\".format(output))\n",
        "      batch_guess = torch.argmax(output, dim=1)\n",
        "      return batch_guess\n",
        "\n",
        "    def get_confusion_matrix(self, sequences, batch_size=8):\n",
        "      predicted_tensor = torch.as_tensor([])\n",
        "      correct_tensor = torch.as_tensor([])\n",
        "\n",
        "      current_correct = 0\n",
        "      \n",
        "      current_tried = 0\n",
        "      for x_seq, a_seq, by in create_training_examples(sequences, batch_size=batch_size):\n",
        "        prediction = self.predict(x_seq, a_seq).to(\"cpu\")\n",
        "        # print(\"Prediction: {} \\t Actual {}\".format(*prediction, *by) )\n",
        "        predicted_tensor = torch.concat((predicted_tensor, prediction))\n",
        "        correct_tensor = torch.concat((correct_tensor, by.to(\"cpu\")))\n",
        "        # current_correct += torch.sum(prediction==by)\n",
        "        # current_tried += batch_size\n",
        "      confusion_matrix = metrics.confusion_matrix(correct_tensor.numpy(), predicted_tensor.numpy())\n",
        "      \n",
        "\n",
        "\n",
        "      return confusion_matrix\n",
        "\n",
        "    def accuracy(self, sequences, batch_size=8):\n",
        "      current_correct = 0\n",
        "      \n",
        "      current_tried = 0\n",
        "      for x_seq, a_seq, by in create_training_examples(sequences, batch_size=batch_size):\n",
        "        prediction = self.predict(x_seq, a_seq).to(device)\n",
        "        # print(\"Prediction: {} \\t Actual {}\".format(*prediction, *by) )\n",
        "        \n",
        "        current_correct += torch.sum(prediction==by)\n",
        "        current_tried += batch_size\n",
        "\n",
        "      return current_correct / current_tried\n"
      ]
    },
    {
      "cell_type": "markdown",
      "metadata": {
        "id": "Tc3wjfjP4yj2"
      },
      "source": [
        "#### Functions for training and testing a model"
      ]
    },
    {
      "cell_type": "code",
      "execution_count": 11,
      "metadata": {
        "id": "PzLbWwOxR3Qf"
      },
      "outputs": [],
      "source": [
        "import torch.nn.functional as F\n",
        "def train_docbert(pretrained_bert, dataset, hidden_dim=512, num_labels=3, epochs=1):\n",
        "  docbert = DocBert(pretrained_bert, hidden_dim, num_labels)\n",
        "  optimizer = torch.optim.Adam(docbert.parameters(), lr=2e-5) #lr based on docbert article\n",
        "  for epoch in range(epochs):\n",
        "    i = 0\n",
        "    tot_loss = 0\n",
        "    for x_seqs, a_seqs, by in create_training_examples(dataset, batch_size=8, seq_size=200, overlap=50):\n",
        "      optimizer.zero_grad()\n",
        "      preds = docbert.forward(x_seqs, a_seqs)\n",
        "      loss = F.cross_entropy(preds, by)\n",
        "      tot_loss += loss\n",
        "      i += 1\n",
        "      if i % 200 == 0:\n",
        "        print(tot_loss / 200)\n",
        "        tot_loss = 0\n",
        "      loss.backward()\n",
        "      optimizer.step()\n",
        "    \n",
        "  return docbert\n",
        "\n",
        "\n",
        "def calc_opt_epoch_docbert(pretrained_bert, dataset, validation_dataset, hidden_dim=512, num_labels=3, max_epochs=50):\n",
        "  docbert = DocBert(pretrained_bert, hidden_dim, num_labels)\n",
        "  optimizer = torch.optim.Adam(docbert.parameters(), lr=2e-5) #lr based on docbert article\n",
        "  last_accuracy = torch.as_tensor(0)\n",
        "  for epoch in range(max_epochs):\n",
        "    print(\"--- EPOCH {} ---\".format(epoch))\n",
        "    \n",
        "    \n",
        "    for x_seqs, a_seqs, by in create_training_examples(dataset, batch_size=8, seq_size=200, overlap=50):\n",
        "      optimizer.zero_grad()\n",
        "      preds = docbert.forward(x_seqs, a_seqs)\n",
        "      loss = F.cross_entropy(preds, by)\n",
        "      \n",
        "      loss.backward()\n",
        "      optimizer.step()\n",
        "    accuracy = docbert.accuracy(validation_dataset, batch_size=1)\n",
        "    print(\"current accuracy: {:.2f}\".format(100*accuracy))\n",
        "    # if torch.round(1000*accuracy) <= torch.round(1000*last_accuracy):\n",
        "    #   return epoch-1\n",
        "    last_accuracy = accuracy\n",
        "  return max_epochs\n",
        "\n"
      ]
    },
    {
      "cell_type": "code",
      "source": [
        "def calc_from_conf_matrix(conf_matrix, label_names):\n",
        "    col_sums = [0, 0, 0]\n",
        "    row_sums = []\n",
        "    tot_sum = 0\n",
        "    for rindex, row in enumerate(conf_matrix):\n",
        "        col_sums += row\n",
        "        row_sums.append(sum(row))\n",
        "    tot_sum = sum(row_sums)\n",
        "\n",
        "    accuracy = 0\n",
        "    for i in range(len(label_names)):\n",
        "         \n",
        "        # precision\n",
        "        precision = conf_matrix[i][i] / col_sums[i]\n",
        "        print(\"Precision for {} is {:.2f}%\".format(label_names[i], 100*precision))\n",
        "\n",
        "        # recall\n",
        "        recall = conf_matrix[i][i] / row_sums[i]\n",
        "        print(\"Recall for {} is {:.2f}%\".format(label_names[i], 100*recall))\n",
        "\n",
        "        accuracy += conf_matrix[i][i]\n",
        "    \n",
        "    # accuracy\n",
        "    print(\"Total accuracy is {:.2f}%\".format(100*accuracy/tot_sum))\n"
      ],
      "metadata": {
        "id": "rx4e6KYVUOl5"
      },
      "execution_count": 12,
      "outputs": []
    },
    {
      "cell_type": "code",
      "source": [
        "docbert_amazon = train_docbert(bert, amazon_review_train_dataset, epochs=3)"
      ],
      "metadata": {
        "colab": {
          "base_uri": "https://localhost:8080/"
        },
        "id": "kSFUn68NmS4l",
        "outputId": "782e2e9a-0ee9-44a3-b035-7e190599a4f2"
      },
      "execution_count": 14,
      "outputs": [
        {
          "output_type": "stream",
          "name": "stdout",
          "text": [
            "tensor(0.5986, device='cuda:0', grad_fn=<DivBackward0>)\n",
            "tensor(0.4374, device='cuda:0', grad_fn=<DivBackward0>)\n",
            "tensor(0.3809, device='cuda:0', grad_fn=<DivBackward0>)\n",
            "tensor(0.3592, device='cuda:0', grad_fn=<DivBackward0>)\n",
            "tensor(0.3495, device='cuda:0', grad_fn=<DivBackward0>)\n",
            "tensor(0.3429, device='cuda:0', grad_fn=<DivBackward0>)\n",
            "tensor(0.3431, device='cuda:0', grad_fn=<DivBackward0>)\n",
            "tensor(0.3273, device='cuda:0', grad_fn=<DivBackward0>)\n",
            "tensor(0.3456, device='cuda:0', grad_fn=<DivBackward0>)\n",
            "tensor(0.2872, device='cuda:0', grad_fn=<DivBackward0>)\n",
            "tensor(0.2993, device='cuda:0', grad_fn=<DivBackward0>)\n",
            "tensor(0.2907, device='cuda:0', grad_fn=<DivBackward0>)\n",
            "tensor(0.2919, device='cuda:0', grad_fn=<DivBackward0>)\n",
            "tensor(0.2469, device='cuda:0', grad_fn=<DivBackward0>)\n",
            "tensor(0.2174, device='cuda:0', grad_fn=<DivBackward0>)\n",
            "tensor(0.1830, device='cuda:0', grad_fn=<DivBackward0>)\n",
            "tensor(0.3475, device='cuda:0', grad_fn=<DivBackward0>)\n",
            "tensor(0.2659, device='cuda:0', grad_fn=<DivBackward0>)\n",
            "tensor(0.2521, device='cuda:0', grad_fn=<DivBackward0>)\n",
            "tensor(0.2460, device='cuda:0', grad_fn=<DivBackward0>)\n",
            "tensor(0.2377, device='cuda:0', grad_fn=<DivBackward0>)\n",
            "tensor(0.2393, device='cuda:0', grad_fn=<DivBackward0>)\n",
            "tensor(0.2406, device='cuda:0', grad_fn=<DivBackward0>)\n",
            "tensor(0.2116, device='cuda:0', grad_fn=<DivBackward0>)\n",
            "tensor(0.2292, device='cuda:0', grad_fn=<DivBackward0>)\n",
            "tensor(0.1973, device='cuda:0', grad_fn=<DivBackward0>)\n",
            "tensor(0.2078, device='cuda:0', grad_fn=<DivBackward0>)\n",
            "tensor(0.2116, device='cuda:0', grad_fn=<DivBackward0>)\n",
            "tensor(0.1879, device='cuda:0', grad_fn=<DivBackward0>)\n",
            "tensor(0.1845, device='cuda:0', grad_fn=<DivBackward0>)\n",
            "tensor(0.1513, device='cuda:0', grad_fn=<DivBackward0>)\n",
            "tensor(0.1482, device='cuda:0', grad_fn=<DivBackward0>)\n",
            "tensor(0.2304, device='cuda:0', grad_fn=<DivBackward0>)\n",
            "tensor(0.1697, device='cuda:0', grad_fn=<DivBackward0>)\n",
            "tensor(0.1644, device='cuda:0', grad_fn=<DivBackward0>)\n",
            "tensor(0.1628, device='cuda:0', grad_fn=<DivBackward0>)\n",
            "tensor(0.1566, device='cuda:0', grad_fn=<DivBackward0>)\n",
            "tensor(0.1478, device='cuda:0', grad_fn=<DivBackward0>)\n",
            "tensor(0.1746, device='cuda:0', grad_fn=<DivBackward0>)\n",
            "tensor(0.1310, device='cuda:0', grad_fn=<DivBackward0>)\n",
            "tensor(0.1475, device='cuda:0', grad_fn=<DivBackward0>)\n",
            "tensor(0.1428, device='cuda:0', grad_fn=<DivBackward0>)\n",
            "tensor(0.1403, device='cuda:0', grad_fn=<DivBackward0>)\n",
            "tensor(0.1300, device='cuda:0', grad_fn=<DivBackward0>)\n",
            "tensor(0.1209, device='cuda:0', grad_fn=<DivBackward0>)\n",
            "tensor(0.1566, device='cuda:0', grad_fn=<DivBackward0>)\n",
            "tensor(0.1126, device='cuda:0', grad_fn=<DivBackward0>)\n",
            "tensor(0.1210, device='cuda:0', grad_fn=<DivBackward0>)\n"
          ]
        }
      ]
    },
    {
      "cell_type": "code",
      "source": [
        "docbert_finance = train_docbert(bert, financial_news_train_dataset, epochs=22)"
      ],
      "metadata": {
        "id": "X2XFxwK04K5t",
        "colab": {
          "base_uri": "https://localhost:8080/"
        },
        "outputId": "1f9fa387-6b32-470f-e2fa-44bb5f6b8530"
      },
      "execution_count": 13,
      "outputs": [
        {
          "output_type": "stream",
          "name": "stdout",
          "text": [
            "tensor(0.7027, device='cuda:0', grad_fn=<DivBackward0>)\n",
            "tensor(0.4325, device='cuda:0', grad_fn=<DivBackward0>)\n",
            "tensor(0.3178, device='cuda:0', grad_fn=<DivBackward0>)\n",
            "tensor(0.2246, device='cuda:0', grad_fn=<DivBackward0>)\n",
            "tensor(0.1879, device='cuda:0', grad_fn=<DivBackward0>)\n",
            "tensor(0.1334, device='cuda:0', grad_fn=<DivBackward0>)\n",
            "tensor(0.1320, device='cuda:0', grad_fn=<DivBackward0>)\n",
            "tensor(0.0784, device='cuda:0', grad_fn=<DivBackward0>)\n",
            "tensor(0.1005, device='cuda:0', grad_fn=<DivBackward0>)\n",
            "tensor(0.0802, device='cuda:0', grad_fn=<DivBackward0>)\n",
            "tensor(0.0810, device='cuda:0', grad_fn=<DivBackward0>)\n",
            "tensor(0.0574, device='cuda:0', grad_fn=<DivBackward0>)\n",
            "tensor(0.0606, device='cuda:0', grad_fn=<DivBackward0>)\n",
            "tensor(0.0323, device='cuda:0', grad_fn=<DivBackward0>)\n",
            "tensor(0.0353, device='cuda:0', grad_fn=<DivBackward0>)\n",
            "tensor(0.0560, device='cuda:0', grad_fn=<DivBackward0>)\n",
            "tensor(0.0337, device='cuda:0', grad_fn=<DivBackward0>)\n",
            "tensor(0.0371, device='cuda:0', grad_fn=<DivBackward0>)\n",
            "tensor(0.0146, device='cuda:0', grad_fn=<DivBackward0>)\n",
            "tensor(0.0418, device='cuda:0', grad_fn=<DivBackward0>)\n",
            "tensor(0.0217, device='cuda:0', grad_fn=<DivBackward0>)\n",
            "tensor(0.0647, device='cuda:0', grad_fn=<DivBackward0>)\n",
            "tensor(0.0367, device='cuda:0', grad_fn=<DivBackward0>)\n",
            "tensor(0.0356, device='cuda:0', grad_fn=<DivBackward0>)\n",
            "tensor(0.0220, device='cuda:0', grad_fn=<DivBackward0>)\n",
            "tensor(0.0208, device='cuda:0', grad_fn=<DivBackward0>)\n",
            "tensor(0.0150, device='cuda:0', grad_fn=<DivBackward0>)\n",
            "tensor(0.0108, device='cuda:0', grad_fn=<DivBackward0>)\n",
            "tensor(0.0101, device='cuda:0', grad_fn=<DivBackward0>)\n",
            "tensor(0.0032, device='cuda:0', grad_fn=<DivBackward0>)\n",
            "tensor(0.0333, device='cuda:0', grad_fn=<DivBackward0>)\n",
            "tensor(0.0336, device='cuda:0', grad_fn=<DivBackward0>)\n",
            "tensor(0.0456, device='cuda:0', grad_fn=<DivBackward0>)\n",
            "tensor(0.0458, device='cuda:0', grad_fn=<DivBackward0>)\n",
            "tensor(0.0439, device='cuda:0', grad_fn=<DivBackward0>)\n",
            "tensor(0.0161, device='cuda:0', grad_fn=<DivBackward0>)\n",
            "tensor(0.0285, device='cuda:0', grad_fn=<DivBackward0>)\n",
            "tensor(0.0238, device='cuda:0', grad_fn=<DivBackward0>)\n",
            "tensor(0.0134, device='cuda:0', grad_fn=<DivBackward0>)\n",
            "tensor(0.0119, device='cuda:0', grad_fn=<DivBackward0>)\n",
            "tensor(0.0117, device='cuda:0', grad_fn=<DivBackward0>)\n",
            "tensor(0.0033, device='cuda:0', grad_fn=<DivBackward0>)\n",
            "tensor(0.0073, device='cuda:0', grad_fn=<DivBackward0>)\n",
            "tensor(0.0015, device='cuda:0', grad_fn=<DivBackward0>)\n"
          ]
        }
      ]
    },
    {
      "cell_type": "code",
      "source": [
        "golden_epoch_count = calc_opt_epoch_docbert(bert, amazon_review_train_dataset, amazon_review_test_dataset)\n",
        "print(\"best epoch amount: {}\".format(golden_epoch_count))"
      ],
      "metadata": {
        "colab": {
          "base_uri": "https://localhost:8080/",
          "height": 657
        },
        "id": "nrie9iGVnPZ8",
        "outputId": "8f3b727f-2633-434b-a524-97f1882b24a1"
      },
      "execution_count": 14,
      "outputs": [
        {
          "output_type": "stream",
          "name": "stdout",
          "text": [
            "--- EPOCH 0 ---\n",
            "current accuracy: 87.83\n",
            "--- EPOCH 1 ---\n",
            "current accuracy: 88.63\n",
            "--- EPOCH 2 ---\n",
            "current accuracy: 88.30\n",
            "--- EPOCH 3 ---\n",
            "current accuracy: 89.17\n",
            "--- EPOCH 4 ---\n",
            "current accuracy: 88.57\n",
            "--- EPOCH 5 ---\n",
            "current accuracy: 88.73\n",
            "--- EPOCH 6 ---\n",
            "current accuracy: 87.03\n",
            "--- EPOCH 7 ---\n",
            "current accuracy: 87.47\n",
            "--- EPOCH 8 ---\n"
          ]
        },
        {
          "output_type": "error",
          "ename": "KeyboardInterrupt",
          "evalue": "ignored",
          "traceback": [
            "\u001b[0;31m---------------------------------------------------------------------------\u001b[0m",
            "\u001b[0;31mKeyboardInterrupt\u001b[0m                         Traceback (most recent call last)",
            "\u001b[0;32m<ipython-input-14-2f5ebad70a3f>\u001b[0m in \u001b[0;36m<module>\u001b[0;34m\u001b[0m\n\u001b[0;32m----> 1\u001b[0;31m \u001b[0mgolden_epoch_count\u001b[0m \u001b[0;34m=\u001b[0m \u001b[0mcalc_opt_epoch_docbert\u001b[0m\u001b[0;34m(\u001b[0m\u001b[0mbert\u001b[0m\u001b[0;34m,\u001b[0m \u001b[0mamazon_review_train_dataset\u001b[0m\u001b[0;34m,\u001b[0m \u001b[0mamazon_review_test_dataset\u001b[0m\u001b[0;34m)\u001b[0m\u001b[0;34m\u001b[0m\u001b[0;34m\u001b[0m\u001b[0m\n\u001b[0m\u001b[1;32m      2\u001b[0m \u001b[0mprint\u001b[0m\u001b[0;34m(\u001b[0m\u001b[0;34m\"best epoch amount: {}\"\u001b[0m\u001b[0;34m.\u001b[0m\u001b[0mformat\u001b[0m\u001b[0;34m(\u001b[0m\u001b[0mgolden_epoch_count\u001b[0m\u001b[0;34m)\u001b[0m\u001b[0;34m)\u001b[0m\u001b[0;34m\u001b[0m\u001b[0;34m\u001b[0m\u001b[0m\n",
            "\u001b[0;32m<ipython-input-12-ec8ac6b5c717>\u001b[0m in \u001b[0;36mcalc_opt_epoch_docbert\u001b[0;34m(pretrained_bert, dataset, validation_dataset, hidden_dim, num_labels, max_epochs)\u001b[0m\n\u001b[1;32m     34\u001b[0m       \u001b[0mloss\u001b[0m \u001b[0;34m=\u001b[0m \u001b[0mF\u001b[0m\u001b[0;34m.\u001b[0m\u001b[0mcross_entropy\u001b[0m\u001b[0;34m(\u001b[0m\u001b[0mpreds\u001b[0m\u001b[0;34m,\u001b[0m \u001b[0mby\u001b[0m\u001b[0;34m)\u001b[0m\u001b[0;34m\u001b[0m\u001b[0;34m\u001b[0m\u001b[0m\n\u001b[1;32m     35\u001b[0m \u001b[0;34m\u001b[0m\u001b[0m\n\u001b[0;32m---> 36\u001b[0;31m       \u001b[0mloss\u001b[0m\u001b[0;34m.\u001b[0m\u001b[0mbackward\u001b[0m\u001b[0;34m(\u001b[0m\u001b[0;34m)\u001b[0m\u001b[0;34m\u001b[0m\u001b[0;34m\u001b[0m\u001b[0m\n\u001b[0m\u001b[1;32m     37\u001b[0m       \u001b[0moptimizer\u001b[0m\u001b[0;34m.\u001b[0m\u001b[0mstep\u001b[0m\u001b[0;34m(\u001b[0m\u001b[0;34m)\u001b[0m\u001b[0;34m\u001b[0m\u001b[0;34m\u001b[0m\u001b[0m\n\u001b[1;32m     38\u001b[0m     \u001b[0maccuracy\u001b[0m \u001b[0;34m=\u001b[0m \u001b[0mdocbert\u001b[0m\u001b[0;34m.\u001b[0m\u001b[0maccuracy\u001b[0m\u001b[0;34m(\u001b[0m\u001b[0mvalidation_dataset\u001b[0m\u001b[0;34m,\u001b[0m \u001b[0mbatch_size\u001b[0m\u001b[0;34m=\u001b[0m\u001b[0;36m1\u001b[0m\u001b[0;34m)\u001b[0m\u001b[0;34m\u001b[0m\u001b[0;34m\u001b[0m\u001b[0m\n",
            "\u001b[0;32m/usr/local/lib/python3.9/dist-packages/torch/_tensor.py\u001b[0m in \u001b[0;36mbackward\u001b[0;34m(self, gradient, retain_graph, create_graph, inputs)\u001b[0m\n\u001b[1;32m    486\u001b[0m                 \u001b[0minputs\u001b[0m\u001b[0;34m=\u001b[0m\u001b[0minputs\u001b[0m\u001b[0;34m,\u001b[0m\u001b[0;34m\u001b[0m\u001b[0;34m\u001b[0m\u001b[0m\n\u001b[1;32m    487\u001b[0m             )\n\u001b[0;32m--> 488\u001b[0;31m         torch.autograd.backward(\n\u001b[0m\u001b[1;32m    489\u001b[0m             \u001b[0mself\u001b[0m\u001b[0;34m,\u001b[0m \u001b[0mgradient\u001b[0m\u001b[0;34m,\u001b[0m \u001b[0mretain_graph\u001b[0m\u001b[0;34m,\u001b[0m \u001b[0mcreate_graph\u001b[0m\u001b[0;34m,\u001b[0m \u001b[0minputs\u001b[0m\u001b[0;34m=\u001b[0m\u001b[0minputs\u001b[0m\u001b[0;34m\u001b[0m\u001b[0;34m\u001b[0m\u001b[0m\n\u001b[1;32m    490\u001b[0m         )\n",
            "\u001b[0;32m/usr/local/lib/python3.9/dist-packages/torch/autograd/__init__.py\u001b[0m in \u001b[0;36mbackward\u001b[0;34m(tensors, grad_tensors, retain_graph, create_graph, grad_variables, inputs)\u001b[0m\n\u001b[1;32m    195\u001b[0m     \u001b[0;31m# some Python versions print out the first line of a multi-line function\u001b[0m\u001b[0;34m\u001b[0m\u001b[0;34m\u001b[0m\u001b[0m\n\u001b[1;32m    196\u001b[0m     \u001b[0;31m# calls in the traceback and some print out the last line\u001b[0m\u001b[0;34m\u001b[0m\u001b[0;34m\u001b[0m\u001b[0m\n\u001b[0;32m--> 197\u001b[0;31m     Variable._execution_engine.run_backward(  # Calls into the C++ engine to run the backward pass\n\u001b[0m\u001b[1;32m    198\u001b[0m         \u001b[0mtensors\u001b[0m\u001b[0;34m,\u001b[0m \u001b[0mgrad_tensors_\u001b[0m\u001b[0;34m,\u001b[0m \u001b[0mretain_graph\u001b[0m\u001b[0;34m,\u001b[0m \u001b[0mcreate_graph\u001b[0m\u001b[0;34m,\u001b[0m \u001b[0minputs\u001b[0m\u001b[0;34m,\u001b[0m\u001b[0;34m\u001b[0m\u001b[0;34m\u001b[0m\u001b[0m\n\u001b[1;32m    199\u001b[0m         allow_unreachable=True, accumulate_grad=True)  # Calls into the C++ engine to run the backward pass\n",
            "\u001b[0;31mKeyboardInterrupt\u001b[0m: "
          ]
        }
      ]
    },
    {
      "cell_type": "code",
      "source": [
        "golden_epoch_count = calc_opt_epoch_docbert(bert, financial_news_train_dataset, financial_news_test_dataset)\n",
        "print(\"best epoch amount: {}\".format(golden_epoch_count))"
      ],
      "metadata": {
        "colab": {
          "base_uri": "https://localhost:8080/"
        },
        "id": "Fh1UVKzYu3JY",
        "outputId": "52946206-a446-4152-f35d-a06051250fe7"
      },
      "execution_count": null,
      "outputs": [
        {
          "output_type": "stream",
          "name": "stdout",
          "text": [
            "--- EPOCH 0 ---\n",
            "current accuracy: 74.70\n",
            "--- EPOCH 1 ---\n",
            "current accuracy: 83.60\n",
            "--- EPOCH 2 ---\n",
            "current accuracy: 84.19\n",
            "--- EPOCH 3 ---\n",
            "current accuracy: 84.39\n",
            "--- EPOCH 4 ---\n",
            "current accuracy: 84.19\n",
            "--- EPOCH 5 ---\n",
            "current accuracy: 84.19\n",
            "--- EPOCH 6 ---\n",
            "current accuracy: 84.19\n",
            "--- EPOCH 7 ---\n",
            "current accuracy: 84.19\n",
            "--- EPOCH 8 ---\n",
            "current accuracy: 82.61\n",
            "--- EPOCH 9 ---\n",
            "current accuracy: 83.99\n",
            "--- EPOCH 10 ---\n",
            "current accuracy: 84.78\n",
            "--- EPOCH 11 ---\n",
            "current accuracy: 83.60\n",
            "--- EPOCH 12 ---\n",
            "current accuracy: 83.79\n",
            "--- EPOCH 13 ---\n",
            "current accuracy: 82.61\n",
            "--- EPOCH 14 ---\n",
            "current accuracy: 83.20\n",
            "--- EPOCH 15 ---\n",
            "current accuracy: 83.40\n",
            "--- EPOCH 16 ---\n",
            "current accuracy: 83.00\n",
            "--- EPOCH 17 ---\n",
            "current accuracy: 83.99\n",
            "--- EPOCH 18 ---\n",
            "current accuracy: 83.79\n",
            "--- EPOCH 19 ---\n",
            "current accuracy: 81.82\n",
            "--- EPOCH 20 ---\n",
            "current accuracy: 83.00\n",
            "--- EPOCH 21 ---\n",
            "current accuracy: 79.25\n",
            "--- EPOCH 22 ---\n",
            "current accuracy: 84.19\n",
            "--- EPOCH 23 ---\n",
            "current accuracy: 82.81\n",
            "--- EPOCH 24 ---\n",
            "current accuracy: 83.99\n",
            "--- EPOCH 25 ---\n",
            "current accuracy: 83.60\n",
            "--- EPOCH 26 ---\n",
            "current accuracy: 82.81\n",
            "--- EPOCH 27 ---\n",
            "current accuracy: 83.00\n",
            "--- EPOCH 28 ---\n",
            "current accuracy: 82.61\n",
            "--- EPOCH 29 ---\n",
            "current accuracy: 83.20\n",
            "--- EPOCH 30 ---\n",
            "current accuracy: 82.21\n",
            "--- EPOCH 31 ---\n",
            "current accuracy: 82.02\n",
            "--- EPOCH 32 ---\n",
            "current accuracy: 82.61\n",
            "--- EPOCH 33 ---\n",
            "current accuracy: 82.61\n",
            "--- EPOCH 34 ---\n",
            "current accuracy: 82.41\n",
            "--- EPOCH 35 ---\n",
            "current accuracy: 82.21\n",
            "--- EPOCH 36 ---\n",
            "current accuracy: 82.81\n",
            "--- EPOCH 37 ---\n",
            "current accuracy: 82.02\n",
            "--- EPOCH 38 ---\n",
            "current accuracy: 82.21\n",
            "--- EPOCH 39 ---\n",
            "current accuracy: 82.61\n",
            "--- EPOCH 40 ---\n",
            "current accuracy: 81.62\n",
            "--- EPOCH 41 ---\n",
            "current accuracy: 80.24\n",
            "--- EPOCH 42 ---\n",
            "current accuracy: 80.04\n",
            "--- EPOCH 43 ---\n",
            "current accuracy: 80.04\n",
            "--- EPOCH 44 ---\n",
            "current accuracy: 80.04\n",
            "--- EPOCH 45 ---\n",
            "current accuracy: 80.04\n",
            "--- EPOCH 46 ---\n",
            "current accuracy: 80.04\n",
            "--- EPOCH 47 ---\n",
            "current accuracy: 79.05\n",
            "--- EPOCH 48 ---\n",
            "current accuracy: 81.82\n",
            "--- EPOCH 49 ---\n",
            "current accuracy: 82.41\n",
            "best epoch amount: 50\n"
          ]
        }
      ]
    },
    {
      "cell_type": "markdown",
      "source": [
        "# Results for financial news train dataset\n",
        "\n",
        "The following is the results from the financial phrases."
      ],
      "metadata": {
        "id": "Q0Y3UDgLmocY"
      }
    },
    {
      "cell_type": "code",
      "source": [
        "import matplotlib.pyplot as plt\n",
        "\n",
        "\n",
        "conf_m_fin = docbert_finance.get_confusion_matrix(test_dataset, batch_size=1)\n",
        "\n",
        "cm_display = metrics.ConfusionMatrixDisplay(confusion_matrix = conf_m_fin, display_labels = [\"negative\", \"neutral\", \"positive\"])\n",
        "cm_display.plot()"
      ],
      "metadata": {
        "colab": {
          "base_uri": "https://localhost:8080/",
          "height": 297
        },
        "id": "1TdkWgvdUkrZ",
        "outputId": "c24c1c72-94bb-43a8-dc85-33afdfc35ed2"
      },
      "execution_count": 14,
      "outputs": [
        {
          "output_type": "execute_result",
          "data": {
            "text/plain": [
              "<sklearn.metrics._plot.confusion_matrix.ConfusionMatrixDisplay at 0x7ff46d1c6b50>"
            ]
          },
          "metadata": {},
          "execution_count": 14
        },
        {
          "output_type": "display_data",
          "data": {
            "text/plain": [
              "<Figure size 432x288 with 2 Axes>"
            ],
            "image/png": "[encoded data removed]"
          },
          "metadata": {
            "needs_background": "light"
          }
        }
      ]
    },
    {
      "cell_type": "code",
      "execution_count": 15,
      "metadata": {
        "id": "eOjHNMEv4yj2",
        "colab": {
          "base_uri": "https://localhost:8080/"
        },
        "outputId": "213cee1c-e94f-494f-8d65-6d8944aad565"
      },
      "outputs": [
        {
          "output_type": "stream",
          "name": "stdout",
          "text": [
            "[[  0  21  12]\n",
            " [ 10 207  59]\n",
            " [  1 142  69]]\n",
            "Precision for Negative is 0.00%\n",
            "Recall for Negative is 0.00%\n",
            "Precision for Neutral is 55.95%\n",
            "Recall for Neutral is 75.00%\n",
            "Precision for Positive is 49.29%\n",
            "Recall for Positive is 32.55%\n",
            "Total accuracy is 52.98%\n"
          ]
        }
      ],
      "source": [
        "print(conf_m_fin)\n",
        "calc_from_conf_matrix(conf_m_fin, [\"Negative\", \"Neutral\", \"Positive\"])\n"
      ]
    },
    {
      "cell_type": "markdown",
      "source": [
        "# Results for amazon review train dataset\n",
        "\n",
        "The following is the results from the amazon review dataset."
      ],
      "metadata": {
        "id": "jkLds0FAm1vp"
      }
    },
    {
      "cell_type": "code",
      "source": [
        "import matplotlib.pyplot as plt\n",
        "\n",
        "\n",
        "conf_m_ama = docbert_amazon.get_confusion_matrix(test_dataset, batch_size=1)\n",
        "\n",
        "cm_display = metrics.ConfusionMatrixDisplay(confusion_matrix = conf_m_ama, display_labels = [\"negative\", \"neutral\", \"positive\"])\n",
        "cm_display.plot()"
      ],
      "metadata": {
        "colab": {
          "base_uri": "https://localhost:8080/",
          "height": 297
        },
        "id": "toIr_2Umm91M",
        "outputId": "f09bfab3-7b54-4857-d6fc-98f773ad3430"
      },
      "execution_count": 15,
      "outputs": [
        {
          "output_type": "execute_result",
          "data": {
            "text/plain": [
              "<sklearn.metrics._plot.confusion_matrix.ConfusionMatrixDisplay at 0x7f33153abf40>"
            ]
          },
          "metadata": {},
          "execution_count": 15
        },
        {
          "output_type": "display_data",
          "data": {
            "text/plain": [
              "<Figure size 432x288 with 2 Axes>"
            ],
            "image/png": "[encoded data removed]"
          },
          "metadata": {
            "needs_background": "light"
          }
        }
      ]
    },
    {
      "cell_type": "code",
      "source": [
        "print(conf_m_ama)\n",
        "calc_from_conf_matrix(conf_m_ama, [\"Negative\", \"Neutral\", \"Positive\"])\n"
      ],
      "metadata": {
        "colab": {
          "base_uri": "https://localhost:8080/"
        },
        "id": "XmfPFlKom_2B",
        "outputId": "def003de-b5b5-4746-9aeb-e721b1c4d411"
      },
      "execution_count": 16,
      "outputs": [
        {
          "output_type": "stream",
          "name": "stdout",
          "text": [
            "[[  1   1  31]\n",
            " [  4   9 263]\n",
            " [  6   1 205]]\n",
            "Precision for Negative is 9.09%\n",
            "Recall for Negative is 3.03%\n",
            "Precision for Neutral is 81.82%\n",
            "Recall for Neutral is 3.26%\n",
            "Precision for Positive is 41.08%\n",
            "Recall for Positive is 96.70%\n",
            "Total accuracy is 41.27%\n"
          ]
        }
      ]
    },
    {
      "cell_type": "markdown",
      "source": [
        "# Money calculations\n",
        "Given that all money is invested at every purchase, this is the percentage gain after buying every stock which the model predicted as positive.\n",
        "\n",
        "* A true positive news corresponds to a 4.9% increase in stock price.\n",
        "\n",
        "* A true negative news corresponds to a 5.1% decrease in stock price.\n",
        "\n",
        "* A true neutral news corresponds to a 0.1% decrease due to brokerage."
      ],
      "metadata": {
        "id": "Paefa5cDp_8a"
      }
    },
    {
      "cell_type": "code",
      "source": [
        "def calc_winnings(conf_matrix):\n",
        "    return 0.949**conf_matrix[0][2] * 0.99**conf_matrix[1][2] * 1.051**conf_matrix[2][2]"
      ],
      "metadata": {
        "id": "RcFfDW_2p_H7"
      },
      "execution_count": 17,
      "outputs": []
    },
    {
      "cell_type": "code",
      "source": [
        "winning_factor = calc_winnings(conf_m_fin)\n",
        "# winning_factor = calc_winnings(conf_m_ama)\n",
        "start_capital = 10000\n",
        "\n",
        "print(\"By investing {} SEK, we would mulitply our initial investment by {:.3f}, thus having {:.0f} SEK\".format(start_capital, winning_factor, start_capital*winning_factor))"
      ],
      "metadata": {
        "colab": {
          "base_uri": "https://localhost:8080/"
        },
        "id": "jE3uQgqZrmrS",
        "outputId": "6abad2dd-2b20-4f81-f494-1194e8940cf6"
      },
      "execution_count": 18,
      "outputs": [
        {
          "output_type": "stream",
          "name": "stdout",
          "text": [
            "By investing 10000 SEK, we would mulitply our initial investment by 9.126, thus having 91255 SEK\n"
          ]
        }
      ]
    },
    {
      "cell_type": "markdown",
      "metadata": {
        "id": "6lnkrQf9sEhx"
      },
      "source": [
        "## Train and save the financial model"
      ]
    },
    {
      "cell_type": "code",
      "source": [],
      "metadata": {
        "id": "VH9MwnkTwkN9"
      },
      "execution_count": null,
      "outputs": []
    },
    {
      "cell_type": "code",
      "execution_count": null,
      "metadata": {
        "id": "9QzggwTk4yj2"
      },
      "outputs": [],
      "source": []
    },
    {
      "cell_type": "markdown",
      "metadata": {
        "id": "rSzk4FKwsMni"
      },
      "source": [
        "## Load the financial model and evaluate it on similar test-data \n",
        "accuracy should be 88%+"
      ]
    },
    {
      "cell_type": "code",
      "execution_count": null,
      "metadata": {
        "id": "VGjjZWoQdFxa"
      },
      "outputs": [],
      "source": [
        "\n",
        "\n"
      ]
    },
    {
      "cell_type": "code",
      "execution_count": null,
      "metadata": {
        "id": "yPXYKeFSqEhS"
      },
      "outputs": [],
      "source": []
    }
  ],
  "metadata": {
    "accelerator": "GPU",
    "colab": {
      "collapsed_sections": [
        "vCW4rqz4uF31"
      ],
      "provenance": []
    },
    "gpuClass": "standard",
    "kernelspec": {
      "display_name": "venv",
      "language": "python",
      "name": "python3"
    },
    "language_info": {
      "codemirror_mode": {
        "name": "ipython",
        "version": 3
      },
      "file_extension": ".py",
      "mimetype": "text/x-python",
      "name": "python",
      "nbconvert_exporter": "python",
      "pygments_lexer": "ipython3",
      "version": "3.10.10"
    },
    "orig_nbformat": 4,
    "vscode": {
      "interpreter": {
        "hash": "43b1b630598a744212fd16e5095ab3aa6d4637b887bcabe04ae192328f97bb8f"
      }
    }
  },
  "nbformat": 4,
  "nbformat_minor": 0
}